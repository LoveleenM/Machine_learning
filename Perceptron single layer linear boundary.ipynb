{
 "cells": [
  {
   "cell_type": "code",
   "execution_count": 2,
   "metadata": {},
   "outputs": [],
   "source": [
    "import numpy as np\n",
    "import matplotlib.pyplot as plt\n"
   ]
  },
  {
   "cell_type": "code",
   "execution_count": 3,
   "metadata": {},
   "outputs": [],
   "source": [
    "from sklearn.datasets import make_blobs"
   ]
  },
  {
   "cell_type": "code",
   "execution_count": 4,
   "metadata": {},
   "outputs": [],
   "source": [
    "X,y=make_blobs(n_samples=500,n_features=2,centers=2,random_state=10)"
   ]
  },
  {
   "cell_type": "code",
   "execution_count": 5,
   "metadata": {},
   "outputs": [
    {
     "data": {
      "text/plain": [
       "(500, 2)"
      ]
     },
     "execution_count": 5,
     "metadata": {},
     "output_type": "execute_result"
    }
   ],
   "source": [
    "X.shape"
   ]
  },
  {
   "cell_type": "code",
   "execution_count": 6,
   "metadata": {},
   "outputs": [
    {
     "data": {
      "text/plain": [
       "(500,)"
      ]
     },
     "execution_count": 6,
     "metadata": {},
     "output_type": "execute_result"
    }
   ],
   "source": [
    "y.shape"
   ]
  },
  {
   "cell_type": "code",
   "execution_count": 7,
   "metadata": {},
   "outputs": [],
   "source": [
    "#X"
   ]
  },
  {
   "cell_type": "code",
   "execution_count": 8,
   "metadata": {},
   "outputs": [
    {
     "data": {
      "image/png": "[encoded data removed]",
      "text/plain": [
       "<Figure size 432x288 with 1 Axes>"
      ]
     },
     "metadata": {},
     "output_type": "display_data"
    }
   ],
   "source": [
    "plt.scatter(X[:,0],X[:,1],c=y)\n",
    "plt.show()"
   ]
  },
  {
   "cell_type": "code",
   "execution_count": 9,
   "metadata": {},
   "outputs": [],
   "source": [
    "def sigmoid(z):\n",
    "    return (1.0)/(1+np.exp(-z))"
   ]
  },
  {
   "cell_type": "code",
   "execution_count": 10,
   "metadata": {},
   "outputs": [
    {
     "data": {
      "text/plain": [
       "0.9933071490757153"
      ]
     },
     "execution_count": 10,
     "metadata": {},
     "output_type": "execute_result"
    }
   ],
   "source": [
    "sigmoid(5)"
   ]
  },
  {
   "cell_type": "code",
   "execution_count": 11,
   "metadata": {},
   "outputs": [],
   "source": [
    "z=np.array([1,2,3,4,5])#broadcasting not available with lists#calculates the sigmoid of each number"
   ]
  },
  {
   "cell_type": "code",
   "execution_count": 12,
   "metadata": {},
   "outputs": [
    {
     "data": {
      "text/plain": [
       "array([0.73105858, 0.88079708, 0.95257413, 0.98201379, 0.99330715])"
      ]
     },
     "execution_count": 12,
     "metadata": {},
     "output_type": "execute_result"
    }
   ],
   "source": [
    "sigmoid(z)"
   ]
  },
  {
   "cell_type": "code",
   "execution_count": 13,
   "metadata": {},
   "outputs": [],
   "source": [
    "def predict(X,w):#X=(m*n*1)W=(n*1)\n",
    "    #print(X)#500,3\n",
    "    z=np.dot(X,w)#3,1\n",
    "    print(z.shape)#500\n",
    "    prediction=sigmoid(z)\n",
    "    return prediction\n",
    "\n",
    "\n",
    "\n",
    "def loss(X,w,y):\n",
    "    predictions=predict(X,w)\n",
    "    print(predictions.shape)\n",
    "    cost=np.mean(-y*np.log(predictions)-(1-y)*np.log(1-predictions))\n",
    "    return cost\n",
    "                 \n",
    "                 \n",
    "def update(X,w,y,lr):\n",
    "    predictions=predict(X,w)\n",
    "    \n",
    "    dw=np.dot(X.T,predictions-y)#3,500 and 500,\n",
    "    m=X.shape[0]\n",
    "    w=w-lr*dw/(float(m))\n",
    "    return w\n",
    "\n",
    "                 \n",
    "def train(X,y,lr=0.5,max_epochs=100):\n",
    "    ones=np.ones((X.shape[0],1))\n",
    "    X=np.hstack((ones,X))\n",
    "    \n",
    "    weights=np.zeros((X.shape[1]))\n",
    "    for poch in range(max_epochs):\n",
    "        weights=update(X,weights,y,lr)\n",
    "        if poch %10==0:\n",
    "            losss=loss(X,weights,y)\n",
    "            print(\"epoch %d loss %.4f\"%(poch,losss))\n",
    "    return weights"
   ]
  },
  {
   "cell_type": "code",
   "execution_count": 14,
   "metadata": {},
   "outputs": [
    {
     "name": "stdout",
     "output_type": "stream",
     "text": [
      "(500,)\n",
      "(500,)\n",
      "(500,)\n",
      "epoch 0 loss 0.0006\n",
      "(500,)\n",
      "(500,)\n",
      "(500,)\n",
      "(500,)\n",
      "(500,)\n",
      "(500,)\n",
      "(500,)\n",
      "(500,)\n",
      "(500,)\n",
      "(500,)\n",
      "(500,)\n",
      "(500,)\n",
      "epoch 10 loss 0.0005\n",
      "(500,)\n",
      "(500,)\n",
      "(500,)\n",
      "(500,)\n",
      "(500,)\n",
      "(500,)\n",
      "(500,)\n",
      "(500,)\n",
      "(500,)\n",
      "(500,)\n",
      "(500,)\n",
      "(500,)\n",
      "epoch 20 loss 0.0005\n",
      "(500,)\n",
      "(500,)\n",
      "(500,)\n",
      "(500,)\n",
      "(500,)\n",
      "(500,)\n",
      "(500,)\n",
      "(500,)\n",
      "(500,)\n",
      "(500,)\n",
      "(500,)\n",
      "(500,)\n",
      "epoch 30 loss 0.0005\n",
      "(500,)\n",
      "(500,)\n",
      "(500,)\n",
      "(500,)\n",
      "(500,)\n",
      "(500,)\n",
      "(500,)\n",
      "(500,)\n",
      "(500,)\n",
      "(500,)\n",
      "(500,)\n",
      "(500,)\n",
      "epoch 40 loss 0.0005\n",
      "(500,)\n",
      "(500,)\n",
      "(500,)\n",
      "(500,)\n",
      "(500,)\n",
      "(500,)\n",
      "(500,)\n",
      "(500,)\n",
      "(500,)\n",
      "(500,)\n",
      "(500,)\n",
      "(500,)\n",
      "epoch 50 loss 0.0004\n",
      "(500,)\n",
      "(500,)\n",
      "(500,)\n",
      "(500,)\n",
      "(500,)\n",
      "(500,)\n",
      "(500,)\n",
      "(500,)\n",
      "(500,)\n",
      "(500,)\n",
      "(500,)\n",
      "(500,)\n",
      "epoch 60 loss 0.0004\n",
      "(500,)\n",
      "(500,)\n",
      "(500,)\n",
      "(500,)\n",
      "(500,)\n",
      "(500,)\n",
      "(500,)\n",
      "(500,)\n",
      "(500,)\n",
      "(500,)\n",
      "(500,)\n",
      "(500,)\n",
      "epoch 70 loss 0.0004\n",
      "(500,)\n",
      "(500,)\n",
      "(500,)\n",
      "(500,)\n",
      "(500,)\n",
      "(500,)\n",
      "(500,)\n",
      "(500,)\n",
      "(500,)\n",
      "(500,)\n",
      "(500,)\n",
      "(500,)\n",
      "epoch 80 loss 0.0004\n",
      "(500,)\n",
      "(500,)\n",
      "(500,)\n",
      "(500,)\n",
      "(500,)\n",
      "(500,)\n",
      "(500,)\n",
      "(500,)\n",
      "(500,)\n",
      "(500,)\n",
      "(500,)\n",
      "(500,)\n",
      "epoch 90 loss 0.0004\n",
      "(500,)\n",
      "(500,)\n",
      "(500,)\n",
      "(500,)\n",
      "(500,)\n",
      "(500,)\n",
      "(500,)\n",
      "(500,)\n",
      "(500,)\n"
     ]
    }
   ],
   "source": [
    "weights=train(X,y)"
   ]
  },
  {
   "cell_type": "code",
   "execution_count": 15,
   "metadata": {},
   "outputs": [
    {
     "data": {
      "text/plain": [
       "array([ 0.02204952, -0.30768518,  1.90003958])"
      ]
     },
     "execution_count": 15,
     "metadata": {},
     "output_type": "execute_result"
    }
   ],
   "source": [
    "weights"
   ]
  },
  {
   "cell_type": "code",
   "execution_count": 16,
   "metadata": {},
   "outputs": [],
   "source": [
    "def getPredictions(x_test,w,labels=True):\n",
    "    print(x_test.shape,w.shape)\n",
    "    if x_test.shape[1]!=w.shape[0]:\n",
    "        ones=np.ones((x_test.shape[0],1))\n",
    "        x_test=np.hstack((ones,x_test))\n",
    "    \n",
    "    probs=predict(x_test,w)\n",
    "    \n",
    "    if labels!=True:\n",
    "        return probs\n",
    "    else :\n",
    "        labels=np.zeros((probs.shape))\n",
    "        labels[probs>0.5]=1\n",
    "        return labels\n",
    "    "
   ]
  },
  {
   "cell_type": "code",
   "execution_count": 17,
   "metadata": {},
   "outputs": [],
   "source": [
    "x1=np.linspace(0,8,10)\n",
    "x2=-(weights[0]+weights[1]*x1)/weights[2]"
   ]
  },
  {
   "cell_type": "code",
   "execution_count": 18,
   "metadata": {},
   "outputs": [
    {
     "data": {
      "image/png": "[encoded data removed]",
      "text/plain": [
       "<Figure size 432x288 with 1 Axes>"
      ]
     },
     "metadata": {},
     "output_type": "display_data"
    }
   ],
   "source": [
    "plt.scatter(X[:,0],X[:,1],c=y)\n",
    "plt.plot(x1,x2,c='red')\n",
    "plt.show()"
   ]
  },
  {
   "cell_type": "code",
   "execution_count": 19,
   "metadata": {},
   "outputs": [
    {
     "name": "stdout",
     "output_type": "stream",
     "text": [
      "(500, 2) (3,)\n",
      "(500,)\n"
     ]
    }
   ],
   "source": [
    "y_PRED=getPredictions(X,weights,labels=True)"
   ]
  },
  {
   "cell_type": "code",
   "execution_count": 20,
   "metadata": {},
   "outputs": [
    {
     "name": "stdout",
     "output_type": "stream",
     "text": [
      "[0. 0. 1. 1. 1. 1. 0. 0. 1. 1. 1. 0. 0. 1. 0. 0. 0. 1. 1. 1. 0. 0. 0. 0.\n",
      " 0. 0. 0. 1. 0. 0. 1. 0. 1. 0. 0. 1. 1. 0. 1. 1. 1. 0. 0. 0. 1. 0. 0. 1.\n",
      " 0. 0. 1. 0. 0. 1. 1. 0. 0. 0. 0. 0. 0. 1. 0. 1. 0. 1. 1. 1. 1. 0. 0. 1.\n",
      " 1. 0. 0. 0. 0. 0. 1. 0. 1. 0. 1. 0. 0. 0. 1. 1. 1. 0. 0. 1. 1. 0. 1. 0.\n",
      " 0. 0. 1. 1. 0. 0. 1. 0. 0. 0. 1. 0. 1. 1. 0. 1. 0. 1. 1. 0. 1. 0. 0. 0.\n",
      " 0. 1. 0. 0. 1. 1. 1. 0. 1. 1. 1. 0. 0. 1. 1. 0. 1. 0. 0. 1. 1. 1. 0. 0.\n",
      " 0. 1. 1. 0. 1. 1. 0. 0. 0. 1. 1. 0. 0. 1. 1. 1. 1. 0. 0. 1. 1. 1. 1. 1.\n",
      " 1. 0. 0. 1. 1. 0. 0. 0. 1. 1. 1. 0. 1. 1. 0. 1. 1. 1. 0. 1. 0. 1. 0. 0.\n",
      " 0. 1. 1. 0. 0. 1. 0. 0. 0. 1. 1. 0. 1. 0. 1. 0. 0. 0. 1. 0. 1. 1. 1. 1.\n",
      " 1. 1. 1. 0. 1. 1. 0. 0. 1. 1. 1. 0. 0. 1. 0. 0. 1. 1. 1. 1. 1. 1. 0. 1.\n",
      " 1. 1. 0. 1. 0. 1. 1. 0. 1. 0. 1. 0. 0. 0. 1. 0. 0. 0. 0. 0. 1. 1. 1. 0.\n",
      " 1. 1. 0. 1. 0. 0. 1. 1. 0. 1. 0. 0. 0. 1. 0. 0. 0. 0. 1. 0. 1. 0. 0. 0.\n",
      " 1. 1. 1. 0. 1. 0. 0. 1. 0. 0. 0. 0. 1. 0. 0. 0. 0. 1. 0. 0. 0. 1. 0. 1.\n",
      " 0. 0. 1. 1. 0. 1. 1. 1. 1. 0. 1. 1. 1. 1. 1. 1. 0. 0. 1. 0. 1. 0. 0. 0.\n",
      " 0. 1. 0. 0. 1. 1. 0. 0. 0. 0. 0. 1. 0. 0. 0. 0. 0. 1. 1. 1. 1. 1. 1. 1.\n",
      " 1. 1. 1. 1. 1. 0. 1. 1. 1. 1. 0. 0. 0. 0. 0. 0. 1. 0. 0. 0. 1. 0. 0. 1.\n",
      " 1. 0. 1. 1. 1. 0. 0. 0. 1. 1. 1. 1. 1. 0. 1. 0. 0. 1. 1. 0. 0. 1. 0. 0.\n",
      " 1. 1. 1. 1. 0. 1. 1. 0. 1. 1. 0. 1. 0. 1. 0. 0. 1. 1. 1. 1. 0. 1. 1. 0.\n",
      " 1. 0. 0. 1. 1. 1. 0. 0. 1. 1. 1. 0. 1. 0. 1. 1. 0. 1. 1. 1. 0. 1. 1. 0.\n",
      " 0. 0. 1. 1. 0. 0. 1. 0. 0. 0. 1. 0. 1. 0. 0. 0. 1. 1. 1. 0. 0. 0. 1. 1.\n",
      " 0. 1. 1. 0. 1. 0. 1. 1. 0. 1. 1. 0. 0. 1. 0. 0. 1. 0. 0. 1.]\n"
     ]
    }
   ],
   "source": [
    "print(y_PRED)"
   ]
  },
  {
   "cell_type": "code",
   "execution_count": 21,
   "metadata": {},
   "outputs": [
    {
     "name": "stdout",
     "output_type": "stream",
     "text": [
      "100.00000000000004\n"
     ]
    }
   ],
   "source": [
    "accuracy=np.sum((y==y_PRED)/y.shape[0])\n",
    "print(accuracy*100)"
   ]
  },
  {
   "cell_type": "code",
   "execution_count": null,
   "metadata": {},
   "outputs": [],
   "source": []
  },
  {
   "cell_type": "code",
   "execution_count": null,
   "metadata": {},
   "outputs": [],
   "source": []
  }
 ],
 "metadata": {
  "kernelspec": {
   "display_name": "Python 3",
   "language": "python",
   "name": "python3"
  },
  "language_info": {
   "codemirror_mode": {
    "name": "ipython",
    "version": 3
   },
   "file_extension": ".py",
   "mimetype": "text/x-python",
   "name": "python",
   "nbconvert_exporter": "python",
   "pygments_lexer": "ipython3",
   "version": "3.6.6"
  }
 },
 "nbformat": 4,
 "nbformat_minor": 2
}
