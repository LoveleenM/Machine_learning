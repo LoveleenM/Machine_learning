{
 "cells": [
  {
   "cell_type": "code",
   "execution_count": 67,
   "metadata": {},
   "outputs": [],
   "source": [
    "#!pip install emoji"
   ]
  },
  {
   "cell_type": "code",
   "execution_count": 1,
   "metadata": {},
   "outputs": [],
   "source": [
    "import emoji"
   ]
  },
  {
   "cell_type": "code",
   "execution_count": 2,
   "metadata": {},
   "outputs": [],
   "source": [
    "#print(emoji.emojize('Python is :thumbs_up:'))"
   ]
  },
  {
   "cell_type": "code",
   "execution_count": 3,
   "metadata": {},
   "outputs": [],
   "source": [
    "#print(emoji.emojize('Python is :thumbsup:', use_aliases=True))"
   ]
  },
  {
   "cell_type": "code",
   "execution_count": 2,
   "metadata": {},
   "outputs": [
    {
     "name": "stdout",
     "output_type": "stream",
     "text": [
      "{u'\\u2604': u':comet:', u'\\U0001f38d': u':pine_decoration:', u'\\U0001f68f': u':bus_stop:', u'\\U0001f50e': u':magnifying_glass_tilted_right:', u'\\U0001f991': u':squid:', u'\\U0001f933\\U0001f3fb': u':selfie_light_skin_tone:', u'\\U0001f4a3': u':bomb:', u'\\U0001f468\\u200d\\U0001f373': u':man_cook:', u'\\U0001f933\\U0001f3ff': u':selfie_dark_skin_tone:', u'\\U0001f933\\U0001f3fe': u':selfie_medium-dark_skin_tone:', u'\\U0001f933\\U0001f3fd': u':selfie_medium_skin_tone:', u'\\U0001f926': u':person_facepalming:', u'\\U0001f926\\U0001f3fd\\u200d\\u2642\\ufe0f': u':man_facepalming_medium_skin_tone:', u'\\U0001f438': u':frog_face:', u'\\U0001f93e\\u200d\\u2642\\ufe0f': u':man_playing_handball:', u'\\U0001f4b4': u':yen_banknote:', u'\\U0001f468\\u200d\\u2764\\ufe0f\\u200d\\U0001f468': u':couple_with_heart_man_man:', u'\\U0001f3cd': u':motorcycle:', u'\\U0001f575\\U0001f3fc\\u200d\\u2640\\ufe0f': u':woman_detective_medium-light_skin_tone:', u'\\U0001f54e': u':menorah:', u'\\U0001f9d1': u':adult:', u'\\U0001f9d8\\U0001f3fd\\u200d\\u2642\\ufe0f': u':man_in_lotus_position_medium_skin_tone:', u'\\U0001f4e3': u':megaphone:', u'\\U0001f362': u':oden:', u'\\U0001f966': u':broccoli:', u'\\u23ed': u':next_track_button:', u'\\U0001f478': u':princess:', u'\\u2705': u':white_heavy_check_mark:', u'\\U0001f1e9\\U0001f1ff': u':Algeria:', u'\\u26f9\\U0001f3fe\\u200d\\u2640\\ufe0f': u':woman_bouncing_ball_medium-dark_skin_tone:', u'\\U0001f1e9\\U0001f1f0': u':Denmark:', u'\\U0001f9db\\U0001f3fe\\u200d\\u2640\\ufe0f': u':woman_vampire_medium-dark_skin_tone:', u'\\U0001f1e9\\U0001f1f2': u':Dominica:', u'\\U0001f30d': u':globe_showing_Europe-Africa:', u'\\U0001f1e9\\U0001f1f4': u':Dominican_Republic:', u'\\U0001f60f': u':smirking_face:', u'\\U0001f911': u':money-mouth_face:', u'\\U0001f1e9\\U0001f1ea': u':Germany:', u'\\U0001f44e\\U0001f3fc': u':thumbs_down_medium-light_skin_tone:', u'\\U0001f1e9\\U0001f1ec': u':Diego_Garcia:', u'\\U0001f44e\\U0001f3fe': u':thumbs_down_medium-dark_skin_tone:', u'\\U0001f44e\\U0001f3ff': u':thumbs_down_dark_skin_tone:', u'\\U0001f1f2\\U0001f1f4': u':Macau_SAR_China:', u'\\U0001f1f2\\U0001f1f5': u':Northern_Mariana_Islands:', u'\\U0001f423': u':hatching_chick:', u'\\U0001f1f2\\U0001f1f7': u':Mauritania:', u'\\U0001f1f2\\U0001f1f0': u':Macedonia:', u'\\U0001f1f2\\U0001f1f1': u':Mali:', u'\\U0001f1f2\\U0001f1f2': u':Myanmar_(Burma):', u'\\U0001f1f2\\U0001f1f3': u':Mongolia:', u'\\U0001f1f2\\U0001f1fc': u':Malawi:', u'\\U0001f1f2\\U0001f1fd': u':Mexico:', u'\\U0001f1f2\\U0001f1fe': u':Malaysia:', u'\\U0001f1f2\\U0001f1ff': u':Mozambique:', u'\\U0001f1f2\\U0001f1f8': u':Montserrat:', u'\\U0001f1f2\\U0001f1f9': u':Malta:', u'\\U0001f1f2\\U0001f1fa': u':Mauritius:', u'\\U0001f1f2\\U0001f1fb': u':Maldives:', u'\\U0001f1f2\\U0001f1e6': u':Morocco:', u'\\U0001f237': u':Japanese_monthly_amount_button:', u'\\U0001f539': u':small_blue_diamond:', u'\\U0001f1f2\\U0001f1ed': u':Marshall_Islands:', u'\\U0001f468\\U0001f3fc\\u200d\\U0001f4bc': u':man_office_worker_medium-light_skin_tone:', u'\\U0001f1f2\\U0001f1e8': u':Monaco:', u'\\U0001f1f2\\U0001f1e9': u':Moldova:', u'\\U0001f1f2\\U0001f1ea': u':Montenegro:', u'\\U0001f1f2\\U0001f1eb': u':St._Martin:', u'\\U0001f6b6\\U0001f3fb\\u200d\\u2640\\ufe0f': u':woman_walking_light_skin_tone:', u'\\U0001f471\\u200d\\u2642\\ufe0f': u':blond-haired_man:', u'\\u26c4': u':snowman_without_snow:', u'\\U0001f1fb\\U0001f1fa': u':Vanuatu:', u'\\U0001f34d': u':pineapple:', u'\\U0001f64f': u':folded_hands:', u'\\U0001f951': u':avocado:', u'\\U0001f1fb\\U0001f1e6': u':Vatican_City:', u'\\U0001f1fb\\U0001f1ea': u':Venezuela:', u'\\U0001f1fb\\U0001f1e8': u':St._Vincent_&_Grenadines:', u'\\U0001f1fb\\U0001f1ee': u':U.S._Virgin_Islands:', u'\\U0001f1fb\\U0001f1ec': u':British_Virgin_Islands:', u'\\U0001f351': u':peach:', u'\\U0001f463': u':footprints:', u'\\U0001f3e2': u':office_building:', u'\\U0001f6e4': u':railway_track:', u'\\U0001f9e6': u':socks:', u'\\U0001f933\\U0001f3fc': u':selfie_medium-light_skin_tone:', u'\\U0001f579': u':joystick:', u'\\U0001f4f8': u':camera_with_flash:', u'\\U0001f481\\U0001f3fe\\u200d\\u2642\\ufe0f': u':man_tipping_hand_medium-dark_skin_tone:', u'\\U0001f9da\\U0001f3fd\\u200d\\u2640\\ufe0f': u':woman_fairy_medium_skin_tone:', u'\\U0001f93d\\U0001f3fc\\u200d\\u2640\\ufe0f': u':woman_playing_water_polo_medium-light_skin_tone:', u'\\U0001f30c': u':milky_way:', u'\\U0001f40e': u':horse:', u'\\U0001f9dc\\u200d\\u2642\\ufe0f': u':merman:', u'\\U0001f910': u':zipper-mouth_face:', u'\\U0001f6b6\\U0001f3ff\\u200d\\u2642\\ufe0f': u':man_walking_dark_skin_tone:', u'\\U0001f64e': u':person_pouting:', u'\\u2b1c': u':white_large_square:', u'\\U0001f477\\U0001f3fb\\u200d\\u2640\\ufe0f': u':woman_construction_worker_light_skin_tone:', u'\\U0001f468\\U0001f3fc\\u200d\\U0001f527': u':man_mechanic_medium-light_skin_tone:', u'\\U0001f6a5': u':horizontal_traffic_light:', u'\\U0001f468\\U0001f3fc\\u200d\\U0001f52c': u':man_scientist_medium-light_skin_tone:', u'\\U0001f45f': u':running_shoe:', u'\\U0001f3b7': u':saxophone:', u'\\U0001f4b9': u':chart_increasing_with_yen:', u'\\U0001f538': u':small_orange_diamond:', u'\\U0001f63a': u':grinning_cat_face:', u'\\u26c5': u':sun_behind_cloud:', u'\\u2744': u':snowflake:', u'\\U0001f60d': u':smiling_face_with_heart-eyes:', u'\\U0001f34c': u':banana:', u'\\U0001f44e': u':thumbs_down:', u'\\U0001f950': u':croissant:', u'\\U0001f3cb\\U0001f3fb': u':person_lifting_weights_light_skin_tone:', u'\\U0001f3cb\\U0001f3ff': u':person_lifting_weights_dark_skin_tone:', u'\\U0001f3cb\\U0001f3fe': u':person_lifting_weights_medium-dark_skin_tone:', u'\\U0001f3cb\\U0001f3fd': u':person_lifting_weights_medium_skin_tone:', u'\\U0001f3cb\\U0001f3fc': u':person_lifting_weights_medium-light_skin_tone:', u'\\U0001f5e3': u':speaking_head:', u'\\U0001f6e5': u':motor_boat:', u'\\U0001f46e\\U0001f3fc\\u200d\\u2640\\ufe0f': u':woman_police_officer_medium-light_skin_tone:', u'\\U0001f3f7': u':label:', u'\\U0001f4f9': u':video_camera:', u'\\U0001f578': u':spider_web:', u'\\U0001f646\\U0001f3fe\\u200d\\u2642\\ufe0f': u':man_gesturing_OK_medium-dark_skin_tone:', u'\\u2b07': u':down_arrow:', u'\\U0001f477\\u200d\\u2642\\ufe0f': u':man_construction_worker:', u'\\U0001f496': u':sparkling_heart:', u'\\U0001f9d7\\U0001f3fd\\u200d\\u2642\\ufe0f': u':man_climbing_medium_skin_tone:', u'\\U0001f48e': u':gem_stone:', u'\\U0001f990': u':shrimp:', u'\\U0001f443\\U0001f3fb': u':nose_light_skin_tone:', u'\\U0001f9d8\\U0001f3ff\\u200d\\u2640\\ufe0f': u':woman_in_lotus_position_dark_skin_tone:', u'\\U0001f625': u':sad_but_relieved_face:', u'\\U0001f469\\U0001f3fe': u':woman_medium-dark_skin_tone:', u'\\U0001f337': u':tulip:', u'\\U0001f439': u':hamster_face:', u'\\U0001f575': u':detective:', u'\\U0001f6ba': u':women\\u2019s_room:', u'\\U0001f4f4': u':mobile_phone_off:', u'\\U0001f9d5\\U0001f3fd': u':woman_with_headscarf_medium_skin_tone:', u'\\U0001f9d5\\U0001f3fc': u':woman_with_headscarf_medium-light_skin_tone:', u'\\U0001f9d5\\U0001f3ff': u':woman_with_headscarf_dark_skin_tone:', u'\\U0001f9d5\\U0001f3fe': u':woman_with_headscarf_medium-dark_skin_tone:', u'\\u26f9\\U0001f3fc\\u200d\\u2642\\ufe0f': u':man_bouncing_ball_medium-light_skin_tone:', u'\\U0001f9d5\\U0001f3fb': u':woman_with_headscarf_light_skin_tone:', u'\\U0001f3cc': u':person_golfing:', u'\\U0001f4ce': u':paperclip:', u'\\U0001f9d0': u':face_with_monocle:', u'\\U0001f6cf': u':bed:', u'\\U0001f936\\U0001f3fb': u':Mrs._Claus_light_skin_tone:', u'\\U0001f936\\U0001f3fc': u':Mrs._Claus_medium-light_skin_tone:', u'\\U0001f936\\U0001f3fd': u':Mrs._Claus_medium_skin_tone:', u'\\U0001f936\\U0001f3fe': u':Mrs._Claus_medium-dark_skin_tone:', u'\\U0001f936\\U0001f3ff': u':Mrs._Claus_dark_skin_tone:', u'\\U0001f6b6\\U0001f3ff\\u200d\\u2640\\ufe0f': u':woman_walking_dark_skin_tone:', u'\\U0001f563': u':eight-thirty:', u'\\u23ec': u':fast_down_button:', u'\\U0001f377': u':wine_glass:', u'\\U0001f479': u':ogre:', u'\\U0001f6b6\\U0001f3fd': u':person_walking_medium_skin_tone:', u'\\u2b06': u':up_arrow:', u'\\U0001f646\\U0001f3fb\\u200d\\u2640\\ufe0f': u':woman_gesturing_OK_light_skin_tone:', u'\\U0001f48f': u':kiss:', u'\\U0001f912': u':face_with_thermometer:', u'\\U0001f458': u':kimono:', u'\\u2618': u':shamrock:', u'\\U0001f647\\U0001f3ff\\u200d\\u2642\\ufe0f': u':man_bowing_dark_skin_tone:', u'\\U0001f3a1': u':ferris_wheel:', u'\\U0001f6a3': u':person_rowing_boat:', u'\\U0001f5a5': u':desktop_computer:', u'\\U0001f424': u':baby_chick:', u'\\U0001f9dd\\U0001f3fe\\u200d\\u2642\\ufe0f': u':man_elf_medium-dark_skin_tone:', u'\\U0001f64d\\U0001f3fb\\u200d\\u2640\\ufe0f': u':woman_frowning_light_skin_tone:', u'\\U0001f487\\U0001f3fc\\u200d\\u2640\\ufe0f': u':woman_getting_haircut_medium-light_skin_tone:', u'\\U0001f933': u':selfie:', u'\\U0001f689': u':station:', u'\\U0001f336': u':hot_pepper:', u'\\U0001f638': u':grinning_cat_face_with_smiling_eyes:', u'\\U0001f64d\\U0001f3fe\\u200d\\u2642\\ufe0f': u':man_frowning_medium-dark_skin_tone:', u'\\U0001f53a': u':red_triangle_pointed_up:', u'\\U0001f1e8\\U0001f1fa': u':Cuba:', u'\\U0001f1e8\\U0001f1fb': u':Cape_Verde:', u'\\U0001f1e8\\U0001f1fe': u':Cyprus:', u'\\U0001f1e8\\U0001f1ff': u':Czechia:', u'\\U0001f1e8\\U0001f1fc': u':Cura\\xe7ao:', u'\\U0001f1e8\\U0001f1fd': u':Christmas_Island:', u'\\U0001f1e8\\U0001f1f2': u':Cameroon:', u'\\U0001f1e8\\U0001f1f3': u':China:', u'\\U0001f1e8\\U0001f1f0': u':Cook_Islands:', u'\\U0001f1e8\\U0001f1f1': u':Chile:', u'\\U0001f1e8\\U0001f1f7': u':Costa_Rica:', u'\\U0001f4cf': u':straight_ruler:', u'\\U0001f1e8\\U0001f1f5': u':Clipperton_Island:', u'\\U0001f64d\\U0001f3fd\\u200d\\u2640\\ufe0f': u':woman_frowning_medium_skin_tone:', u'\\U0001f3ca\\U0001f3ff\\u200d\\u2642\\ufe0f': u':man_swimming_dark_skin_tone:', u'\\U0001f952': u':cucumber:', u'\\U0001f1e8\\U0001f1ee': u':C\\xf4te_d\\u2019Ivoire:', u'\\U0001f1fc\\U0001f1f8': u':Samoa:', u'\\U0001f1e8\\U0001f1ec': u':Congo_-_Brazzaville:', u'\\U0001f1e8\\U0001f1ed': u':Switzerland:', u'\\U0001f487\\U0001f3ff\\u200d\\u2642\\ufe0f': u':man_getting_haircut_dark_skin_tone:', u'\\U0001f1e8\\U0001f1e6': u':Canada:', u'\\U0001f3e1': u':house_with_garden:', u'\\U0001f6e3': u':motorway:', u'\\U0001f449\\U0001f3fd': u':backhand_index_pointing_right_medium_skin_tone:', u'\\U0001f449\\U0001f3fc': u':backhand_index_pointing_right_medium-light_skin_tone:', u'\\U0001f449\\U0001f3ff': u':backhand_index_pointing_right_dark_skin_tone:', u'\\U0001f449\\U0001f3fe': u':backhand_index_pointing_right_medium-dark_skin_tone:', u'\\U0001f91b\\U0001f3fb': u':left-facing_fist_light_skin_tone:', u'\\U0001f91b\\U0001f3ff': u':left-facing_fist_dark_skin_tone:', u'\\U0001f91b\\U0001f3fe': u':left-facing_fist_medium-dark_skin_tone:', u'\\U0001f91b\\U0001f3fd': u':left-facing_fist_medium_skin_tone:', u'\\U0001f9dd\\u200d\\u2642\\ufe0f': u':man_elf:', u'\\U0001f376': u':sake:', u'\\U0001f64e\\U0001f3fe\\u200d\\u2642\\ufe0f': u':man_pouting_medium-dark_skin_tone:', u'\\U0001f57a': u':man_dancing:', u'\\u2603': u':snowman:', u'\\U0001f468\\U0001f3fc\\u200d\\U0001f680': u':man_astronaut_medium-light_skin_tone:', u'\\U0001f93d\\U0001f3fd': u':person_playing_water_polo_medium_skin_tone:', u'\\U0001f3ca\\U0001f3fc\\u200d\\u2640\\ufe0f': u':woman_swimming_medium-light_skin_tone:', u'\\U0001f93d\\U0001f3ff': u':person_playing_water_polo_dark_skin_tone:', u'\\U0001f93d\\U0001f3fe': u':person_playing_water_polo_medium-dark_skin_tone:', u'\\U0001f938\\u200d\\u2642\\ufe0f': u':man_cartwheeling:', u'\\U0001f40f': u':ram:', u'\\U0001f992': u':giraffe:', u'\\U0001f468\\U0001f3fc\\u200d\\U0001f692': u':man_firefighter_medium-light_skin_tone:', u'\\U0001f321': u':thermometer:', u'\\U0001f623': u':persevering_face:', u'\\U0001f525': u':fire:', u'\\U0001f4a4': u':zzz:', u'\\U0001f470\\U0001f3fb': u':bride_with_veil_light_skin_tone:', u'\\U0001f470\\U0001f3fe': u':bride_with_veil_medium-dark_skin_tone:', u'\\U0001f470\\U0001f3ff': u':bride_with_veil_dark_skin_tone:', u'\\U0001f470\\U0001f3fc': u':bride_with_veil_medium-light_skin_tone:', u'\\U0001f470\\U0001f3fd': u':bride_with_veil_medium_skin_tone:', u'\\U0001f3b6': u':musical_notes:', u'\\U0001f6b8': u':children_crossing:', u'\\U0001f6b5\\U0001f3ff\\u200d\\u2640\\ufe0f': u':woman_mountain_biking_dark_skin_tone:', u'\\U0001f93d': u':person_playing_water_polo:', u'\\U0001f5d1': u':wastebasket:', u'\\U0001f44f': u':clapping_hands:', u'\\U0001f64b\\U0001f3fb\\u200d\\u2640\\ufe0f': u':woman_raising_hand_light_skin_tone:', u'\\U0001f46e\\U0001f3fe\\u200d\\u2640\\ufe0f': u':woman_police_officer_medium-dark_skin_tone:', u'\\U0001f361': u':dango:', u'\\U0001f565': u':ten-thirty:', u'\\U0001f4e4': u':outbox_tray:', u'\\U0001f64e\\u200d\\u2642\\ufe0f': u':man_pouting:', u'\\U0001f468\\U0001f3fe\\u200d\\U0001f527': u':man_mechanic_medium-dark_skin_tone:', u'\\U0001f926\\U0001f3ff': u':person_facepalming_dark_skin_tone:', u'\\U0001f6f8': u':flying_saucer:', u'\\U0001f5fa': u':world_map:', u'\\U0001f921': u':clown_face:', u'\\U0001f9da\\U0001f3fb\\u200d\\u2642\\ufe0f': u':man_fairy_light_skin_tone:', u'\\U0001f38b': u':tanabata_tree:', u'\\U0001f3ca\\u200d\\u2640\\ufe0f': u':woman_swimming:', u'\\U0001f60e': u':smiling_face_with_sunglasses:', u'\\U0001f93e\\U0001f3fd\\u200d\\u2640\\ufe0f': u':woman_playing_handball_medium_skin_tone:', u'\\U0001f9d8\\U0001f3fc\\u200d\\u2640\\ufe0f': u':woman_in_lotus_position_medium-light_skin_tone:', u'\\u2197': u':up-right_arrow:', u'\\u2699': u':gear:', u'\\U0001f320': u':shooting_star:', u'\\U0001f4a5': u':collision:', u'\\U0001f524': u':input_latin_letters:', u'\\U0001f3cc\\ufe0f\\u200d\\u2640\\ufe0f': u':woman_golfing:', u'\\u262e': u':peace_symbol:', u'\\U0001f93e\\U0001f3fb\\u200d\\u2642\\ufe0f': u':man_playing_handball_light_skin_tone:', u'\\U0001f236': u':Japanese_not_free_of_charge_button:', u'\\U0001f6b9': u':men\\u2019s_room:', u'\\U0001f9d9\\u200d\\u2642\\ufe0f': u':man_mage:', u'\\U0001f93c': u':people_wrestling:', u'\\U0001f3cb': u':person_lifting_weights:', u'\\U0001f647\\U0001f3fb\\u200d\\u2642\\ufe0f': u':man_bowing_light_skin_tone:', u'\\U0001f6b6\\U0001f3fb': u':person_walking_light_skin_tone:', u'\\U0001f6b6\\U0001f3fc': u':person_walking_medium-light_skin_tone:', u'\\U0001f939\\u200d\\u2640\\ufe0f': u':woman_juggling:', u'\\U0001f6b6\\U0001f3fe': u':person_walking_medium-dark_skin_tone:', u'\\U0001f6b6\\U0001f3ff': u':person_walking_dark_skin_tone:', u'\\U0001f360': u':roasted_sweet_potato:', u'\\U0001f4e5': u':inbox_tray:', u'\\U0001f564': u':nine-thirty:', u'\\u23eb': u':fast_up_button:', u'\\U0001f645\\U0001f3fd': u':person_gesturing_NO_medium_skin_tone:', u'\\U0001f645\\U0001f3fc': u':person_gesturing_NO_medium-light_skin_tone:', u'\\U0001f645\\U0001f3ff': u':person_gesturing_NO_dark_skin_tone:', u'\\U0001f44e\\U0001f3fb': u':thumbs_down_light_skin_tone:', u'\\U0001f645\\U0001f3fb': u':person_gesturing_NO_light_skin_tone:', u'\\U0001f47a': u':goblin:', u'\\U0001f44e\\U0001f3fd': u':thumbs_down_medium_skin_tone:', u'\\U0001f1e9\\U0001f1ef': u':Djibouti:', u'\\U0001f486\\U0001f3fb\\u200d\\u2640\\ufe0f': u':woman_getting_massage_light_skin_tone:', u'\\U0001f30b': u':volcano:', u'\\u2196': u':up-left_arrow:', u'\\U0001f50f': u':locked_with_pen:', u'\\U0001f68e': u':trolleybus:', u'\\U0001f468\\u200d\\U0001f468\\u200d\\U0001f467\\u200d\\U0001f467': u':family_man_man_girl_girl:', u'\\U0001f468\\u200d\\U0001f468\\u200d\\U0001f467\\u200d\\U0001f466': u':family_man_man_girl_boy:', u'\\U0001f486\\U0001f3fe': u':person_getting_massage_medium-dark_skin_tone:', u'\\U0001f3cc\\U0001f3fe': u':person_golfing_medium-dark_skin_tone:', u'\\U0001f3cc\\U0001f3ff': u':person_golfing_dark_skin_tone:', u'\\u2b1b': u':black_large_square:', u'\\U0001f3cc\\U0001f3fd': u':person_golfing_medium_skin_tone:', u'\\U0001f3cc\\U0001f3fb': u':person_golfing_light_skin_tone:', u'\\U0001f468\\U0001f3fd\\u200d\\u2708\\ufe0f': u':man_pilot_medium_skin_tone:', u'\\U0001f3a0': u':carousel_horse:', u'\\U0001f425': u':front-facing_baby_chick:', u'\\U0001f5a4': u':black_heart:', u'\\U0001f927': u':sneezing_face:', u'\\U0001f639': u':cat_face_with_tears_of_joy:', u'\\U0001f4ba': u':seat:', u'\\U0001f6b4\\U0001f3ff\\u200d\\u2642\\ufe0f': u':man_biking_dark_skin_tone:', u'\\U0001f46f\\u200d\\u2640\\ufe0f': u':women_with_bunny_ears:', u'\\U0001f34b': u':lemon:', u'\\U0001f1f2\\U0001f1f6': u':Martinique:', u'\\U0001f6ce': u':bellhop_bell:', u'\\U0001f3a2': u':roller_coaster:', u'\\U0001f6b4\\u200d\\u2642\\ufe0f': u':man_biking:', u'\\U0001f468\\u200d\\U0001f468\\u200d\\U0001f467': u':family_man_man_girl:', u'\\U0001f468\\u200d\\U0001f468\\u200d\\U0001f466': u':family_man_man_boy:', u'\\U0001f6a4': u':speedboat:', u'\\U0001f3e0': u':house:', u'\\U0001f465': u':busts_in_silhouette:', u'\\U0001f967': u':pie:', u'\\U0001f939\\U0001f3ff\\u200d\\u2640\\ufe0f': u':woman_juggling_dark_skin_tone:', u'\\U0001f481\\u200d\\u2640\\ufe0f': u':woman_tipping_hand:', u'\\U0001f9d6\\U0001f3fd\\u200d\\u2640\\ufe0f': u':woman_in_steamy_room_medium_skin_tone:', u'\\U0001f4fa': u':television:', u'\\u2702': u':scissors:', u'\\U0001f48b': u':kiss_mark:', u'\\U0001f60c': u':relieved_face:', u'\\U0001f645\\U0001f3ff\\u200d\\u2640\\ufe0f': u':woman_gesturing_NO_dark_skin_tone:', u'\\U0001f9dd\\U0001f3fb\\u200d\\u2640\\ufe0f': u':woman_elf_light_skin_tone:', u'\\u262f': u':yin_yang:', u'\\u2697': u':alembic:', u'\\u2199': u':down-left_arrow:', u'\\U0001f64c\\U0001f3ff': u':raising_hands_dark_skin_tone:', u'\\U0001f64c\\U0001f3fc': u':raising_hands_medium-light_skin_tone:', u'\\u231a': u':watch:', u'\\U0001f9d7\\U0001f3fc\\u200d\\u2642\\ufe0f': u':man_climbing_medium-light_skin_tone:', u'\\U0001f420': u':tropical_fish:', u'\\U0001f3a5': u':movie_camera:', u'\\U0001f6b6\\U0001f3fe\\u200d\\u2640\\ufe0f': u':woman_walking_medium-dark_skin_tone:', u'\\U0001f6b7': u':no_pedestrians:', u'\\U0001f536': u':large_orange_diamond:', u'\\U0001f6b6\\U0001f3fb\\u200d\\u2642\\ufe0f': u':man_walking_light_skin_tone:', u'\\U0001f33a': u':hibiscus:', u'\\U0001f93e': u':person_playing_handball:', u'\\u270b\\U0001f3fe': u':raised_hand_medium-dark_skin_tone:', u'\\U0001f926\\U0001f3fc': u':person_facepalming_medium-light_skin_tone:', u'\\U0001f4cb': u':clipboard:', u'\\U0001f64c': u':raising_hands:', u'\\U0001f926\\U0001f3fd': u':person_facepalming_medium_skin_tone:', u'\\U0001f1f2\\U0001f1ec': u':Madagascar:', u'\\U0001f4b8': u':money_with_wings:', u'\\U0001f3f4\\U000e0067\\U000e0062\\U000e0077\\U000e006c\\U000e0073\\U000e007f': u':Wales:', u'\\U0001f5e1': u':dagger:', u'\\U0001f460': u':high-heeled_shoe:', u'\\U0001f3e5': u':hospital:', u'\\U0001f6b6\\u200d\\u2642\\ufe0f': u':man_walking:', u'\\U0001f468\\U0001f3fc\\u200d\\U0001f4bb': u':man_technologist_medium-light_skin_tone:', u'\\U0001f6f7': u':sled:', u'\\U0001f576': u':sunglasses:', u'\\U0001f37a': u':beer_mug:', u'\\U0001f1fb\\U0001f1f3': u':Vietnam:', u'\\U0001f93e\\U0001f3fe\\u200d\\u2640\\ufe0f': u':woman_playing_handball_medium-dark_skin_tone:', u'\\U0001f9db\\U0001f3fb\\u200d\\u2640\\ufe0f': u':woman_vampire_light_skin_tone:', u'\\U0001f40b': u':whale:', u'\\U0001f471\\U0001f3fb\\u200d\\u2640\\ufe0f': u':blond-haired_woman_light_skin_tone:', u'\\U0001f68c': u':bus:', u'\\U0001f18e': u':AB_button_(blood_type):', u'\\U0001f6c4': u':baggage_claim:', u'\\U0001f574\\U0001f3fe': u':man_in_suit_levitating_medium-dark_skin_tone:', u'\\U0001f574\\U0001f3ff': u':man_in_suit_levitating_dark_skin_tone:', u'\\U0001f574\\U0001f3fc': u':man_in_suit_levitating_medium-light_skin_tone:', u'\\U0001f574\\U0001f3fd': u':man_in_suit_levitating_medium_skin_tone:', u'\\U0001f325': u':sun_behind_large_cloud:', u'\\U0001f574\\U0001f3fb': u':man_in_suit_levitating_light_skin_tone:', u'\\U0001f370': u':shortcake:', u'\\U0001f929': u':star-struck:', u'\\U0001f468\\u200d\\U0001f469\\u200d\\U0001f466': u':family_man_woman_boy:', u'\\U0001f468\\u200d\\U0001f469\\u200d\\U0001f467': u':family_man_woman_girl:', u'\\U0001f637': u':face_with_medical_mask:', u'\\U0001f3ba': u':trumpet:', u'\\U0001f574': u':man_in_suit_levitating:', u'\\U0001f6a3\\U0001f3ff\\u200d\\u2642\\ufe0f': u':man_rowing_boat_dark_skin_tone:', u'\\U0001f9d1\\U0001f3fb': u':adult_light_skin_tone:', u'\\U0001f9d1\\U0001f3fd': u':adult_medium_skin_tone:', u'\\U0001f9d1\\U0001f3fc': u':adult_medium-light_skin_tone:', u'\\U0001f9d1\\U0001f3ff': u':adult_dark_skin_tone:', u'\\U0001f9d1\\U0001f3fe': u':adult_medium-dark_skin_tone:', u'\\U0001f6b5\\U0001f3fe\\u200d\\u2640\\ufe0f': u':woman_mountain_biking_medium-dark_skin_tone:', u'\\U0001f44b\\U0001f3fb': u':waving_hand_light_skin_tone:', u'\\U0001f44b\\U0001f3ff': u':waving_hand_dark_skin_tone:', u'\\U0001f44b\\U0001f3fe': u':waving_hand_medium-dark_skin_tone:', u'\\U0001f44b\\U0001f3fd': u':waving_hand_medium_skin_tone:', u'\\U0001f44b\\U0001f3fc': u':waving_hand_medium-light_skin_tone:', u'\\U0001f561': u':six-thirty:', u'\\U0001f4e0': u':fax_machine:', u'\\U0001f365': u':fish_cake_with_swirl:', u'\\U0001f9db\\U0001f3fe': u':vampire_medium-dark_skin_tone:', u'\\U0001f64d\\U0001f3ff\\u200d\\u2640\\ufe0f': u':woman_frowning_dark_skin_tone:', u'\\U0001f969': u':cut_of_meat:', u'\\U0001f326': u':sun_behind_rain_cloud:', u'\\U0001f3fa': u':amphora:', u'\\U0001f6ab': u':prohibited:', u'\\U0001f6b5\\U0001f3fc\\u200d\\u2642\\ufe0f': u':man_mountain_biking_medium-light_skin_tone:', u'\\U0001f6b5\\U0001f3fd\\u200d\\u2642\\ufe0f': u':man_mountain_biking_medium_skin_tone:', u'\\U0001f469\\U0001f3fb\\u200d\\u2708\\ufe0f': u':woman_pilot_light_skin_tone:', u'\\U0001f58b': u':fountain_pen:', u'\\U0001f68d': u':oncoming_bus:', u'\\U0001f38f': u':carp_streamer:', u'\\U0001f993': u':zebra:', u'\\u2797': u':heavy_division_sign:', u'\\U0001f3ca\\U0001f3fe\\u200d\\u2640\\ufe0f': u':woman_swimming_medium-dark_skin_tone:', u'\\U0001f4a1': u':light_bulb:', u'\\U0001f520': u':input_latin_uppercase:', u'\\U0001f622': u':crying_face:', u'\\U0001f324': u':sun_behind_small_cloud:', u'\\U0001f928': u':face_with_raised_eyebrow:', u'\\u25ab': u':white_small_square:', u'\\U0001f483\\U0001f3fb': u':woman_dancing_light_skin_tone:', u'\\U0001f483\\U0001f3ff': u':woman_dancing_dark_skin_tone:', u'\\U0001f483\\U0001f3fe': u':woman_dancing_medium-dark_skin_tone:', u'\\U0001f483\\U0001f3fd': u':woman_dancing_medium_skin_tone:', u'\\U0001f436': u':dog_face:', u'\\U0001f473\\U0001f3fc\\u200d\\u2640\\ufe0f': u':woman_wearing_turban_medium-light_skin_tone:', u'\\U0001f3ca\\u200d\\u2642\\ufe0f': u':man_swimming:', u'\\U0001f23a': u':Japanese_open_for_business_button:', u'\\u26f9\\U0001f3fc\\u200d\\u2640\\ufe0f': u':woman_bouncing_ball_medium-light_skin_tone:', u'\\u2642': u':male_sign:', u'\\U0001f6cd': u':shopping_bags:', u'\\U0001f3cf': u':cricket_game:', u'\\U0001f3b9': u':musical_keyboard:', u'\\U0001f9d3': u':older_adult:', u'8\\ufe0f\\u20e3': u':keycap_8:', u'\\U0001f238': u':Japanese_application_button:', u'\\U0001f486\\U0001f3fe\\u200d\\u2640\\ufe0f': u':woman_getting_massage_medium-dark_skin_tone:', u'\\U0001f4e1': u':satellite_antenna:', u'\\U0001f560': u':five-thirty:', u'\\U0001f468\\u200d\\U0001f468\\u200d\\U0001f466\\u200d\\U0001f466': u':family_man_man_boy_boy:', u'\\U0001f364': u':fried_shrimp:', u'\\U0001f390': u':wind_chime:', u'\\U0001f968': u':pretzel:', u'\\u23ef': u':play_or_pause_button:', u'\\U0001f476': u':baby:', u'\\U0001f3c4\\U0001f3fe\\u200d\\u2642\\ufe0f': u':man_surfing_medium-dark_skin_tone:', u'\\U0001f6b6\\U0001f3fc\\u200d\\u2640\\ufe0f': u':woman_walking_medium-light_skin_tone:', u'\\U0001f50b': u':battery:', u'\\U0001f646\\U0001f3fd\\u200d\\u2642\\ufe0f': u':man_gesturing_OK_medium_skin_tone:', u'\\U0001f30f': u':globe_showing_Asia-Australia:', u'\\U0001f913': u':nerd_face:', u'\\U0001f575\\U0001f3fe\\u200d\\u2640\\ufe0f': u':woman_detective_medium-dark_skin_tone:', u'\\u2198': u':down-right_arrow:', u'\\U0001f9d6\\U0001f3fb\\u200d\\u2640\\ufe0f': u':woman_in_steamy_room_light_skin_tone:', u'\\U0001f93e\\U0001f3fc\\u200d\\u2640\\ufe0f': u':woman_playing_handball_medium-light_skin_tone:', u'\\U0001f421': u':blowfish:', u'\\U0001f6a2': u':ship:', u'\\U0001f3a4': u':microphone:', u'\\xae': u':registered:', u'*\\ufe0f\\u20e3': u':keycap_*:', u'\\U0001f4b6': u':euro_banknote:', u'\\U0001f64d\\u200d\\u2642\\ufe0f': u':man_frowning:', u'\\u25c0': u':reverse_button:', u'\\U0001f6a3\\U0001f3fe\\u200d\\u2640\\ufe0f': u':woman_rowing_boat_medium-dark_skin_tone:', u'\\U0001f575\\U0001f3fd\\u200d\\u2642\\ufe0f': u':man_detective_medium_skin_tone:', u'\\U0001f54b': u':kaaba:', u'\\U0001f64d': u':person_frowning:', u'\\U0001f34f': u':green_apple:', u'\\U0001f953': u':bacon:', u'\\u2757': u':exclamation_mark:', u'\\U0001f9d9\\U0001f3ff\\u200d\\u2642\\ufe0f': u':man_mage_dark_skin_tone:', u'\\U0001f575\\U0001f3fb\\u200d\\u2640\\ufe0f': u':woman_detective_light_skin_tone:', u'\\U0001f461': u':woman\\u2019s_sandal:', u'\\U0001f6e2': u':oil_drum:', u'\\U0001f3e4': u':post_office:', u'\\U0001f647\\U0001f3ff': u':person_bowing_dark_skin_tone:', u'\\U0001f647\\U0001f3fe': u':person_bowing_medium-dark_skin_tone:', u'\\U0001f647\\U0001f3fd': u':person_bowing_medium_skin_tone:', u'\\U0001f647\\U0001f3fc': u':person_bowing_medium-light_skin_tone:', u'\\U0001f647\\U0001f3fc\\u200d\\u2640\\ufe0f': u':woman_bowing_medium-light_skin_tone:', u'\\U0001f629': u':weary_face:', u'\\U0001f6b4\\U0001f3fb\\u200d\\u2642\\ufe0f': u':man_biking_light_skin_tone:', u'\\U0001f4f6': u':antenna_bars:', u'\\U0001f9d5': u':woman_with_headscarf:', u'\\u2600': u':sun:', u'\\U0001f91c\\U0001f3fd': u':right-facing_fist_medium_skin_tone:', u'\\U0001f938\\U0001f3fc': u':person_cartwheeling_medium-light_skin_tone:', u'\\U0001f68b': u':tram_car:', u'\\U0001f926\\U0001f3fb': u':person_facepalming_light_skin_tone:', u'\\U0001f58d': u':crayon:', u'\\U0001f40c': u':snail:', u'\\U0001f926\\U0001f3fe': u':person_facepalming_medium-dark_skin_tone:', u'\\U0001f30e': u':globe_showing_Americas:', u'\\U0001f995': u':sauropod:', u'\\u2716': u':heavy_multiplication_x:', u'\\U0001f6a3\\U0001f3fb\\u200d\\u2640\\ufe0f': u':woman_rowing_boat_light_skin_tone:', u'\\U0001f620': u':angry_face:', u'\\U0001f522': u':input_numbers:', u'\\u26ab': u':black_circle:', u'\\U0001f92a': u':zany_face:', u'\\U0001f1f8\\U0001f1f0': u':Slovakia:', u'\\U0001f4b7': u':pound_banknote:', u'\\U0001f9d7\\U0001f3ff': u':person_climbing_dark_skin_tone:', u'\\U0001f9d7\\U0001f3fe': u':person_climbing_medium-dark_skin_tone:', u'\\U0001f9d7\\U0001f3fd': u':person_climbing_medium_skin_tone:', u'\\U0001f9d7\\U0001f3fc': u':person_climbing_medium-light_skin_tone:', u'\\U0001f9d7\\U0001f3fb': u':person_climbing_light_skin_tone:', u'\\u2640': u':female_sign:', u'\\u2660': u':spade_suit:', u'\\U0001f6cb': u':couch_and_lamp:', u'\\U0001f44c': u':OK_hand:', u'\\U0001f0cf': u':joker:', u'\\U0001f34e': u':red_apple:', u'\\U0001f64e\\u200d\\u2640\\ufe0f': u':woman_pouting:', u'\\U0001f46e\\U0001f3fe\\u200d\\u2642\\ufe0f': u':man_police_officer_medium-dark_skin_tone:', u'\\U0001f624': u':face_with_steam_from_nose:', u'\\U0001f562': u':seven-thirty:', u'\\U0001f96a': u':sandwich:', u'\\U0001f4f7': u':camera:', u'\\U0001f3f9': u':bow_and_arrow:', u'\\U0001f6eb': u':airplane_departure:', u'\\U0001f60b': u':face_savoring_food:', u'\\U0001f50d': u':magnifying_glass_tilted_left:', u'\\U0001f48c': u':love_letter:', u'\\U0001f38e': u':Japanese_dolls:', u'\\U0001f915': u':face_with_head-bandage:', u'\\u2796': u':heavy_minus_sign:', u'\\U0001f9d8\\U0001f3fc\\u200d\\u2642\\ufe0f': u':man_in_lotus_position_medium-light_skin_tone:', u'\\U0001f36e': u':custard:', u'\\U0001f6a0': u':mountain_cableway:', u'\\U0001f446\\U0001f3fb': u':backhand_index_pointing_up_light_skin_tone:', u'\\U0001f446\\U0001f3fc': u':backhand_index_pointing_up_medium-light_skin_tone:', u'\\U0001f446\\U0001f3fd': u':backhand_index_pointing_up_medium_skin_tone:', u'\\U0001f446\\U0001f3fe': u':backhand_index_pointing_up_medium-dark_skin_tone:', u'\\U0001f446\\U0001f3ff': u':backhand_index_pointing_up_dark_skin_tone:', u'\\U0001f93c\\u200d\\u2642\\ufe0f': u':men_wrestling:', u'\\u26f9\\U0001f3ff\\u200d\\u2640\\ufe0f': u':woman_bouncing_ball_dark_skin_tone:', u'\\u2935': u':right_arrow_curving_down:', u'\\U0001f647\\U0001f3fb\\u200d\\u2640\\ufe0f': u':woman_bowing_light_skin_tone:', u'\\U0001f437': u':pig_face:', u'\\U0001f339': u':rose:', u'\\U0001f937\\U0001f3fe\\u200d\\u2642\\ufe0f': u':man_shrugging_medium-dark_skin_tone:', u'\\U0001f64b': u':person_raising_hand:', u'\\U0001f54d': u':synagogue:', u'\\U0001f4cc': u':pushpin:', u'\\U0001f195': u':NEW_button:', u'\\U0001f3ce': u':racing_car:', u'\\U0001f6a3\\U0001f3fb': u':person_rowing_boat_light_skin_tone:', u'\\U0001f6a3\\U0001f3ff': u':person_rowing_boat_dark_skin_tone:', u'\\U0001f6a3\\U0001f3fe': u':person_rowing_boat_medium-dark_skin_tone:', u'\\U0001f6a3\\U0001f3fd': u':person_rowing_boat_medium_skin_tone:', u'\\U0001f6a3\\U0001f3fc': u':person_rowing_boat_medium-light_skin_tone:', u'\\U0001f939\\u200d\\u2642\\ufe0f': u':man_juggling:', u'\\U0001f6e0': u':hammer_and_wrench:', u'\\U0001f1e6\\U0001f1ea': u':United_Arab_Emirates:', u'\\u23ee': u':last_track_button:', u'\\U0001f477': u':construction_worker:', u'\\U0001f379': u':tropical_drink:', u'\\U0001f468\\u200d\\u2764\\ufe0f\\u200d\\U0001f48b\\u200d\\U0001f468': u':kiss_man_man:', u'\\U0001f680': u':rocket:', u'\\U0001f48d': u':ring:', u'\\U0001f50c': u':electric_plug:', u'\\U0001f3cb\\U0001f3fe\\u200d\\u2642\\ufe0f': u':man_lifting_weights_medium-dark_skin_tone:', u'\\U0001f914': u':thinking_face:', u'\\U0001f93d\\U0001f3fd\\u200d\\u2640\\ufe0f': u':woman_playing_water_polo_medium_skin_tone:', u'\\U0001f468\\U0001f3fb\\u200d\\U0001f527': u':man_mechanic_light_skin_tone:', u'\\U0001f6a1': u':aerial_tramway:', u'\\U0001f3a3': u':fishing_pole:', u'\\U0001f422': u':turtle:', u'\\U0001f481\\U0001f3ff\\u200d\\u2642\\ufe0f': u':man_tipping_hand_dark_skin_tone:', u'\\U0001f91a\\U0001f3fc': u':raised_back_of_hand_medium-light_skin_tone:', u'\\U0001f91a\\U0001f3fd': u':raised_back_of_hand_medium_skin_tone:', u'\\U0001f91a\\U0001f3fe': u':raised_back_of_hand_medium-dark_skin_tone:', u'\\U0001f91a\\U0001f3ff': u':raised_back_of_hand_dark_skin_tone:', u'\\u2934': u':right_arrow_curving_up:', u'\\U0001f636': u':face_without_mouth:', u'\\U0001f468\\U0001f3fc\\u200d\\U0001f33e': u':man_farmer_medium-light_skin_tone:', u'\\U0001f3cb\\U0001f3fc\\u200d\\u2640\\ufe0f': u':woman_lifting_weights_medium-light_skin_tone:', u'\\U0001f4cd': u':round_pushpin:', u'\\U0001f54c': u':mosque:', u'\\U0001f6b4\\U0001f3ff\\u200d\\u2640\\ufe0f': u':woman_biking_dark_skin_tone:', u'\\U0001f575\\U0001f3fe': u':detective_medium-dark_skin_tone:', u'\\U0001f954': u':potato:', u'\\U0001f938\\U0001f3fc\\u200d\\u2642\\ufe0f': u':man_cartwheeling_medium-light_skin_tone:', u'\\U0001f471\\U0001f3ff\\u200d\\u2640\\ufe0f': u':blond-haired_woman_dark_skin_tone:', u'\\U0001f6e1': u':shield:', u'\\U0001f3e3': u':Japanese_post_office:', u'\\U0001f462': u':woman\\u2019s_boot:', u'\\U0001f469\\U0001f3fc\\u200d\\U0001f692': u':woman_firefighter_medium-light_skin_tone:', u'\\U0001f481\\u200d\\u2642\\ufe0f': u':man_tipping_hand:', u'\\U0001f468\\U0001f3fc\\u200d\\U0001f373': u':man_cook_medium-light_skin_tone:', u'\\U0001f939\\U0001f3ff\\u200d\\u2642\\ufe0f': u':man_juggling_dark_skin_tone:', u'\\U0001f469\\U0001f3fd\\u200d\\U0001f373': u':woman_cook_medium_skin_tone:', u'\\U0001f9d4\\U0001f3fe': u':bearded_person_medium-dark_skin_tone:', u'\\U0001f9d4\\U0001f3ff': u':bearded_person_dark_skin_tone:', u'\\U0001f9d4\\U0001f3fc': u':bearded_person_medium-light_skin_tone:', u'\\U0001f9d4\\U0001f3fd': u':bearded_person_medium_skin_tone:', u'\\U0001f9d4\\U0001f3fb': u':bearded_person_light_skin_tone:', u'\\U0001f467\\U0001f3ff': u':girl_dark_skin_tone:', u'\\U0001f467\\U0001f3fe': u':girl_medium-dark_skin_tone:', u'\\U0001f467\\U0001f3fd': u':girl_medium_skin_tone:', u'\\U0001f467\\U0001f3fc': u':girl_medium-light_skin_tone:', u'\\U0001f40d': u':snake:', u'\\U0001f58c': u':paintbrush:', u'\\U0001f468\\U0001f3fc\\u200d\\U0001f393': u':man_student_medium-light_skin_tone:', u'\\U0001f994': u':hedgehog:', u'\\u2696': u':balance_scale:', u'\\U0001f621': u':pouting_face:', u'\\U0001f474\\U0001f3ff': u':old_man_dark_skin_tone:', u'\\U0001f474\\U0001f3fc': u':old_man_medium-light_skin_tone:', u'\\U0001f468\\U0001f3fc\\u200d\\U0001f3a4': u':man_singer_medium-light_skin_tone:', u'\\U0001f93e\\u200d\\u2640\\ufe0f': u':woman_playing_handball:', u'\\U0001f474\\U0001f3fb': u':old_man_light_skin_tone:', u'\\U0001f926\\U0001f3fd\\u200d\\u2640\\ufe0f': u':woman_facepalming_medium_skin_tone:', u'\\U0001f468\\U0001f3fc\\u200d\\U0001f3a8': u':man_artist_medium-light_skin_tone:', u'\\U0001f1ee\\U0001f1f8': u':Iceland:', u'\\U0001f1ee\\U0001f1f9': u':Italy:', u'\\U0001f1fa\\U0001f1f2': u':U.S._Outlying_Islands:', u'\\U0001f537': u':large_blue_diamond:', u'\\U0001f6b6': u':person_walking:', u'\\U0001f239': u':Japanese_discount_button:', u'\\U0001f6c0\\U0001f3fb': u':person_taking_bath_light_skin_tone:', u'\\U0001f1ee\\U0001f1f2': u':Isle_of_Man:', u'\\U0001f1ee\\U0001f1f3': u':India:', u'\\U0001f1ee\\U0001f1f4': u':British_Indian_Ocean_Territory:', u'\\U0001f6c0\\U0001f3ff': u':person_taking_bath_dark_skin_tone:', u'\\U0001f6c0\\U0001f3fc': u':person_taking_bath_medium-light_skin_tone:', u'\\U0001f6c0\\U0001f3fd': u':person_taking_bath_medium_skin_tone:', u'\\u24c2': u':circled_M:', u'\\U0001f44d': u':thumbs_up:', u'\\U0001f1f7\\U0001f1ea': u':R\\xe9union:', u'\\U0001f64f\\U0001f3ff': u':folded_hands_dark_skin_tone:', u'\\U0001f64f\\U0001f3fe': u':folded_hands_medium-dark_skin_tone:', u'\\U0001f64f\\U0001f3fd': u':folded_hands_medium_skin_tone:', u'\\U0001f1f7\\U0001f1f4': u':Romania:', u'\\U0001f64f\\U0001f3fb': u':folded_hands_light_skin_tone:', u'\\U0001f9d4': u':bearded_person:', u'\\U0001f1f7\\U0001f1fc': u':Rwanda:', u'\\U0001f1f7\\U0001f1fa': u':Russia:', u'\\U0001f1f7\\U0001f1f8': u':Serbia:', u'\\U0001f3c3\\u200d\\u2642\\ufe0f': u':man_running:', u'\\U0001f363': u':sushi:', u'\\U0001f4e2': u':loudspeaker:', u'\\U0001f468\\U0001f3fc\\u200d\\U0001f3ed': u':man_factory_worker_medium-light_skin_tone:', u'\\U0001f468\\U0001f3fc\\u200d\\U0001f3eb': u':man_teacher_medium-light_skin_tone:', u'\\U0001f577': u':spider:', u'\\U0001f6f6': u':canoe:', u'\\U0001f3f8': u':badminton:', u'\\U0001f634': u':sleeping_face:', u'\\U0001f93e\\U0001f3fe\\u200d\\u2642\\ufe0f': u':man_playing_handball_medium-dark_skin_tone:', u'\\u270a': u':raised_fist:', u'\\U0001f191': u':CL_button:', u'\\U0001f493': u':beating_heart:', u'\\U0001f312': u':waxing_crescent_moon:', u'\\U0001f614': u':pensive_face:', u'\\U0001f3cb\\U0001f3ff\\u200d\\u2642\\ufe0f': u':man_lifting_weights_dark_skin_tone:', u'\\U0001f428': u':koala:', u'\\U0001f936': u':Mrs._Claus:', u'\\U0001f935': u':man_in_tuxedo:', u'\\U0001f3bd': u':running_shirt:', u'\\U0001f6bf': u':shower:', u'\\U0001f6a3\\U0001f3ff\\u200d\\u2640\\ufe0f': u':woman_rowing_boat_dark_skin_tone:', u'\\U0001f4d3': u':notebook:', u'\\U0001f352': u':cherries:', u'\\U0001f9e1': u':orange_heart:', u'\\U0001f468': u':man:', u'\\u2708': u':airplane:', u'\\U0001f64d\\U0001f3ff\\u200d\\u2642\\ufe0f': u':man_frowning_dark_skin_tone:', u'\\U0001f486\\U0001f3fc': u':person_getting_massage_medium-light_skin_tone:', u'\\U0001f3ca\\U0001f3fe\\u200d\\u2642\\ufe0f': u':man_swimming_medium-dark_skin_tone:', u'\\U0001f6b5\\U0001f3fd\\u200d\\u2640\\ufe0f': u':woman_mountain_biking_medium_skin_tone:', u'\\U0001f6b5\\U0001f3fc\\u200d\\u2640\\ufe0f': u':woman_mountain_biking_medium-light_skin_tone:', u'\\U0001f413': u':rooster:', u'\\U0001f392': u':school_backpack:', u'\\U0001f694': u':oncoming_police_car:', u'\\U0001f939\\U0001f3fb\\u200d\\u2640\\ufe0f': u':woman_juggling_light_skin_tone:', u'\\U0001f64b\\U0001f3fe\\u200d\\u2640\\ufe0f': u':woman_raising_hand_medium-dark_skin_tone:', u'\\U0001f64b\\U0001f3ff\\u200d\\u2642\\ufe0f': u':man_raising_hand_dark_skin_tone:', u'\\U0001f935\\U0001f3fd': u':man_in_tuxedo_medium_skin_tone:', u'\\U0001f935\\U0001f3fc': u':man_in_tuxedo_medium-light_skin_tone:', u'\\U0001f935\\U0001f3ff': u':man_in_tuxedo_dark_skin_tone:', u'\\U0001f935\\U0001f3fe': u':man_in_tuxedo_medium-dark_skin_tone:', u'\\U0001f935\\U0001f3fb': u':man_in_tuxedo_light_skin_tone:', u'\\U0001f529': u':nut_and_bolt:', u'\\U0001f4a8': u':dashing_away:', u'\\U0001f646\\U0001f3fb': u':person_gesturing_OK_light_skin_tone:', u'\\U0001f646\\U0001f3fc': u':person_gesturing_OK_medium-light_skin_tone:', u'\\U0001f646\\U0001f3fd': u':person_gesturing_OK_medium_skin_tone:', u'\\U0001f646\\U0001f3fe': u':person_gesturing_OK_medium-dark_skin_tone:', u'\\U0001f646\\U0001f3ff': u':person_gesturing_OK_dark_skin_tone:', u'\\U0001f33d': u':ear_of_corn:', u'\\u264b': u':Cancer:', u'\\U0001f63f': u':crying_cat_face:', u'\\U0001f486\\U0001f3fe\\u200d\\u2642\\ufe0f': u':man_getting_massage_medium-dark_skin_tone:', u'\\U0001f453': u':glasses:', u'\\U0001f3d2': u':ice_hockey:', u'\\U0001f44b': u':waving_hand:', u'\\U0001f469\\U0001f3fc\\u200d\\U0001f3a8': u':woman_artist_medium-light_skin_tone:', u'\\U0001f469\\U0001f3fd\\u200d\\U0001f4bc': u':woman_office_worker_medium_skin_tone:', u'\\U0001f961': u':takeout_box:', u'\\U0001f475\\U0001f3fc': u':old_woman_medium-light_skin_tone:', u'\\U0001f475\\U0001f3ff': u':old_woman_dark_skin_tone:', u'\\U0001f475\\U0001f3fe': u':old_woman_medium-dark_skin_tone:', u'\\U0001f6a7': u':construction:', u'\\U0001f475\\U0001f3fb': u':old_woman_light_skin_tone:', u'\\U0001f4e8': u':incoming_envelope:', u'\\U0001f91e\\U0001f3ff': u':crossed_fingers_dark_skin_tone:', u'\\u23f2': u':timer_clock:', u'\\u26f4': u':ferry:', u'\\U0001f955': u':carrot:', u'\\U0001f37d': u':fork_and_knife_with_plate:', u'\\U0001f5fe': u':map_of_Japan:', u'\\U0001f98b': u':butterfly:', u'\\U0001f469\\U0001f3fc\\u200d\\U0001f680': u':woman_astronaut_medium-light_skin_tone:', u'\\U0001f468\\u200d\\u2696\\ufe0f': u':man_judge:', u'\\U0001f575\\U0001f3fe\\u200d\\u2642\\ufe0f': u':man_detective_medium-dark_skin_tone:', u'\\U0001f695': u':taxi:', u'\\u270d\\U0001f3fd': u':writing_hand_medium_skin_tone:', u'\\u270d\\U0001f3fc': u':writing_hand_medium-light_skin_tone:', u'\\U0001f9d6\\U0001f3fb\\u200d\\u2642\\ufe0f': u':man_in_steamy_room_light_skin_tone:', u'\\u270d\\U0001f3fe': u':writing_hand_medium-dark_skin_tone:', u'\\u270d\\U0001f3fb': u':writing_hand_light_skin_tone:', u'\\U0001f920': u':cowboy_hat_face:', u'\\U0001f477\\u200d\\u2640\\ufe0f': u':woman_construction_worker:', u'\\U0001f3a7': u':headphone:', u'\\U0001f4a9': u':pile_of_poo:', u'\\U0001f528': u':hammer:', u'\\U0001f62a': u':sleepy_face:', u'\\u2734': u':eight-pointed_star:', u'\\U0001f33c': u':blossom:', u'\\U0001f43e': u':paw_prints:', u'\\U0001f1fd\\U0001f1f0': u':Kosovo:', u'\\U0001f575\\U0001f3fd\\u200d\\u2640\\ufe0f': u':woman_detective_medium_skin_tone:', u'\\u264a': u':Gemini:', u'3\\ufe0f\\u20e3': u':keycap_3:', u'\\U0001f38c': u':crossed_flags:', u'\\U0001f5d3': u':spiral_calendar:', u'\\U0001f934\\U0001f3fe': u':prince_medium-dark_skin_tone:', u'\\U0001f934\\U0001f3ff': u':prince_dark_skin_tone:', u'\\U0001f934\\U0001f3fc': u':prince_medium-light_skin_tone:', u'\\U0001f3f4\\U000e0067\\U000e0062\\U000e0065\\U000e006e\\U000e0067\\U000e007f': u':England:', u'\\U0001f934\\U0001f3fb': u':prince_light_skin_tone:', u'\\U0001f3e7': u':ATM_sign:', u'\\U0001f9d9\\U0001f3fd\\u200d\\u2642\\ufe0f': u':man_mage_medium_skin_tone:', u'\\U0001f4e9': u':envelope_with_arrow:', u'\\U0001f647\\U0001f3fc\\u200d\\u2642\\ufe0f': u':man_bowing_medium-light_skin_tone:', u'\\U0001f469\\u200d\\u2764\\ufe0f\\u200d\\U0001f48b\\u200d\\U0001f469': u':kiss_woman_woman:', u'\\U0001f473\\u200d\\u2642\\ufe0f': u':man_wearing_turban:', u'\\U0001f6b4\\U0001f3fb\\u200d\\u2640\\ufe0f': u':woman_biking_light_skin_tone:', u'\\u26f5': u':sailboat:', u'\\U0001f937\\U0001f3fc\\u200d\\u2640\\ufe0f': u':woman_shrugging_medium-light_skin_tone:', u'\\U0001f37c': u':baby_bottle:', u'\\U0001f47e': u':alien_monster:', u'\\U0001f647\\U0001f3ff\\u200d\\u2640\\ufe0f': u':woman_bowing_dark_skin_tone:', u'\\U0001f64d\\U0001f3fb\\u200d\\u2642\\ufe0f': u':man_frowning_light_skin_tone:', u'\\U0001f513': u':unlocked:', u'\\U0001f615': u':confused_face:', u'\\U0001f93d\\U0001f3fb\\u200d\\u2642\\ufe0f': u':man_playing_water_polo_light_skin_tone:', u'\\U0001f69a': u':delivery_truck:', u'\\U0001f327': u':cloud_with_rain:', u'\\U0001f429': u':poodle:', u'\\U0001f5a8': u':printer:', u'\\U0001f487\\U0001f3fc\\u200d\\u2642\\ufe0f': u':man_getting_haircut_medium-light_skin_tone:', u'\\U0001f937\\U0001f3ff\\u200d\\u2642\\ufe0f': u':man_shrugging_dark_skin_tone:', u'\\U0001f3c4\\U0001f3fe': u':person_surfing_medium-dark_skin_tone:', u'\\U0001f3c4\\U0001f3ff': u':person_surfing_dark_skin_tone:', u'\\U0001f3c4\\U0001f3fc': u':person_surfing_medium-light_skin_tone:', u'\\U0001f3c4\\U0001f3fd': u':person_surfing_medium_skin_tone:', u'\\U0001f3c4\\U0001f3fb': u':person_surfing_light_skin_tone:', u'\\U0001f442\\U0001f3fc': u':ear_medium-light_skin_tone:', u'\\U0001f442\\U0001f3fd': u':ear_medium_skin_tone:', u'\\U0001f442\\U0001f3fe': u':ear_medium-dark_skin_tone:', u'\\U0001f442\\U0001f3ff': u':ear_dark_skin_tone:', u'\\U0001f3bc': u':musical_score:', u'\\U0001f442\\U0001f3fb': u':ear_light_skin_tone:', u'\\U0001f487\\U0001f3ff\\u200d\\u2640\\ufe0f': u':woman_getting_haircut_dark_skin_tone:', u'\\U0001f94b': u':martial_arts_uniform:', u'\\U0001f523': u':input_symbols:', u'\\U0001f44f\\U0001f3ff': u':clapping_hands_dark_skin_tone:', u'\\U0001f44f\\U0001f3fe': u':clapping_hands_medium-dark_skin_tone:', u'\\U0001f44f\\U0001f3fd': u':clapping_hands_medium_skin_tone:', u'\\U0001f44f\\U0001f3fc': u':clapping_hands_medium-light_skin_tone:', u'\\U0001f44f\\U0001f3fb': u':clapping_hands_light_skin_tone:', u'\\U0001f487\\u200d\\u2642\\ufe0f': u':man_getting_haircut:', u'\\u270c\\U0001f3fe': u':victory_hand_medium-dark_skin_tone:', u'\\u270c\\U0001f3ff': u':victory_hand_dark_skin_tone:', u'\\U0001f3cc\\U0001f3fb\\u200d\\u2640\\ufe0f': u':woman_golfing_light_skin_tone:', u'\\u270c\\U0001f3fd': u':victory_hand_medium_skin_tone:', u'\\u270c\\U0001f3fb': u':victory_hand_light_skin_tone:', u'\\U0001f9e0': u':brain:', u'\\U0001f367': u':shaved_ice:', u'\\U0001f3c3\\U0001f3fc\\u200d\\u2640\\ufe0f': u':woman_running_medium-light_skin_tone:', u'\\U0001f5e8': u':left_speech_bubble:', u'\\U0001f1f4\\U0001f1f2': u':Oman:', u'\\U0001f98d': u':gorilla:', u'\\U0001f3ac': u':clapper_board:', u'\\U0001f468\\U0001f3ff\\u200d\\u2696\\ufe0f': u':man_judge_dark_skin_tone:', u'\\U0001f57a\\U0001f3fd': u':man_dancing_medium_skin_tone:', u'\\U0001f693': u':police_car:', u'\\U0001f57a\\U0001f3ff': u':man_dancing_dark_skin_tone:', u'\\U0001f595': u':middle_finger:', u'\\U0001f414': u':chicken:', u'\\U0001f57a\\U0001f3fb': u':man_dancing_light_skin_tone:', u'\\U0001f476\\U0001f3fb': u':baby_light_skin_tone:', u'\\U0001f476\\U0001f3fc': u':baby_medium-light_skin_tone:', u'\\U0001f9df\\u200d\\u2642\\ufe0f': u':man_zombie:', u'\\U0001f476\\U0001f3fe': u':baby_medium-dark_skin_tone:', u'\\U0001f476\\U0001f3ff': u':baby_dark_skin_tone:', u'\\U0001f922': u':nauseated_face:', u'\\U0001f9d8\\U0001f3fe\\u200d\\u2642\\ufe0f': u':man_in_lotus_position_medium-dark_skin_tone:', u'\\U0001f628': u':fearful_face:', u'\\U0001f52a': u':kitchen_knife:', u'\\U0001f91c\\U0001f3ff': u':right-facing_fist_dark_skin_tone:', u'\\U0001f937\\U0001f3fe\\u200d\\u2640\\ufe0f': u':woman_shrugging_medium-dark_skin_tone:', u'\\U0001f647\\U0001f3fe\\u200d\\u2642\\ufe0f': u':man_bowing_medium-dark_skin_tone:', u'\\u26f9\\U0001f3ff\\u200d\\u2642\\ufe0f': u':man_bouncing_ball_dark_skin_tone:', u'\\U0001f4bf': u':optical_disk:', u'\\U0001f3c4\\U0001f3fc\\u200d\\u2642\\ufe0f': u':man_surfing_medium-light_skin_tone:', u'\\u2648': u':Aries:', u'\\U0001f3c4\\U0001f3fc\\u200d\\u2640\\ufe0f': u':woman_surfing_medium-light_skin_tone:', u'\\U0001f3d1': u':field_hockey:', u'\\U0001f250': u':Japanese_bargain_button:', u'\\U0001f454': u':necktie:', u'\\U0001f41c': u':ant:', u'\\U0001f962': u':chopsticks:', u'\\U0001f366': u':soft_ice_cream:', u'\\U0001f566': u':eleven-thirty:', u'\\u23f1': u':stopwatch:', u'\\u26f3': u':flag_in_hole:', u'\\U0001f4ff': u':prayer_beads:', u'\\u2709': u':envelope:', u'\\U0001f616': u':confounded_face:', u'\\U0001f469\\u200d\\U0001f469\\u200d\\U0001f467\\u200d\\U0001f467': u':family_woman_woman_girl_girl:', u'\\U0001f469\\u200d\\U0001f469\\u200d\\U0001f467\\u200d\\U0001f466': u':family_woman_woman_girl_boy:', u'\\U0001f311': u':new_moon:', u'\\U0001f613': u':downcast_face_with_sweat:', u'\\U0001f64e\\U0001f3fb': u':person_pouting_light_skin_tone:', u'\\U0001f64e\\U0001f3fc': u':person_pouting_medium-light_skin_tone:', u'\\U0001f494': u':broken_heart:', u'\\U0001f64e\\U0001f3fe': u':person_pouting_medium-dark_skin_tone:', u'\\U0001f64e\\U0001f3ff': u':person_pouting_dark_skin_tone:', u'\\U0001f6cc\\U0001f3fe': u':person_in_bed_medium-dark_skin_tone:', u'\\U0001f6cc\\U0001f3ff': u':person_in_bed_dark_skin_tone:', u'\\U0001f6cc\\U0001f3fc': u':person_in_bed_medium-light_skin_tone:', u'\\U0001f6cc\\U0001f3fd': u':person_in_bed_medium_skin_tone:', u'\\U0001f6cc\\U0001f3fb': u':person_in_bed_light_skin_tone:', u'\\U0001f469\\U0001f3fc\\u200d\\U0001f52c': u':woman_scientist_medium-light_skin_tone:', u'\\U0001f3a6': u':cinema:', u'\\U0001f6a8': u':police_car_light:', u'\\U0001f469\\U0001f3fc\\u200d\\U0001f527': u':woman_mechanic_medium-light_skin_tone:', u'\\U0001f6a3\\U0001f3fd\\u200d\\u2642\\ufe0f': u':man_rowing_boat_medium_skin_tone:', u'\\U0001f43f': u':chipmunk:', u'\\U0001f471\\U0001f3ff\\u200d\\u2642\\ufe0f': u':blond-haired_man_dark_skin_tone:', u'\\U0001f1ea\\U0001f1f8': u':Spain:', u'\\U0001f1ea\\U0001f1f9': u':Ethiopia:', u'\\U0001f1ea\\U0001f1fa': u':European_Union:', u'\\u26c8': u':cloud_with_lightning_and_rain:', u'\\U0001f1ea\\U0001f1f7': u':Eritrea:', u'\\U0001f1ea\\U0001f1ec': u':Egypt:', u'\\U0001f1ea\\U0001f1ed': u':Western_Sahara:', u'\\U0001f1ea\\U0001f1e8': u':Ecuador:', u'\\U0001f4d4': u':notebook_with_decorative_cover:', u'\\U0001f1ea\\U0001f1ea': u':Estonia:', u'\\U0001f1ea\\U0001f1e6': u':Ceuta_&_Melilla:', u'\\U0001f1f3\\U0001f1fa': u':Niue:', u'\\U0001f9e2': u':billed_cap:', u'\\U0001f1f3\\U0001f1ff': u':New_Zealand:', u'\\U0001f3e6': u':bank:', u'\\U0001f1f3\\U0001f1f1': u':Netherlands:', u'\\U0001f3cb\\U0001f3fb\\u200d\\u2642\\ufe0f': u':man_lifting_weights_light_skin_tone:', u'\\U0001f1f3\\U0001f1f7': u':Nauru:', u'\\U0001f1f3\\U0001f1f5': u':Nepal:', u'\\U0001f1f3\\U0001f1f4': u':Norway:', u'\\U0001f1f3\\U0001f1eb': u':Norfolk_Island:', u'\\U0001f1f3\\U0001f1ea': u':Niger:', u'\\U0001f1f3\\U0001f1e8': u':New_Caledonia:', u'\\U0001f1f3\\U0001f1ee': u':Nicaragua:', u'\\U0001f1f3\\U0001f1ec': u':Nigeria:', u'\\U0001f1f3\\U0001f1e6': u':Namibia:', u'\\U0001f47f': u':angry_face_with_horns:', u'\\U0001f450\\U0001f3fb': u':open_hands_light_skin_tone:', u'\\U0001f469\\U0001f3fd\\u200d\\U0001f393': u':woman_student_medium_skin_tone:', u'\\U0001f450\\U0001f3fe': u':open_hands_medium-dark_skin_tone:', u'\\U0001f450\\U0001f3ff': u':open_hands_dark_skin_tone:', u'\\U0001f450\\U0001f3fc': u':open_hands_medium-light_skin_tone:', u'\\U0001f450\\U0001f3fd': u':open_hands_medium_skin_tone:', u'\\U0001f310': u':globe_with_meridians:', u'\\U0001f495': u':two_hearts:', u'\\U0001f514': u':bell:', u'\\U0001f1fc\\U0001f1eb': u':Wallis_&_Futuna:', u'\\U0001f481\\U0001f3fd\\u200d\\u2640\\ufe0f': u':woman_tipping_hand_medium_skin_tone:', u'\\U0001f6a9': u':triangular_flag:', u'\\U0001f42a': u':camel:', u'\\U0001f469\\U0001f3fc\\u200d\\U0001f4bc': u':woman_office_worker_medium-light_skin_tone:', u'\\U0001f469\\U0001f3fd\\u200d\\U0001f3a8': u':woman_artist_medium_skin_tone:', u'\\U0001f6a3\\U0001f3fd\\u200d\\u2640\\ufe0f': u':woman_rowing_boat_medium_skin_tone:', u'\\U0001f469\\U0001f3fc\\u200d\\U0001f4bb': u':woman_technologist_medium-light_skin_tone:', u'\\U0001f3bb': u':violin:', u'\\U0001f469\\U0001f3fd\\u200d\\U0001f3a4': u':woman_singer_medium_skin_tone:', u'\\U0001f63e': u':pouting_cat_face:', u'\\U0001f91a\\U0001f3fb': u':raised_back_of_hand_light_skin_tone:', u'\\U0001f94c': u':curling_stone:', u'\\U0001f350': u':pear:', u'\\U0001f4d5': u':closed_book:', u'\\U0001f554': u':five_o\\u2019clock:', u'\\U0001f338': u':cherry_blossom:', u'\\U0001f4a2': u':anger_symbol:', u'\\U0001f468\\U0001f3fe\\u200d\\U0001f4bc': u':man_office_worker_medium-dark_skin_tone:', u'\\U0001f937\\u200d\\u2642\\ufe0f': u':man_shrugging:', u'\\U0001f6e9': u':small_airplane:', u'\\U0001f575\\U0001f3fb\\u200d\\u2642\\ufe0f': u':man_detective_light_skin_tone:', u'\\U0001f46a': u':family:', u'\\U0001f46e\\U0001f3fb': u':police_officer_light_skin_tone:', u'\\U0001f3c3\\u200d\\u2640\\ufe0f': u':woman_running:', u'\\U0001f469\\U0001f3fd\\u200d\\U0001f3eb': u':woman_teacher_medium_skin_tone:', u'\\U0001f469\\U0001f3fd\\u200d\\U0001f3ed': u':woman_factory_worker_medium_skin_tone:', u'\\U0001f645\\U0001f3ff\\u200d\\u2642\\ufe0f': u':man_gesturing_NO_dark_skin_tone:', u'\\U0001f5ff': u':moai:', u'\\U0001f481\\U0001f3fb\\u200d\\u2640\\ufe0f': u':woman_tipping_hand_light_skin_tone:', u'\\U0001f938\\U0001f3fd\\u200d\\u2640\\ufe0f': u':woman_cartwheeling_medium_skin_tone:', u'\\U0001f31d': u':full_moon_face:', u'\\U0001f98c': u':deer:', u'\\U0001f3ec': u':department_store:', u'\\U0001f6b6\\U0001f3fe\\u200d\\u2642\\ufe0f': u':man_walking_medium-dark_skin_tone:', u'\\U0001f415': u':dog:', u'\\u231b': u':hourglass_done:', u'\\U0001f44a\\U0001f3fc': u':oncoming_fist_medium-light_skin_tone:', u'\\U0001f44a\\U0001f3fd': u':oncoming_fist_medium_skin_tone:', u'\\U0001f44a\\U0001f3fe': u':oncoming_fist_medium-dark_skin_tone:', u'\\U0001f44a\\U0001f3ff': u':oncoming_fist_dark_skin_tone:', u'\\U0001f469\\U0001f3fd\\u200d\\U0001f33e': u':woman_farmer_medium_skin_tone:', u'\\U0001f91c\\U0001f3fe': u':right-facing_fist_medium-dark_skin_tone:', u'\\U0001f482\\U0001f3ff\\u200d\\u2640\\ufe0f': u':woman_guard_dark_skin_tone:', u'\\U0001f91c\\U0001f3fc': u':right-facing_fist_medium-light_skin_tone:', u'\\U0001f4aa': u':flexed_biceps:', u'\\U0001f91c\\U0001f3fb': u':right-facing_fist_light_skin_tone:', u'\\U0001f482\\U0001f3fb': u':guard_light_skin_tone:', u'\\u2733': u':eight-spoked_asterisk:', u'\\U0001f937': u':person_shrugging:', u'\\U0001f33b': u':sunflower:', u'\\u303d': u':part_alternation_mark:', u'\\U0001f6be': u':water_closet:', u'\\U0001f93e\\U0001f3fb': u':person_playing_handball_light_skin_tone:', u'\\U0001f93e\\U0001f3fc': u':person_playing_handball_medium-light_skin_tone:', u'\\U0001f93e\\U0001f3fd': u':person_playing_handball_medium_skin_tone:', u'\\U0001f93e\\U0001f3fe': u':person_playing_handball_medium-dark_skin_tone:', u'\\U0001f93e\\U0001f3ff': u':person_playing_handball_dark_skin_tone:', u'\\u2649': u':Taurus:', u'\\U0001f251': u':Japanese_acceptable_button:', u'\\U0001f3d0': u':volleyball:', u'\\U0001f455': u':t-shirt:', u'\\U0001f3c4\\u200d\\u2640\\ufe0f': u':woman_surfing:', u'\\U0001f937\\U0001f3fb\\u200d\\u2642\\ufe0f': u':man_shrugging_light_skin_tone:', u'\\U0001f575\\U0001f3fd': u':detective_medium_skin_tone:', u'\\U0001f575\\U0001f3fc': u':detective_medium-light_skin_tone:', u'\\u264e': u':Libra:', u'\\U0001f1ef\\U0001f1f4': u':Jordan:', u'\\U0001f575\\U0001f3fb': u':detective_light_skin_tone:', u'\\U0001f471\\U0001f3fb': u':blond-haired_person_light_skin_tone:', u'\\U0001f4ea': u':closed_mailbox_with_lowered_flag:', u'\\U0001f6b6\\u200d\\u2640\\ufe0f': u':woman_walking:', u'\\U0001f471\\U0001f3fc': u':blond-haired_person_medium-light_skin_tone:', u'\\U0001f471\\U0001f3ff': u':blond-haired_person_dark_skin_tone:', u'\\U0001f471\\U0001f3fe': u':blond-haired_person_medium-dark_skin_tone:', u'\\u23f0': u':alarm_clock:', u'\\U0001f487\\U0001f3fb\\u200d\\u2640\\ufe0f': u':woman_getting_haircut_light_skin_tone:', u'\\U0001f9dd\\U0001f3fc\\u200d\\u2642\\ufe0f': u':man_elf_medium-light_skin_tone:', u'\\U0001f37b': u':clinking_beer_mugs:', u'\\U0001f468\\u200d\\u2695\\ufe0f': u':man_health_worker:', u'\\U0001f64b\\U0001f3ff\\u200d\\u2640\\ufe0f': u':woman_raising_hand_dark_skin_tone:', u'\\U0001f468\\U0001f3fb\\u200d\\u2708\\ufe0f': u':man_pilot_light_skin_tone:', u'\\U0001f410': u':goat:', u'\\U0001f44d\\U0001f3fc': u':thumbs_up_medium-light_skin_tone:', u'\\U0001f469\\U0001f3fc\\u200d\\U0001f393': u':woman_student_medium-light_skin_tone:', u'\\U0001f469\\U0001f3fd\\u200d\\U0001f4bb': u':woman_technologist_medium_skin_tone:', u'\\U0001f91e\\U0001f3fb': u':crossed_fingers_light_skin_tone:', u'\\U0001f91e\\U0001f3fc': u':crossed_fingers_medium-light_skin_tone:', u'\\U0001f91e\\U0001f3fd': u':crossed_fingers_medium_skin_tone:', u'\\U0001f91e\\U0001f3fe': u':crossed_fingers_medium-dark_skin_tone:', u'\\U0001f526': u':flashlight:', u'\\U0001f469\\U0001f3fc\\u200d\\U0001f3a4': u':woman_singer_medium-light_skin_tone:', u'\\U0001f32a': u':tornado:', u'\\U0001f9df': u':zombie:', u'\\U0001f4bb': u':laptop_computer:', u'\\U0001f63c': u':cat_face_with_wry_smile:', u'\\U0001f1f9\\U0001f1e9': u':Chad:', u'\\U0001f1f9\\U0001f1e8': u':Turks_&_Caicos_Islands:', u'\\U0001f1f9\\U0001f1eb': u':French_Southern_Territories:', u'\\U0001f1f9\\U0001f1ed': u':Thailand:', u'\\U0001f1f9\\U0001f1ec': u':Togo:', u'\\U0001f1f9\\U0001f1ef': u':Tajikistan:', u'\\U0001f1f9\\U0001f1e6': u':Tristan_da_Cunha:', u'\\U0001f1f9\\U0001f1f9': u':Trinidad_&_Tobago:', u'\\U0001f450': u':open_hands:', u'\\U0001f1f9\\U0001f1fb': u':Tuvalu:', u'\\U0001f3d5': u':camping:', u'\\U0001f1f9\\U0001f1fc': u':Taiwan:', u'\\U0001f1f9\\U0001f1ff': u':Tanzania:', u'\\U0001f1f9\\U0001f1f1': u':Timor-Leste:', u'\\U0001f1f9\\U0001f1f0': u':Tokelau:', u'\\U0001f1f9\\U0001f1f3': u':Tunisia:', u'\\U0001f1f9\\U0001f1f2': u':Turkmenistan:', u'\\U0001f1f9\\U0001f1f4': u':Tonga:', u'\\U0001f1f9\\U0001f1f7': u':Turkey:', u'\\U0001f469\\u200d\\U0001f469\\u200d\\U0001f466\\u200d\\U0001f466': u':family_woman_woman_boy_boy:', u'\\U0001f469\\U0001f3fc\\u200d\\U0001f3ed': u':woman_factory_worker_medium-light_skin_tone:', u'\\U0001f647\\U0001f3fb': u':person_bowing_light_skin_tone:', u'\\U0001f469\\U0001f3fc\\u200d\\U0001f3eb': u':woman_teacher_medium-light_skin_tone:', u'\\U0001f930\\U0001f3fb': u':pregnant_woman_light_skin_tone:', u'\\U0001f36a': u':cookie:', u'\\U0001f930\\U0001f3fe': u':pregnant_woman_medium-dark_skin_tone:', u'\\U0001f930\\U0001f3ff': u':pregnant_woman_dark_skin_tone:', u'\\U0001f930\\U0001f3fc': u':pregnant_woman_medium-light_skin_tone:', u'\\U0001f930\\U0001f3fd': u':pregnant_woman_medium_skin_tone:', u'\\U0001f9d8\\U0001f3fb': u':person_in_lotus_position_light_skin_tone:', u'\\U0001f9d8\\U0001f3fe': u':person_in_lotus_position_medium-dark_skin_tone:', u'\\U0001f9d8\\U0001f3ff': u':person_in_lotus_position_dark_skin_tone:', u'\\U0001f9d8\\U0001f3fc': u':person_in_lotus_position_medium-light_skin_tone:', u'\\U0001f9d8\\U0001f3fd': u':person_in_lotus_position_medium_skin_tone:', u'\\U0001f4fb': u':radio:', u'\\U0001f17e': u':O_button_(blood_type):', u'\\u2b05': u':left_arrow:', u'\\U0001f98e': u':lizard:', u'\\U0001f511': u':key:', u'\\U0001f490': u':bouquet:', u'\\U0001f315': u':full_moon:', u'\\u270b\\U0001f3fb': u':raised_hand_light_skin_tone:', u'\\u270b\\U0001f3ff': u':raised_hand_dark_skin_tone:', u'\\u269c': u':fleur-de-lis:', u'\\u270b\\U0001f3fd': u':raised_hand_medium_skin_tone:', u'\\u270b\\U0001f3fc': u':raised_hand_medium-light_skin_tone:', u'\\U0001f627': u':anguished_face:', u'\\U0001f3aa': u':circus_tent:', u'\\U0001f469\\U0001f3fc\\u200d\\U0001f33e': u':woman_farmer_medium-light_skin_tone:', u'\\U0001f939': u':person_juggling:', u'\\U0001f918\\U0001f3fb': u':sign_of_the_horns_light_skin_tone:', u'\\U0001f43b': u':bear_face:', u'\\U0001f6bc': u':baby_symbol:', u'\\U0001f64e\\U0001f3ff\\u200d\\u2640\\ufe0f': u':woman_pouting_dark_skin_tone:', u'\\U0001f482\\U0001f3fc\\u200d\\u2642\\ufe0f': u':man_guard_medium-light_skin_tone:', u'\\U0001f486\\U0001f3fd\\u200d\\u2642\\ufe0f': u':man_getting_massage_medium_skin_tone:', u'\\U0001f551': u':two_o\\u2019clock:', u'\\U0001f4d0': u':triangular_ruler:', u'\\U0001f355': u':pizza:', u'\\U0001f378': u':cocktail_glass:', u'\\U0001f6b4\\U0001f3fe': u':person_biking_medium-dark_skin_tone:', u'\\U0001f6b4\\U0001f3ff': u':person_biking_dark_skin_tone:', u'\\U0001f6b4\\U0001f3fc': u':person_biking_medium-light_skin_tone:', u'\\U0001f6b4\\U0001f3fd': u':person_biking_medium_skin_tone:', u'\\U0001f6b4\\U0001f3fb': u':person_biking_light_skin_tone:', u'\\U0001f469\\U0001f3fd\\u200d\\u2696\\ufe0f': u':woman_judge_medium_skin_tone:', u'\\U0001f9d9\\U0001f3fd\\u200d\\u2640\\ufe0f': u':woman_mage_medium_skin_tone:', u'\\U0001f645\\U0001f3fc\\u200d\\u2642\\ufe0f': u':man_gesturing_NO_medium-light_skin_tone:', u'\\u26f9\\ufe0f\\u200d\\u2642\\ufe0f': u':man_bouncing_ball:', u'\\U0001f47b': u':ghost:', u'\\U0001f469\\U0001f3fc\\u200d\\U0001f373': u':woman_cook_medium-light_skin_tone:', u'\\u2601': u':cloud:', u'\\U0001f477\\U0001f3fe\\u200d\\u2642\\ufe0f': u':man_construction_worker_medium-dark_skin_tone:', u'\\U0001f491': u':couple_with_heart:', u'\\U0001f937\\U0001f3ff\\u200d\\u2640\\ufe0f': u':woman_shrugging_dark_skin_tone:', u'\\U0001f193': u':FREE_button:', u'\\U0001f612': u':unamused_face:', u'\\U0001f314': u':waxing_gibbous_moon:', u'\\U0001f937\\U0001f3ff': u':person_shrugging_dark_skin_tone:', u'\\U0001f937\\U0001f3fe': u':person_shrugging_medium-dark_skin_tone:', u'\\U0001f937\\U0001f3fd': u':person_shrugging_medium_skin_tone:', u'\\U0001f937\\U0001f3fc': u':person_shrugging_medium-light_skin_tone:', u'\\U0001f937\\U0001f3fb': u':person_shrugging_light_skin_tone:', u'\\U0001f3f3\\ufe0f\\u200d\\U0001f308': u':rainbow_flag:', u'\\U0001f426': u':bird:', u'\\U0001f472\\U0001f3fc': u':man_with_Chinese_cap_medium-light_skin_tone:', u'\\U0001f472\\U0001f3fd': u':man_with_Chinese_cap_medium_skin_tone:', u'\\U0001f472\\U0001f3fe': u':man_with_Chinese_cap_medium-dark_skin_tone:', u'\\U0001f472\\U0001f3ff': u':man_with_Chinese_cap_dark_skin_tone:', u'\\U0001f472\\U0001f3fb': u':man_with_Chinese_cap_light_skin_tone:', u'\\U0001f441\\ufe0f\\u200d\\U0001f5e8\\ufe0f': u':eye_in_speech_bubble:', u'\\U0001f938': u':person_cartwheeling:', u'\\U0001f6bd': u':toilet:', u'\\U0001f469\\U0001f3fc\\u200d\\u2708\\ufe0f': u':woman_pilot_medium-light_skin_tone:', u'\\U0001f3bf': u':skis:', u'\\U0001f467\\U0001f3fb': u':girl_light_skin_tone:', u'\\U0001f9d9\\U0001f3fb\\u200d\\u2640\\ufe0f': u':woman_mage_light_skin_tone:', u'\\U0001f4d1': u':bookmark_tabs:', u'\\U0001f550': u':one_o\\u2019clock:', u'\\U0001f487\\u200d\\u2640\\ufe0f': u':woman_getting_haircut:', u'\\U0001f354': u':hamburger:', u'\\U0001f3c3\\U0001f3fc\\u200d\\u2642\\ufe0f': u':man_running_medium-light_skin_tone:', u'\\U0001f64d\\U0001f3fd': u':person_frowning_medium_skin_tone:', u'\\U0001f64d\\U0001f3fc': u':person_frowning_medium-light_skin_tone:', u'\\U0001f64d\\U0001f3ff': u':person_frowning_dark_skin_tone:', u'\\U0001f9db\\U0001f3fb\\u200d\\u2642\\ufe0f': u':man_vampire_light_skin_tone:', u'\\U0001f64d\\U0001f3fb': u':person_frowning_light_skin_tone:', u'\\U0001f9e3': u':scarf:', u'\\U0001f93d\\U0001f3fb\\u200d\\u2640\\ufe0f': u':woman_playing_water_polo_light_skin_tone:', u'\\U0001f466': u':boy:', u'\\U0001f5fb': u':mount_fuji:', u'\\U0001f3ea': u':convenience_store:', u'\\U0001f9dd\\U0001f3fd\\u200d\\u2640\\ufe0f': u':woman_elf_medium_skin_tone:', u'\\U0001f411': u':ewe:', u'\\U0001f590': u':hand_with_fingers_splayed:', u'#\\ufe0f\\u20e3': u':keycap_#:', u'\\U0001f692': u':fire_engine:', u'\\u261d': u':index_pointing_up:', u'\\U0001f471\\U0001f3fb\\u200d\\u2642\\ufe0f': u':blond-haired_man_light_skin_tone:', u'\\U0001f923': u':rolling_on_the_floor_laughing:', u'\\U0001f4a6': u':sweat_droplets:', u'\\U0001f469\\U0001f3fd\\u200d\\U0001f52c': u':woman_scientist_medium_skin_tone:', u'\\U0001f53b': u':red_triangle_pointed_down:', u'\\U0001f63d': u':kissing_cat_face:', u'\\U0001f33f': u':herb:', u'\\U0001f482\\U0001f3fb\\u200d\\u2640\\ufe0f': u':woman_guard_light_skin_tone:', u'\\U0001f1ee\\U0001f1e8': u':Canary_Islands:', u'\\u2747': u':sparkle:', u'\\U0001f1ee\\U0001f1e9': u':Indonesia:', u'\\u2049': u':exclamation_question_mark:', u'\\U0001f481\\U0001f3ff\\u200d\\u2640\\ufe0f': u':woman_tipping_hand_dark_skin_tone:', u'\\U0001f1ee\\U0001f1ea': u':Ireland:', u'\\U0001f46e\\u200d\\u2642\\ufe0f': u':man_police_officer:', u'\\U0001f451': u':crown:', u'\\U0001f6d2': u':shopping_cart:', u'\\U0001f1e8\\U0001f1f4': u':Colombia:', u'\\U0001f64b\\u200d\\u2642\\ufe0f': u':man_raising_hand:', u'\\U0001f469\\U0001f3fb\\u200d\\U0001f52c': u':woman_scientist_light_skin_tone:', u'\\U0001f937\\U0001f3fc\\u200d\\u2642\\ufe0f': u':man_shrugging_medium-light_skin_tone:', u'\\U0001f963': u':bowl_with_spoon:', u'\\U0001f4e6': u':package:', u'\\U0001f1e8\\U0001f1e8': u':Cocos_(Keeling)_Islands:', u'\\u26f2': u':fountain:', u'\\U0001f473\\u200d\\u2640\\ufe0f': u':woman_wearing_turban:', u'\\U0001f37f': u':popcorn:', u'\\U0001f1f8\\U0001f1ea': u':Sweden:', u'\\U0001f1f8\\U0001f1e8': u':Seychelles:', u'\\U0001f1f8\\U0001f1e9': u':Sudan:', u'\\U0001f1f8\\U0001f1ee': u':Slovenia:', u'\\U0001f1f8\\U0001f1ef': u':Svalbard_&_Jan_Mayen:', u'\\U0001f1f8\\U0001f1ec': u':Singapore:', u'\\U0001f1f8\\U0001f1ed': u':St._Helena:', u'\\U0001f42d': u':mouse_face:', u'\\U0001f469\\U0001f3fd\\u200d\\U0001f692': u':woman_firefighter_medium_skin_tone:', u'\\U0001f1f8\\U0001f1e6': u':Saudi_Arabia:', u'\\U0001f1f8\\U0001f1e7': u':Solomon_Islands:', u'\\U0001f1f8\\U0001f1fb': u':El_Salvador:', u'\\U0001f1f8\\U0001f1f8': u':South_Sudan:', u'\\U0001f1f8\\U0001f1f9': u':S\\xe3o_Tom\\xe9_&_Pr\\xedncipe:', u'\\U0001f1f8\\U0001f1fe': u':Syria:', u'\\U0001f1f8\\U0001f1ff': u':Swaziland:', u'\\U0001f1f8\\U0001f1fd': u':Sint_Maarten:', u'\\U0001f1f8\\U0001f1f2': u':San_Marino:', u'\\U0001f1f8\\U0001f1f3': u':Senegal:', u'\\u269b': u':atom_symbol:', u'\\U0001f44c\\U0001f3fd': u':OK_hand_medium_skin_tone:', u'\\U0001f6b6\\U0001f3fd\\u200d\\u2642\\ufe0f': u':man_walking_medium_skin_tone:', u'\\U0001f44c\\U0001f3fb': u':OK_hand_light_skin_tone:', u'\\U0001f1f8\\U0001f1f4': u':Somalia:', u'\\U0001f477\\U0001f3fb\\u200d\\u2642\\ufe0f': u':man_construction_worker_light_skin_tone:', u'\\U0001f4a7': u':droplet:', u'\\U0001f3a9': u':top_hat:', u'\\U0001f3cc\\U0001f3fb\\u200d\\u2642\\ufe0f': u':man_golfing_light_skin_tone:', u'\\U0001f3cb\\U0001f3fd\\u200d\\u2640\\ufe0f': u':woman_lifting_weights_medium_skin_tone:', u'\\U0001f6bb': u':restroom:', u'\\U0001f93a': u':person_fencing:', u'\\U0001f43c': u':panda_face:', u'\\U0001f33e': u':sheaf_of_rice:', u'\\U0001f9da\\U0001f3ff\\u200d\\u2640\\ufe0f': u':woman_fairy_dark_skin_tone:', u'\\U0001f9d6\\u200d\\u2640\\ufe0f': u':woman_in_steamy_room:', u'\\U0001f449\\U0001f3fb': u':backhand_index_pointing_right_light_skin_tone:', u'\\U0001f3cb\\U0001f3fb\\u200d\\u2640\\ufe0f': u':woman_lifting_weights_light_skin_tone:', u'\\U0001f552': u':three_o\\u2019clock:', u'\\U0001f1ee\\U0001f1f1': u':Israel:', u'\\U0001f93e\\U0001f3ff\\u200d\\u2640\\ufe0f': u':woman_playing_handball_dark_skin_tone:', u'\\U0001f464': u':bust_in_silhouette:', u'\\U0001f486\\u200d\\u2640\\ufe0f': u':woman_getting_massage:', u'\\U0001f9e5': u':coat:', u'\\U0001f4e7': u':e-mail:', u'\\U0001f510': u':locked_with_key:', u'\\U0001f3e9': u':love_hotel:', u'\\U0001f6c0\\U0001f3fe': u':person_taking_bath_medium-dark_skin_tone:', u'\\U0001f9da\\U0001f3fc\\u200d\\u2642\\ufe0f': u':man_fairy_medium-light_skin_tone:', u'\\U0001f473\\U0001f3fe\\u200d\\u2642\\ufe0f': u':man_wearing_turban_medium-dark_skin_tone:', u'\\U0001f1ee\\U0001f1f6': u':Iraq:', u'\\U0001f481\\U0001f3fd\\u200d\\u2642\\ufe0f': u':man_tipping_hand_medium_skin_tone:', u'\\U0001f5fd': u':Statue_of_Liberty:', u'\\U0001f47c': u':baby_angel:', u'\\U0001f37e': u':bottle_with_popping_cork:', u'\\U0001f690': u':minibus:', u'\\U0001f647\\u200d\\u2642\\ufe0f': u':man_bowing:', u'\\U0001f645\\U0001f3fe': u':person_gesturing_NO_medium-dark_skin_tone:', u'\\u26f9\\ufe0f\\u200d\\u2640\\ufe0f': u':woman_bouncing_ball:', u'\\U0001f925': u':lying_face:', u'\\U0001f427': u':penguin:', u'\\U0001f329': u':cloud_with_lightning:', u'\\U0001f64b\\U0001f3fd\\u200d\\u2640\\ufe0f': u':woman_raising_hand_medium_skin_tone:', u'\\u26b0': u':coffin:', u'\\U0001f9d9\\U0001f3fb': u':mage_light_skin_tone:', u'\\U0001f9d9\\U0001f3fd': u':mage_medium_skin_tone:', u'\\U0001f9d9\\U0001f3fc': u':mage_medium-light_skin_tone:', u'\\U0001f9d9\\U0001f3ff': u':mage_dark_skin_tone:', u'\\U0001f9d9\\U0001f3fe': u':mage_medium-dark_skin_tone:', u'\\U0001f63b': u':smiling_cat_face_with_heart-eyes:', u'\\U0001f53d': u':downwards_button:', u'\\U0001f4bc': u':briefcase:', u'\\U0001f3be': u':tennis:', u'\\U0001f9d6\\U0001f3ff\\u200d\\u2640\\ufe0f': u':woman_in_steamy_room_dark_skin_tone:', u'\\U0001f471\\U0001f3fc\\u200d\\u2642\\ufe0f': u':blond-haired_man_medium-light_skin_tone:', u'\\u26f9\\U0001f3fd\\u200d\\u2640\\ufe0f': u':woman_bouncing_ball_medium_skin_tone:', u'\\U0001f6d0': u':place_of_worship:', u'\\U0001f5d2': u':spiral_notepad:', u'\\U0001f486\\u200d\\u2642\\ufe0f': u':man_getting_massage:', u'\\U0001f64b\\U0001f3fb': u':person_raising_hand_light_skin_tone:', u'\\U0001f64b\\U0001f3ff': u':person_raising_hand_dark_skin_tone:', u'\\U0001f64b\\U0001f3fe': u':person_raising_hand_medium-dark_skin_tone:', u'\\U0001f64b\\U0001f3fd': u':person_raising_hand_medium_skin_tone:', u'\\U0001f64b\\U0001f3fc': u':person_raising_hand_medium-light_skin_tone:', u'\\U0001f937\\u200d\\u2640\\ufe0f': u':woman_shrugging:', u'\\U0001f965': u':coconut:', u'\\U0001f467': u':girl:', u'\\U0001f369': u':doughnut:', u'\\u26f0': u':mountain:', u'\\U0001f64f\\U0001f3fc': u':folded_hands_medium-light_skin_tone:', u'\\U0001f938\\U0001f3fd\\u200d\\u2642\\ufe0f': u':man_cartwheeling_medium_skin_tone:', u'\\U0001f4fc': u':videocassette:', u'\\U0001f9d6\\U0001f3fc\\u200d\\u2642\\ufe0f': u':man_in_steamy_room_medium-light_skin_tone:', u'\\U0001f3ca\\U0001f3fd\\u200d\\u2642\\ufe0f': u':man_swimming_medium_skin_tone:', u'\\U0001f301': u':foggy:', u'\\U0001f4aa\\U0001f3fe': u':flexed_biceps_medium-dark_skin_tone:', u'\\U0001f98f': u':rhinoceros:', u'\\U0001f691': u':ambulance:', u'\\U0001f393': u':graduation_cap:', u'\\U0001f412': u':monkey:', u'\\U0001f91b\\U0001f3fc': u':left-facing_fist_medium-light_skin_tone:', u'\\U0001f3ca\\U0001f3fc': u':person_swimming_medium-light_skin_tone:', u'\\U0001f3ca\\U0001f3fd': u':person_swimming_medium_skin_tone:', u'\\U0001f3ca\\U0001f3fe': u':person_swimming_medium-dark_skin_tone:', u'\\U0001f3ca\\U0001f3ff': u':person_swimming_dark_skin_tone:', u'\\U0001f924': u':drooling_face:', u'\\U0001f3ca\\U0001f3fb': u':person_swimming_light_skin_tone:', u'\\U0001f328': u':cloud_with_snow:', u'\\u26b1': u':funeral_urn:', u'\\U0001f93d\\U0001f3fc': u':person_playing_water_polo_medium-light_skin_tone:', u'\\U0001f4bd': u':computer_disk:', u'\\U0001f53c': u':upwards_button:', u'\\U0001f937\\U0001f3fb\\u200d\\u2640\\ufe0f': u':woman_shrugging_light_skin_tone:', u'\\U0001f9dc\\U0001f3fb\\u200d\\u2642\\ufe0f': u':merman_light_skin_tone:', u'\\U0001f9db\\U0001f3fc\\u200d\\u2640\\ufe0f': u':woman_vampire_medium-light_skin_tone:', u'\\U0001f3d3': u':ping_pong:', u'\\U0001f452': u':woman\\u2019s_hat:', u'\\U0001f93d\\U0001f3fb': u':person_playing_water_polo_light_skin_tone:', u'\\U0001f964': u':cup_with_straw:', u'\\U0001f9dd\\U0001f3fc\\u200d\\u2640\\ufe0f': u':woman_elf_medium-light_skin_tone:', u'\\U0001f368': u':ice_cream:', u'\\U0001f9da\\u200d\\u2642\\ufe0f': u':man_fairy:', u'\\U0001f3cb\\U0001f3fc\\u200d\\u2642\\ufe0f': u':man_lifting_weights_medium-light_skin_tone:', u'\\U0001f3c3\\U0001f3fb': u':person_running_light_skin_tone:', u'\\U0001f6b5\\u200d\\u2640\\ufe0f': u':woman_mountain_biking:', u'\\u23f3': u':hourglass_not_done:', u'\\U0001f6a3\\U0001f3fb\\u200d\\u2642\\ufe0f': u':man_rowing_boat_light_skin_tone:', u'\\U0001f3c3\\U0001f3ff': u':person_running_dark_skin_tone:', u'\\U0001f3c3\\U0001f3fe': u':person_running_medium-dark_skin_tone:', u'\\U0001f3c3\\U0001f3fd': u':person_running_medium_skin_tone:', u'\\U0001f3c3\\U0001f3fc': u':person_running_medium-light_skin_tone:', u'\\U0001f487\\U0001f3fe\\u200d\\u2642\\ufe0f': u':man_getting_haircut_medium-dark_skin_tone:', u'\\U0001f4fd': u':film_projector:', u'\\U0001f6b5\\U0001f3fb\\u200d\\u2640\\ufe0f': u':woman_mountain_biking_light_skin_tone:', u'\\U0001f3cb\\U0001f3ff\\u200d\\u2640\\ufe0f': u':woman_lifting_weights_dark_skin_tone:', u'\\U0001f9db\\U0001f3ff\\u200d\\u2642\\ufe0f': u':man_vampire_dark_skin_tone:', u'\\U0001f611': u':expressionless_face:', u'\\U0001f313': u':first_quarter_moon:', u'\\U0001f492': u':wedding:', u'\\U0001f194': u':ID_button:', u'4\\ufe0f\\u20e3': u':keycap_4:', u'\\U0001f527': u':wrench:', u'\\U0001f937\\U0001f3fd\\u200d\\u2640\\ufe0f': u':woman_shrugging_medium_skin_tone:', u'\\U0001f3a8': u':artist_palette:', u'\\U0001f469\\u200d\\u2695\\ufe0f': u':woman_health_worker:', u'\\u27b0': u':curly_loop:', u'\\U0001f43d': u':pig_nose:', u'\\U0001f5bc': u':framed_picture:', u'\\u26f9\\U0001f3fe\\u200d\\u2642\\ufe0f': u':man_bouncing_ball_medium-dark_skin_tone:', u'\\U0001f468\\U0001f3ff\\u200d\\u2708\\ufe0f': u':man_pilot_dark_skin_tone:', u'\\U0001f353': u':strawberry:', u'\\U0001f4d2': u':ledger:', u'\\U0001f468\\U0001f3ff\\u200d\\u2695\\ufe0f': u':man_health_worker_dark_skin_tone:', u'\\U0001f9e4': u':gloves:', u'\\U0001f567': u':twelve-thirty:', u'\\U0001f447\\U0001f3ff': u':backhand_index_pointing_down_dark_skin_tone:', u'\\U0001f3e8': u':hotel:', u'\\U0001f447\\U0001f3fd': u':backhand_index_pointing_down_medium_skin_tone:', u'\\U0001f447\\U0001f3fc': u':backhand_index_pointing_down_medium-light_skin_tone:', u'\\U0001f447\\U0001f3fb': u':backhand_index_pointing_down_light_skin_tone:', u'\\U0001f64b\\U0001f3fc\\u200d\\u2642\\ufe0f': u':man_raising_hand_medium-light_skin_tone:', u'1\\ufe0f\\u20e3': u':keycap_1:', u'\\U0001f47d': u':alien:', u'\\U0001f5fc': u':Tokyo_tower:', u'\\U0001f17f': u':P_button:', u'\\U0001f1e7\\U0001f1f7': u':Brazil:', u'\\U0001f483': u':woman_dancing:', u'\\U0001f302': u':closed_umbrella:', u'\\U0001f604': u':grinning_face_with_smiling_eyes:', u'\\U0001f9dc\\U0001f3fe\\u200d\\u2640\\ufe0f': u':mermaid_medium-dark_skin_tone:', u'\\U0001f3cb\\ufe0f\\u200d\\u2642\\ufe0f': u':man_lifting_weights:', u'\\u3297': u':Japanese_congratulations_button:', u'\\U0001f1e7\\U0001f1f3': u':Brunei:', u'\\U0001f482\\U0001f3ff\\u200d\\u2642\\ufe0f': u':man_guard_dark_skin_tone:', u'\\U0001f64d\\U0001f3fe': u':person_frowning_medium-dark_skin_tone:', u'\\U0001f6ae': u':litter_in_bin_sign:', u'\\U0001f3ad': u':performing_arts:', u'\\U0001f6af': u':no_littering:', u'\\U0001f52e': u':crystal_ball:', u'\\U0001f482\\U0001f3fc\\u200d\\u2640\\ufe0f': u':woman_guard_medium-light_skin_tone:', u'\\U0001f64e\\U0001f3ff\\u200d\\u2642\\ufe0f': u':man_pouting_dark_skin_tone:', u'\\U0001f1e7\\U0001f1fe': u':Belarus:', u'\\U0001f4c3': u':page_with_curl:', u'\\U0001f342': u':fallen_leaf:', u'\\U0001f644': u':face_with_rolling_eyes:', u'\\u26f9\\U0001f3fd\\u200d\\u2642\\ufe0f': u':man_bouncing_ball_medium_skin_tone:', u'\\U0001f486\\U0001f3fd\\u200d\\u2640\\ufe0f': u':woman_getting_massage_medium_skin_tone:', u'\\U0001f93d\\U0001f3fe\\u200d\\u2640\\ufe0f': u':woman_playing_water_polo_medium-dark_skin_tone:', u'\\u26cf': u':pick:', u'\\U0001f645\\u200d\\u2640\\ufe0f': u':woman_gesturing_NO:', u'\\U0001f469\\U0001f3fd\\u200d\\U0001f680': u':woman_astronaut_medium_skin_tone:', u'\\U0001f3ed': u':factory:', u'\\U0001f468\\U0001f3fe\\u200d\\U0001f52c': u':man_scientist_medium-dark_skin_tone:', u'\\U0001f477\\U0001f3fe\\u200d\\u2640\\ufe0f': u':woman_construction_worker_medium-dark_skin_tone:', u'\\U0001f645\\U0001f3fc\\u200d\\u2640\\ufe0f': u':woman_gesturing_NO_medium-light_skin_tone:', u'\\U0001f403': u':water_buffalo:', u'\\U0001f382': u':birthday_cake:', u'\\U0001f684': u':high-speed_train:', u'\\U0001f986': u':duck:', u'\\U0001f196': u':NG_button:', u'\\U0001f519': u':BACK_arrow:', u'\\U0001f498': u':heart_with_arrow:', u'\\U0001f4f1': u':mobile_phone:', u'\\U0001f46e\\U0001f3ff\\u200d\\u2640\\ufe0f': u':woman_police_officer_dark_skin_tone:', u'\\U0001f646\\u200d\\u2640\\ufe0f': u':woman_gesturing_OK:', u'\\U0001f32d': u':hot_dog:', u'\\U0001f62f': u':hushed_face:', u'\\U0001f931': u':breast-feeding:', u'\\U0001f468\\U0001f3fb\\u200d\\U0001f4bb': u':man_technologist_light_skin_tone:', u'\\U0001f468\\U0001f3fb\\u200d\\U0001f4bc': u':man_office_worker_light_skin_tone:', u'\\U0001f9d9\\U0001f3fb\\u200d\\u2642\\ufe0f': u':man_mage_light_skin_tone:', u'\\U0001f477\\U0001f3fc\\u200d\\u2640\\ufe0f': u':woman_construction_worker_medium-light_skin_tone:', u'\\U0001f1ed\\U0001f1f0': u':Hong_Kong_SAR_China:', u'\\U0001f468\\U0001f3fb': u':man_light_skin_tone:', u'\\U0001f443': u':nose:', u'\\U0001f3c2': u':snowboarder:', u'\\U0001f468\\U0001f3fe': u':man_medium-dark_skin_tone:', u'\\U0001f468\\U0001f3ff': u':man_dark_skin_tone:', u'\\U0001f468\\U0001f3fc': u':man_medium-light_skin_tone:', u'\\U0001f468\\U0001f3fd': u':man_medium_skin_tone:', u'\\u264f': u':Scorpio:', u'\\U0001f469\\U0001f3fc\\u200d\\u2696\\ufe0f': u':woman_judge_medium-light_skin_tone:', u'\\U0001f9dd\\U0001f3ff\\u200d\\u2640\\ufe0f': u':woman_elf_dark_skin_tone:', u'\\U0001f559': u':ten_o\\u2019clock:', u'\\U0001f4d8': u':blue_book:', u'\\U0001f1f0\\U0001f1f7': u':South_Korea:', u'\\u26fd': u':fuel_pump:', u'\\U0001f477\\U0001f3ff\\u200d\\u2642\\ufe0f': u':man_construction_worker_dark_skin_tone:', u'\\U0001f36d': u':lollipop:', u'\\U0001f9d2': u':child:', u'\\U0001f202': u':Japanese_service_charge_button:', u'\\U0001f685': u':bullet_train:', u'\\U0001f1f0\\U0001f1fc': u':Kuwait:', u'\\U0001f397': u':reminder_ribbon:', u'\\U0001f499': u':blue_heart:', u'\\U0001f518': u':radio_button:', u'\\U0001f61a': u':kissing_face_with_closed_eyes:', u'\\U0001f6b5\\U0001f3fd': u':person_mountain_biking_medium_skin_tone:', u'\\U0001f6b5\\U0001f3fc': u':person_mountain_biking_medium-light_skin_tone:', u'\\U0001f6b5\\U0001f3ff': u':person_mountain_biking_dark_skin_tone:', u'\\U0001f6b5\\U0001f3fe': u':person_mountain_biking_medium-dark_skin_tone:', u'\\U0001f468\\U0001f3fb\\u200d\\U0001f52c': u':man_scientist_light_skin_tone:', u'\\U0001f6b5\\U0001f3fb': u':person_mountain_biking_light_skin_tone:', u'\\U0001f32c': u':wind_face:', u'\\U0001f42e': u':cow_face:', u'\\U0001f930': u':pregnant_woman:', u'\\U0001f469\\U0001f3fe\\u200d\\u2695\\ufe0f': u':woman_health_worker_medium-dark_skin_tone:', u'\\U0001f46e\\u200d\\u2640\\ufe0f': u':woman_police_officer:', u'\\U0001f939\\U0001f3fe\\u200d\\u2642\\ufe0f': u':man_juggling_medium-dark_skin_tone:', u'\\U0001f46e\\U0001f3fc': u':police_officer_medium-light_skin_tone:', u'\\u263a': u':smiling_face:', u'\\U0001f46e\\U0001f3fd': u':police_officer_medium_skin_tone:', u'\\U0001f5c3': u':card_file_box:', u'\\U0001f6c5': u':left_luggage:', u'\\U0001f64b\\u200d\\u2640\\ufe0f': u':woman_raising_hand:', u'\\U0001f482\\U0001f3fb\\u200d\\u2642\\ufe0f': u':man_guard_light_skin_tone:', u'\\U0001f3d7': u':building_construction:', u'\\U0001f4d9': u':orange_book:', u'\\U0001f558': u':nine_o\\u2019clock:', u'\\U0001f9db': u':vampire:', u'\\u2764': u':red_heart:', u'\\U0001f36c': u':candy:', u'\\U0001f46e': u':police_officer:', u'\\U0001f418': u':elephant:', u'\\U0001f503': u':clockwise_vertical_arrows:', u'\\U0001f605': u':grinning_face_with_sweat:', u'\\U0001f47c\\U0001f3fe': u':baby_angel_medium-dark_skin_tone:', u'\\U0001f47c\\U0001f3ff': u':baby_angel_dark_skin_tone:', u'\\U0001f47c\\U0001f3fc': u':baby_angel_medium-light_skin_tone:', u'\\U0001f47c\\U0001f3fd': u':baby_angel_medium_skin_tone:', u'\\U0001f47c\\U0001f3fb': u':baby_angel_light_skin_tone:', u'\\u270f': u':pencil:', u'\\U0001f1eb\\U0001f1f0': u':Falkland_Islands:', u'\\U0001f317': u':last_quarter_moon:', u'\\U0001f419': u':octopus:', u'\\U0001f91b': u':left-facing_fist:', u'\\U0001f9df\\u200d\\u2640\\ufe0f': u':woman_zombie:', u'\\U0001f647\\U0001f3fe\\u200d\\u2640\\ufe0f': u':woman_bowing_medium-dark_skin_tone:', u'\\U0001f9d8\\U0001f3fe\\u200d\\u2640\\ufe0f': u':woman_in_lotus_position_medium-dark_skin_tone:', u'\\U0001f4ae': u':white_flower:', u'\\U0001f469\\u200d\\u2708\\ufe0f': u':woman_pilot:', u'\\U0001f448': u':backhand_index_pointing_left:', u'\\U0001f1e6\\U0001f1f1': u':Albania:', u'\\U0001f1e6\\U0001f1f2': u':Armenia:', u'\\U0001f645': u':person_gesturing_NO:', u'\\U0001f1e6\\U0001f1f6': u':Antarctica:', u'\\U0001f1e6\\U0001f1f7': u':Argentina:', u'\\U0001f1e6\\U0001f1f8': u':American_Samoa:', u'\\U0001f1e6\\U0001f1f9': u':Austria:', u'\\U0001f1e6\\U0001f1fa': u':Australia:', u'\\U0001f1e6\\U0001f1fc': u':Aruba:', u'\\U0001f1e6\\U0001f1fd': u':\\xc5land_Islands:', u'\\U0001f1e6\\U0001f1ff': u':Azerbaijan:', u'\\U0001f469\\U0001f3ff\\u200d\\U0001f692': u':woman_firefighter_dark_skin_tone:', u'\\U0001f357': u':poultry_leg:', u'\\U0001f1e6\\U0001f1e8': u':Ascension_Island:', u'\\U0001f1e6\\U0001f1e9': u':Andorra:', u'\\U0001f95b': u':glass_of_milk:', u'\\U0001f1e6\\U0001f1eb': u':Afghanistan:', u'\\U0001f1e6\\U0001f1ec': u':Antigua_&_Barbuda:', u'\\U0001f1e6\\U0001f1ee': u':Anguilla:', u'\\U0001f469\\u200d\\U0001f680': u':woman_astronaut:', u'\\U0001f468\\U0001f3fe\\u200d\\U0001f4bb': u':man_technologist_medium-dark_skin_tone:', u'\\U0001f469\\U0001f3fb\\u200d\\U0001f680': u':woman_astronaut_light_skin_tone:', u'\\u2665': u':heart_suit:', u'\\U0001f1ef\\U0001f1ea': u':Jersey:', u'\\U0001f6b5\\U0001f3fe\\u200d\\u2642\\ufe0f': u':man_mountain_biking_medium-dark_skin_tone:', u'\\U0001f4ee': u':postbox:', u'\\U0001f469\\U0001f3fb\\u200d\\U0001f692': u':woman_firefighter_light_skin_tone:', u'\\U0001f469\\u200d\\U0001f692': u':woman_firefighter:', u'\\U0001f1ef\\U0001f1f5': u':Japan:', u'\\u26fa': u':tent:', u'\\U0001f1ef\\U0001f1f2': u':Jamaica:', u'\\U0001f381': u':wrapped_gift:', u'\\U0001f683': u':railway_car:', u'\\U0001f404': u':cow:', u'\\U0001f64b\\U0001f3fd\\u200d\\u2642\\ufe0f': u':man_raising_hand_medium_skin_tone:', u'\\U0001f469\\U0001f3fd\\u200d\\u2695\\ufe0f': u':woman_health_worker_medium_skin_tone:', u'\\U0001f647\\u200d\\u2640\\ufe0f': u':woman_bowing:', u'\\U0001f316': u':waning_gibbous_moon:', u'\\U0001f618': u':face_blowing_a_kiss:', u'\\U0001f51a': u':END_arrow:', u'\\U0001f468\\u200d\\U0001f469\\u200d\\U0001f466\\u200d\\U0001f466': u':family_man_woman_boy_boy:', u'\\u2122': u':trade_mark:', u'\\U0001f469\\u200d\\U0001f467': u':family_woman_girl:', u'\\U0001f469\\U0001f3fb\\u200d\\u2695\\ufe0f': u':woman_health_worker_light_skin_tone:', u'\\U0001f4af': u':hundred_points:', u'\\U0001f932': u':palms_up_together:', u'\\u2638': u':wheel_of_dharma:', u'\\U0001f3c1': u':chequered_flag:', u'\\U0001f64b\\U0001f3fc\\u200d\\u2640\\ufe0f': u':woman_raising_hand_medium-light_skin_tone:', u'\\U0001f6c3': u':customs:', u'\\U0001f469\\U0001f3fb\\u200d\\U0001f527': u':woman_mechanic_light_skin_tone:', u'\\U0001f444': u':mouth:', u'\\U0001f469\\u200d\\U0001f527': u':woman_mechanic:', u'\\U0001f3cc\\U0001f3ff\\u200d\\u2642\\ufe0f': u':man_golfing_dark_skin_tone:', u'\\U0001f471\\U0001f3fc\\u200d\\u2640\\ufe0f': u':blond-haired_woman_medium-light_skin_tone:', u'\\U0001f469\\u200d\\U0001f52c': u':woman_scientist:', u'\\U0001f9d6\\U0001f3ff\\u200d\\u2642\\ufe0f': u':man_in_steamy_room_dark_skin_tone:', u'\\u274e': u':cross_mark_button:', u'\\U0001f356': u':meat_on_bone:', u'\\U0001f55a': u':eleven_o\\u2019clock:', u'\\U0001f9dd': u':elf:', u'\\U0001f469\\U0001f3ff\\u200d\\U0001f527': u':woman_mechanic_dark_skin_tone:', u'\\U0001f9d6\\U0001f3fc\\u200d\\u2640\\ufe0f': u':woman_in_steamy_room_medium-light_skin_tone:', u'\\U0001f469\\U0001f3ff\\u200d\\U0001f52c': u':woman_scientist_dark_skin_tone:', u'\\U0001f4ef': u':postal_horn:', u'\\U0001f926\\U0001f3ff\\u200d\\u2640\\ufe0f': u':woman_facepalming_dark_skin_tone:', u'\\U0001f469\\U0001f3fd\\u200d\\U0001f527': u':woman_mechanic_medium_skin_tone:', u'\\U0001f4aa\\U0001f3fc': u':flexed_biceps_medium-light_skin_tone:', u'\\U0001f4aa\\U0001f3fd': u':flexed_biceps_medium_skin_tone:', u'\\U0001f603': u':grinning_face_with_big_eyes:', u'\\U0001f4aa\\U0001f3ff': u':flexed_biceps_dark_skin_tone:', u'\\U0001f505': u':dim_button:', u'\\U0001f484': u':lipstick:', u'\\U0001f4aa\\U0001f3fb': u':flexed_biceps_light_skin_tone:', u'\\U0001f468\\U0001f3fb\\u200d\\U0001f680': u':man_astronaut_light_skin_tone:', u'\\U0001f3ca\\U0001f3fd\\u200d\\u2640\\ufe0f': u':woman_swimming_medium_skin_tone:', u'\\U0001f938\\U0001f3fb\\u200d\\u2642\\ufe0f': u':man_cartwheeling_light_skin_tone:', u'\\U0001f396': u':military_medal:', u'\\U0001f698': u':oncoming_automobile:', u'\\U0001f468\\U0001f3fb\\u200d\\U0001f692': u':man_firefighter_light_skin_tone:', u'\\U0001f91d': u':handshake:', u'\\U0001f469\\U0001f3fc\\u200d\\u2695\\ufe0f': u':woman_health_worker_medium-light_skin_tone:', u'\\u2623': u':biohazard:', u'\\U0001f41a': u':spiral_shell:', u'\\U0001f42f': u':tiger_face:', u'\\U0001f926\\U0001f3fc\\u200d\\u2642\\ufe0f': u':man_facepalming_medium-light_skin_tone:', u'\\U0001f939\\U0001f3fe\\u200d\\u2640\\ufe0f': u':woman_juggling_medium-dark_skin_tone:', u'\\U0001f481\\U0001f3fb': u':person_tipping_hand_light_skin_tone:', u'\\U0001f481\\U0001f3fd': u':person_tipping_hand_medium_skin_tone:', u'\\U0001f481\\U0001f3fc': u':person_tipping_hand_medium-light_skin_tone:', u'\\U0001f481\\U0001f3ff': u':person_tipping_hand_dark_skin_tone:', u'\\U0001f481\\U0001f3fe': u':person_tipping_hand_medium-dark_skin_tone:', u'\\U0001f341': u':maple_leaf:', u'\\U0001f643': u':upside-down_face:', u'\\U0001f4c4': u':page_facing_up:', u'\\U0001f482\\U0001f3fe\\u200d\\u2640\\ufe0f': u':woman_guard_medium-dark_skin_tone:', u'\\U0001f9dc\\U0001f3fb\\u200d\\u2640\\ufe0f': u':mermaid_light_skin_tone:', u'\\U0001f926\\U0001f3fb\\u200d\\u2640\\ufe0f': u':woman_facepalming_light_skin_tone:', u'\\U0001f9da\\u200d\\u2640\\ufe0f': u':woman_fairy:', u'\\U0001f3d6': u':beach_with_umbrella:', u'\\U0001f95d': u':kiwi_fruit:', u'\\U0001f9db\\U0001f3fc\\u200d\\u2642\\ufe0f': u':man_vampire_medium-light_skin_tone:', u'\\u2663': u':club_suit:', u'\\U0001f487\\U0001f3fe\\u200d\\u2640\\ufe0f': u':woman_getting_haircut_medium-dark_skin_tone:', u'\\U0001f46f': u':people_with_bunny_ears:', u'\\U0001f3b8': u':guitar:', u'\\U0001f9db\\U0001f3ff\\u200d\\u2640\\ufe0f': u':woman_vampire_dark_skin_tone:', u'\\u26f8': u':ice_skate:', u'\\U0001f93d\\U0001f3fd\\u200d\\u2642\\ufe0f': u':man_playing_water_polo_medium_skin_tone:', u'\\U0001f3d4': u':snow-capped_mountain:', u'\\U0001f300': u':cyclone:', u'\\U0001f485': u':nail_polish:', u'\\U0001f504': u':counterclockwise_arrows_button:', u'\\U0001f987': u':bat:', u'\\U0001f469\\u200d\\U0001f466': u':family_woman_boy:', u'\\U0001f9d2\\U0001f3fc': u':child_medium-light_skin_tone:', u'\\U0001f9d2\\U0001f3fd': u':child_medium_skin_tone:', u'\\U0001f9d2\\U0001f3fe': u':child_medium-dark_skin_tone:', u'\\U0001f9d2\\U0001f3ff': u':child_dark_skin_tone:', u'\\u260e': u':telephone:', u'\\U0001f486\\U0001f3ff\\u200d\\u2640\\ufe0f': u':woman_getting_massage_dark_skin_tone:', u'\\U0001f197': u':OK_button:', u'\\U0001f9d8': u':person_in_lotus_position:', u'\\U0001f699': u':sport_utility_vehicle:', u'\\U0001f62e': u':face_with_open_mouth:', u'\\U0001f91c': u':right-facing_fist:', u'\\U0001f3c3\\U0001f3fe\\u200d\\u2642\\ufe0f': u':man_running_medium-dark_skin_tone:', u'\\U0001f468\\u200d\\U0001f3ed': u':man_factory_worker:', u'\\U0001f9db\\U0001f3fb': u':vampire_light_skin_tone:', u'\\U0001f3ab': u':ticket:', u'\\U0001f9db\\U0001f3ff': u':vampire_dark_skin_tone:', u'\\U0001f937\\U0001f3fd\\u200d\\u2642\\ufe0f': u':man_shrugging_medium_skin_tone:', u'\\U0001f9db\\U0001f3fd': u':vampire_medium_skin_tone:', u'\\U0001f9db\\U0001f3fc': u':vampire_medium-light_skin_tone:', u'\\U0001f469\\U0001f3fe\\u200d\\U0001f373': u':woman_cook_medium-dark_skin_tone:', u'\\U0001f468\\u200d\\U0001f3eb': u':man_teacher:', u'\\U0001f340': u':four_leaf_clover:', u'\\U0001f4c5': u':calendar:', u'\\U0001f486\\U0001f3fc\\u200d\\u2642\\ufe0f': u':man_getting_massage_medium-light_skin_tone:', u'\\u2b50': u':white_medium_star:', u'\\U0001f468\\U0001f3fe\\u200d\\u2695\\ufe0f': u':man_health_worker_medium-dark_skin_tone:', u'\\U0001f477\\U0001f3ff': u':construction_worker_dark_skin_tone:', u'\\U0001f477\\U0001f3fe': u':construction_worker_medium-dark_skin_tone:', u'\\U0001f477\\U0001f3fd': u':construction_worker_medium_skin_tone:', u'\\U0001f477\\U0001f3fc': u':construction_worker_medium-light_skin_tone:', u'\\U0001f477\\U0001f3fb': u':construction_worker_light_skin_tone:', u'\\U0001f95c': u':peanuts:', u'\\U0001f1f5\\U0001f1fc': u':Palau:', u'\\U0001f1f5\\U0001f1fe': u':Paraguay:', u'\\U0001f1f5\\U0001f1f9': u':Portugal:', u'\\U0001f1f5\\U0001f1f8': u':Palestinian_Territories:', u'\\U0001f3cc\\U0001f3fe\\u200d\\u2640\\ufe0f': u':woman_golfing_medium-dark_skin_tone:', u'\\U0001f3eb': u':school:', u'\\U0001f1f5\\U0001f1f1': u':Poland:', u'\\U0001f1f5\\U0001f1f0': u':Pakistan:', u'\\U0001f1f5\\U0001f1f3': u':Pitcairn_Islands:', u'\\U0001f1f5\\U0001f1f2': u':St._Pierre_&_Miquelon:', u'\\U0001f1f5\\U0001f1ed': u':Philippines:', u'\\U0001f1f5\\U0001f1ec': u':Papua_New_Guinea:', u'\\U0001f468\\U0001f3fd\\u200d\\u2695\\ufe0f': u':man_health_worker_medium_skin_tone:', u'\\U0001f468\\u200d\\U0001f3a8': u':man_artist:', u'\\U0001f1f5\\U0001f1eb': u':French_Polynesia:', u'\\U0001f1f5\\U0001f1ea': u':Peru:', u'\\u26f9': u':person_bouncing_ball:', u'\\U0001f1f5\\U0001f1e6': u':Panama:', u'\\U0001f469\\U0001f3fe\\u200d\\U0001f33e': u':woman_farmer_medium-dark_skin_tone:', u'\\U0001f201': u':Japanese_here_button:', u'\\U0001f1fe\\U0001f1f9': u':Mayotte:', u'\\U0001f405': u':tiger:', u'\\U0001f469': u':woman:', u'\\U0001f1fe\\U0001f1ea': u':Yemen:', u'\\U0001f619': u':kissing_face_with_smiling_eyes:', u'\\U0001f49a': u':green_heart:', u'\\U0001f482\\u200d\\u2642\\ufe0f': u':man_guard:', u'\\U0001f469\\U0001f3fe\\u200d\\U0001f3eb': u':woman_teacher_medium-dark_skin_tone:', u'\\U0001f931\\U0001f3fb': u':breast-feeding_light_skin_tone:', u'\\U0001f931\\U0001f3fd': u':breast-feeding_medium_skin_tone:', u'\\U0001f931\\U0001f3fc': u':breast-feeding_medium-light_skin_tone:', u'\\U0001f931\\U0001f3ff': u':breast-feeding_dark_skin_tone:', u'\\U0001f469\\U0001f3fe\\u200d\\U0001f3ed': u':woman_factory_worker_medium-dark_skin_tone:', u'\\U0001f471\\U0001f3fe\\u200d\\u2642\\ufe0f': u':blond-haired_man_medium-dark_skin_tone:', u'\\u2639': u':frowning_face:', u'\\U0001f93c\\u200d\\u2640\\ufe0f': u':women_wrestling:', u'\\U0001f3f4': u':black_flag:', u'\\U0001f3c0': u':basketball:', u'\\U0001f445': u':tongue:', u'\\U0001f5c4': u':file_cabinet:', u'\\U0001f947': u':1st_place_medal:', u'\\U0001f468\\U0001f3fe\\u200d\\U0001f692': u':man_firefighter_medium-dark_skin_tone:', u'\\U0001f468\\u200d\\U0001f467\\u200d\\U0001f466': u':family_man_girl_boy:', u'\\U0001f468\\u200d\\U0001f467\\u200d\\U0001f467': u':family_man_girl_girl:', u'\\u26ce': u':Ophiuchus:', u'\\U0001f469\\U0001f3fe\\u200d\\U0001f393': u':woman_student_medium-dark_skin_tone:', u'\\U0001f469\\U0001f3fb\\u200d\\U0001f4bb': u':woman_technologist_light_skin_tone:', u'\\U0001f468\\U0001f3fe\\u200d\\U0001f680': u':man_astronaut_medium-dark_skin_tone:', u'\\U0001f469\\u200d\\U0001f4bb': u':woman_technologist:', u'\\U0001f4da': u':books:', u'\\U0001f9dc': u':merperson:', u'\\U0001f469\\U0001f3fb\\u200d\\U0001f4bc': u':woman_office_worker_light_skin_tone:', u'\\U0001f468\\u200d\\U0001f33e': u':man_farmer:', u'\\U0001f473\\U0001f3fc\\u200d\\u2642\\ufe0f': u':man_wearing_turban_medium-light_skin_tone:', u'\\U0001f469\\U0001f3fe\\u200d\\U0001f3a4': u':woman_singer_medium-dark_skin_tone:', u'\\U0001f469\\U0001f3fe\\u200d\\U0001f3a8': u':woman_artist_medium-dark_skin_tone:', u'\\U0001f56f': u':candle:', u'\\U0001f469\\U0001f3fd\\u200d\\u2708\\ufe0f': u':woman_pilot_medium_skin_tone:', u'\\U0001f3ca\\U0001f3fb\\u200d\\u2640\\ufe0f': u':woman_swimming_light_skin_tone:', u'\\U0001f469\\U0001f3ff\\u200d\\U0001f4bc': u':woman_office_worker_dark_skin_tone:', u'\\U0001f469\\U0001f3ff\\u200d\\U0001f4bb': u':woman_technologist_dark_skin_tone:', u'\\U0001f6a3\\u200d\\u2642\\ufe0f': u':man_rowing_boat:', u'\\U0001f385': u':Santa_Claus:', u'\\U0001f989': u':owl:', u'\\U0001f43a': u':wolf_face:', u'\\U0001f9d7\\U0001f3ff\\u200d\\u2642\\ufe0f': u':man_climbing_dark_skin_tone:', u'\\U0001f646\\U0001f3fc\\u200d\\u2642\\ufe0f': u':man_gesturing_OK_medium-light_skin_tone:', u'\\U0001f469\\U0001f3fb\\u200d\\U0001f373': u':woman_cook_light_skin_tone:', u'\\U0001f469\\u200d\\U0001f373': u':woman_cook:', u'\\U0001f645\\U0001f3fb\\u200d\\u2640\\ufe0f': u':woman_gesturing_NO_light_skin_tone:', u'\\U0001f697': u':automobile:', u'\\U0001f516': u':bookmark:', u'\\U0001f199': u':UP!_button:', u'\\U0001f9de\\u200d\\u2640\\ufe0f': u':woman_genie:', u'\\U0001f31a': u':new_moon_face:', u'\\U0001f91e': u':crossed_fingers:', u'\\U0001f45a': u':woman\\u2019s_clothes:', u'\\U0001f4ab': u':dizzy:', u'\\U0001f62c': u':grimacing_face:', u'\\u26f9\\U0001f3fb\\u200d\\u2640\\ufe0f': u':woman_bouncing_ball_light_skin_tone:', u'\\U0001f3c4\\U0001f3ff\\u200d\\u2642\\ufe0f': u':man_surfing_dark_skin_tone:', u'\\U0001f469\\U0001f3ff\\u200d\\U0001f373': u':woman_cook_dark_skin_tone:', u'\\U0001f477\\U0001f3fc\\u200d\\u2642\\ufe0f': u':man_construction_worker_medium-light_skin_tone:', u'\\U0001f9dc\\U0001f3fc': u':merperson_medium-light_skin_tone:', u'\\U0001f6b4': u':person_biking:', u'\\U0001f440': u':eyes:', u'\\U0001f3c5': u':sports_medal:', u'\\u264c': u':Leo:', u'\\U0001f477\\U0001f3ff\\u200d\\u2640\\ufe0f': u':woman_construction_worker_dark_skin_tone:', u'\\U0001f556': u':seven_o\\u2019clock:', u'\\U0001f35a': u':cooked_rice:', u'\\U0001f469\\U0001f3fb\\u200d\\U0001f33e': u':woman_farmer_light_skin_tone:', u'\\U0001f469\\u200d\\U0001f33e': u':woman_farmer:', u'\\U0001f468\\u200d\\U0001f4bc': u':man_office_worker:', u'\\U0001f9d9\\U0001f3fc\\u200d\\u2642\\ufe0f': u':man_mage_medium-light_skin_tone:', u'\\U0001f468\\u200d\\U0001f4bb': u':man_technologist:', u'\\U0001f4eb': u':closed_mailbox_with_raised_flag:', u'\\U0001f9dc\\U0001f3fd\\u200d\\u2640\\ufe0f': u':mermaid_medium_skin_tone:', u'\\U0001f512': u':locked:', u'\\u26f7': u':skier:', u'\\U0001f469\\U0001f3ff\\u200d\\U0001f33e': u':woman_farmer_dark_skin_tone:', u'\\U0001f1f5\\U0001f1f7': u':Puerto_Rico:', u'\\U0001f501': u':repeat_button:', u'\\U0001f480': u':skull:', u'\\U0001f305': u':sunrise:', u'\\U0001f469\\U0001f3fb\\u200d\\U0001f3eb': u':woman_teacher_light_skin_tone:', u'\\U0001f469\\u200d\\U0001f3eb': u':woman_teacher:', u'\\u270d': u':writing_hand:', u'\\U0001f469\\U0001f3fb\\u200d\\U0001f3ed': u':woman_factory_worker_light_skin_tone:', u'\\U0001f9da\\U0001f3fe\\u200d\\u2640\\ufe0f': u':woman_fairy_medium-dark_skin_tone:', u'\\U0001f44c\\U0001f3fe': u':OK_hand_medium-dark_skin_tone:', u'\\U0001f6b4\\U0001f3fd\\u200d\\u2640\\ufe0f': u':woman_biking_medium_skin_tone:', u'\\U0001f5ef': u':right_anger_bubble:', u'\\U0001f646\\u200d\\u2642\\ufe0f': u':man_gesturing_OK:', u'\\U0001f596': u':vulcan_salute:', u'\\U0001f9dc\\U0001f3fe\\u200d\\u2642\\ufe0f': u':merman_medium-dark_skin_tone:', u'\\U0001f44c\\U0001f3fc': u':OK_hand_medium-light_skin_tone:', u'\\U0001f1f8\\U0001f1f1': u':Sierra_Leone:', u'\\U0001f42b': u':two-hump_camel:', u'\\U0001f469\\U0001f3ff\\u200d\\U0001f3eb': u':woman_teacher_dark_skin_tone:', u'\\U0001f6ac': u':cigarette:', u'\\U0001f22f': u':Japanese_reserved_button:', u'\\U0001f1f8\\U0001f1f7': u':Suriname:', u'\\U0001f385\\U0001f3fd': u':Santa_Claus_medium_skin_tone:', u'\\U0001f385\\U0001f3fc': u':Santa_Claus_medium-light_skin_tone:', u'\\U0001f385\\U0001f3ff': u':Santa_Claus_dark_skin_tone:', u'\\U0001f385\\U0001f3fe': u':Santa_Claus_medium-dark_skin_tone:', u'\\U0001f385\\U0001f3fb': u':Santa_Claus_light_skin_tone:', u'\\U0001f4c8': u':chart_increasing:', u'\\u2139': u':information:', u'\\U0001f468\\u200d\\U0001f466': u':family_man_boy:', u'\\U0001f31e': u':sun_with_face:', u'\\U0001f4c0': u':dvd:', u'\\U0001f6b4\\U0001f3fe\\u200d\\u2642\\ufe0f': u':man_biking_medium-dark_skin_tone:', u'\\U0001f938\\U0001f3ff\\u200d\\u2642\\ufe0f': u':man_cartwheeling_dark_skin_tone:', u'\\U0001f469\\u200d\\U0001f3a4': u':woman_singer:', u'\\U0001f469\\U0001f3fb\\u200d\\U0001f3a4': u':woman_singer_light_skin_tone:', u'\\U0001f949': u':3rd_place_medal:', u'\\U0001f469\\u200d\\U0001f3a8': u':woman_artist:', u'\\U0001f469\\U0001f3fb\\u200d\\U0001f3a8': u':woman_artist_light_skin_tone:', u'\\U0001f468\\u200d\\U0001f3a4': u':man_singer:', u'\\u2b55': u':heavy_large_circle:', u'\\U0001f939\\U0001f3fb\\u200d\\u2642\\ufe0f': u':man_juggling_light_skin_tone:', u'\\U0001f469\\u200d\\u2696\\ufe0f': u':woman_judge:', u'\\U0001f3da': u':derelict_house:', u'\\U0001f9de': u':genie:', u'\\U0001f469\\U0001f3ff\\u200d\\U0001f3a4': u':woman_singer_dark_skin_tone:', u'\\U0001f932\\U0001f3fc': u':palms_up_together_medium-light_skin_tone:', u'\\U0001f932\\U0001f3fd': u':palms_up_together_medium_skin_tone:', u'\\U0001f932\\U0001f3fe': u':palms_up_together_medium-dark_skin_tone:', u'\\U0001f932\\U0001f3ff': u':palms_up_together_dark_skin_tone:', u'\\U0001f1eb\\U0001f1ef': u':Fiji:', u'\\U0001f1eb\\U0001f1ee': u':Finland:', u'\\U0001f469\\U0001f3ff\\u200d\\U0001f3a8': u':woman_artist_dark_skin_tone:', u'\\U0001f9da\\U0001f3fc': u':fairy_medium-light_skin_tone:', u'\\U0001f1eb\\U0001f1f2': u':Micronesia:', u'\\U0001f469\\u200d\\U0001f393': u':woman_student:', u'\\U0001f9da\\U0001f3ff': u':fairy_dark_skin_tone:', u'\\U0001f1eb\\U0001f1f7': u':France:', u'\\U0001f9da\\U0001f3fb': u':fairy_light_skin_tone:', u'\\U0001f469\\U0001f3fe\\u200d\\U0001f4bb': u':woman_technologist_medium-dark_skin_tone:', u'\\u23fa': u':record_button:', u'\\U0001f3cc\\U0001f3fd\\u200d\\u2640\\ufe0f': u':woman_golfing_medium_skin_tone:', u'\\U0001f469\\U0001f3fe\\u200d\\U0001f4bc': u':woman_office_worker_medium-dark_skin_tone:', u'\\U0001f481': u':person_tipping_hand:', u'\\U0001f500': u':shuffle_tracks_button:', u'\\U0001f602': u':face_with_tears_of_joy:', u'\\U0001f64e\\U0001f3fd\\u200d\\u2642\\ufe0f': u':man_pouting_medium_skin_tone:', u'\\U0001f304': u':sunrise_over_mountains:', u'\\U0001f380': u':ribbon:', u'\\U0001f6a3\\U0001f3fc\\u200d\\u2640\\ufe0f': u':woman_rowing_boat_medium-light_skin_tone:', u'\\U0001f9d6\\U0001f3fe\\u200d\\u2640\\ufe0f': u':woman_in_steamy_room_medium-dark_skin_tone:', u'\\u270c': u':victory_hand:', u'\\U0001f471\\U0001f3fe\\u200d\\u2640\\ufe0f': u':blond-haired_woman_medium-dark_skin_tone:', u'\\U0001f416': u':pig:', u'\\U0001f21a': u':Japanese_free_of_charge_button:', u'\\u2622': u':radioactive:', u'\\U0001f469\\u200d\\U0001f467\\u200d\\U0001f467': u':family_woman_girl_girl:', u'\\U0001f469\\u200d\\U0001f467\\u200d\\U0001f466': u':family_woman_girl_boy:', u'\\U0001f630': u':anxious_face_with_sweat:', u'\\U0001f9d7\\U0001f3fe\\u200d\\u2642\\ufe0f': u':man_climbing_medium-dark_skin_tone:', u'\\U0001f3cc\\U0001f3fe\\u200d\\u2642\\ufe0f': u':man_golfing_medium-dark_skin_tone:', u'\\U0001f6ad': u':no_smoking:', u'\\U0001f3af': u':direct_hit:', u'\\U0001f3c2\\U0001f3fc': u':snowboarder_medium-light_skin_tone:', u'\\U0001f3c2\\U0001f3fd': u':snowboarder_medium_skin_tone:', u'\\U0001f3c2\\U0001f3fe': u':snowboarder_medium-dark_skin_tone:', u'\\U0001f3c2\\U0001f3ff': u':snowboarder_dark_skin_tone:', u'\\U0001f481\\U0001f3fc\\u200d\\u2642\\ufe0f': u':man_tipping_hand_medium-light_skin_tone:', u'\\U0001f3c2\\U0001f3fb': u':snowboarder_light_skin_tone:', u'\\U0001f4c1': u':file_folder:', u'\\U0001f475\\U0001f3fd': u':old_woman_medium_skin_tone:', u'\\U0001f642': u':slightly_smiling_face:', u'\\U0001f344': u':mushroom:', u'\\U0001f948': u':2nd_place_medal:', u'\\u274c': u':cross_mark:', u'\\u23cf': u':eject_button:', u'\\U0001f471\\U0001f3fd\\u200d\\u2642\\ufe0f': u':blond-haired_man_medium_skin_tone:', u'\\U0001f456': u':jeans:', u'\\U0001f3c4\\U0001f3fb\\u200d\\u2642\\ufe0f': u':man_surfing_light_skin_tone:', u'\\U0001f469\\U0001f3fe\\u200d\\U0001f527': u':woman_mechanic_medium-dark_skin_tone:', u'\\U0001f3ef': u':Japanese_castle:', u'0\\ufe0f\\u20e3': u':keycap_0:', u'\\U0001f401': u':mouse:', u'\\U0001f682': u':locomotive:', u'\\U0001f384': u':Christmas_tree:', u'\\U0001f988': u':shark:', u'\\U0001f3cb\\U0001f3fd\\u200d\\u2642\\ufe0f': u':man_lifting_weights_medium_skin_tone:', u'\\U0001f939\\U0001f3fb': u':person_juggling_light_skin_tone:', u'\\U0001f939\\U0001f3fd': u':person_juggling_medium_skin_tone:', u'\\U0001f939\\U0001f3fc': u':person_juggling_medium-light_skin_tone:', u'\\U0001f939\\U0001f3ff': u':person_juggling_dark_skin_tone:', u'\\U0001f939\\U0001f3fe': u':person_juggling_medium-dark_skin_tone:', u'\\U0001f198': u':SOS_button:', u'\\U0001f6b6\\U0001f3fd\\u200d\\u2640\\ufe0f': u':woman_walking_medium_skin_tone:', u'\\U0001f9db\\U0001f3fd\\u200d\\u2640\\ufe0f': u':woman_vampire_medium_skin_tone:', u'\\U0001f3cc\\U0001f3fc': u':person_golfing_medium-light_skin_tone:', u'\\U0001f468\\U0001f3ff\\u200d\\U0001f4bc': u':man_office_worker_dark_skin_tone:', u'\\U0001f52b': u':pistol:', u'\\U0001f62d': u':loudly_crying_face:', u'\\U0001f32f': u':burrito:', u'\\u271d': u':latin_cross:', u'\\U0001f926\\u200d\\u2642\\ufe0f': u':man_facepalming:', u'\\U0001f468\\U0001f3fc\\u200d\\u2696\\ufe0f': u':man_judge_medium-light_skin_tone:', u'\\U0001f441': u':eye:', u'\\U0001f9da\\U0001f3ff\\u200d\\u2642\\ufe0f': u':man_fairy_dark_skin_tone:', u'\\U0001f6c2': u':passport_control:', u'\\U0001f645\\U0001f3fe\\u200d\\u2640\\ufe0f': u':woman_gesturing_NO_medium-dark_skin_tone:', u'\\U0001f3c4': u':person_surfing:', u'\\U0001f93e\\U0001f3ff\\u200d\\u2642\\ufe0f': u':man_playing_handball_dark_skin_tone:', u'\\U0001f93d\\U0001f3ff\\u200d\\u2640\\ufe0f': u':woman_playing_water_polo_dark_skin_tone:', u'\\u264d': u':Virgo:', u'\\U0001f4d6': u':open_book:', u'\\U0001f486\\U0001f3fb': u':person_getting_massage_light_skin_tone:', u'\\U0001f9d8\\u200d\\u2642\\ufe0f': u':man_in_lotus_position:', u'\\U0001f486\\U0001f3fd': u':person_getting_massage_medium_skin_tone:', u'\\U0001f36f': u':honey_pot:', u'\\U0001f486\\U0001f3ff': u':person_getting_massage_dark_skin_tone:', u'\\U0001f468\\u200d\\U0001f52c': u':man_scientist:', u'\\U0001f3f4\\U000e0067\\U000e0062\\U000e0073\\U000e0063\\U000e0074\\U000e007f': u':Scotland:', u'\\U0001f473\\U0001f3fe\\u200d\\u2640\\ufe0f': u':woman_wearing_turban_medium-dark_skin_tone:', u'\\U0001f645\\U0001f3fd\\u200d\\u2642\\ufe0f': u':man_gesturing_NO_medium_skin_tone:', u'\\U0001f44a\\U0001f3fb': u':oncoming_fist_light_skin_tone:', u'\\U0001f6b5\\U0001f3fb\\u200d\\u2642\\ufe0f': u':man_mountain_biking_light_skin_tone:', u'\\U0001f9da\\U0001f3fc\\u200d\\u2640\\ufe0f': u':woman_fairy_medium-light_skin_tone:', u'\\U0001f468\\u200d\\U0001f527': u':man_mechanic:', u'\\U0001f32b': u':fog:', u'\\U0001f600': u':grinning_face:', u'\\U0001f502': u':repeat_single_button:', u'\\U0001f939\\U0001f3fc\\u200d\\u2642\\ufe0f': u':man_juggling_medium-light_skin_tone:', u'\\U0001f004': u':mahjong_red_dragon:', u'\\U0001f3c4\\u200d\\u2642\\ufe0f': u':man_surfing:', u'\\U0001f926\\U0001f3fc\\u200d\\u2640\\ufe0f': u':woman_facepalming_medium-light_skin_tone:', u'\\U0001f497': u':growing_heart:', u'\\U0001f399': u':studio_microphone:', u'\\U0001f931\\U0001f3fe': u':breast-feeding_medium-dark_skin_tone:', u'\\U0001f938\\U0001f3fb\\u200d\\u2640\\ufe0f': u':woman_cartwheeling_light_skin_tone:', u'\\u27a1': u':right_arrow:', u'\\u2620': u':skull_and_crossbones:', u'\\U0001f468\\U0001f3fe\\u200d\\U0001f373': u':man_cook_medium-dark_skin_tone:', u'\\U0001f42c': u':dolphin:', u'\\U0001f32e': u':taco:', u'\\U0001f469\\U0001f3ff\\u200d\\u2695\\ufe0f': u':woman_health_worker_dark_skin_tone:', u'\\U0001f646\\U0001f3fd\\u200d\\u2640\\ufe0f': u':woman_gesturing_OK_medium_skin_tone:', u'\\U0001f9d7\\U0001f3fb\\u200d\\u2642\\ufe0f': u':man_climbing_light_skin_tone:', u'\\U0001f640': u':weary_cat_face:', u'\\U0001f459': u':bikini:', u'\\U0001f926\\U0001f3fb\\u200d\\u2642\\ufe0f': u':man_facepalming_light_skin_tone:', u'\\U0001f94a': u':boxing_glove:', u'\\U0001f482\\U0001f3fe\\u200d\\u2642\\ufe0f': u':man_guard_medium-dark_skin_tone:', u'\\U0001f468\\u200d\\U0001f692': u':man_firefighter:', u'\\U0001f938\\U0001f3fb': u':person_cartwheeling_light_skin_tone:', u'\\U0001f938\\U0001f3fe': u':person_cartwheeling_medium-dark_skin_tone:', u'\\U0001f938\\U0001f3ff': u':person_cartwheeling_dark_skin_tone:', u'\\U0001f4d7': u':green_book:', u'\\U0001f938\\U0001f3fd': u':person_cartwheeling_medium_skin_tone:', u'\\U0001f3d9': u':cityscape:', u'\\U0001f468\\u200d\\U0001f680': u':man_astronaut:', u'\\U0001f1f1\\U0001f1f0': u':Sri_Lanka:', u'\\U0001f9d8\\u200d\\u2640\\ufe0f': u':woman_in_lotus_position:', u'\\U0001f1f1\\U0001f1f7': u':Liberia:', u'\\U0001f468\\U0001f3fe\\u200d\\U0001f33e': u':man_farmer_medium-dark_skin_tone:', u'\\U0001f1f1\\U0001f1f9': u':Lithuania:', u'\\U0001f1f1\\U0001f1f8': u':Lesotho:', u'\\U0001f1f1\\U0001f1fb': u':Latvia:', u'\\U0001f1f1\\U0001f1fa': u':Luxembourg:', u'\\U0001f46c': u':two_men_holding_hands:', u'\\U0001f1f1\\U0001f1fe': u':Libya:', u'\\U0001f9da\\U0001f3fb\\u200d\\u2640\\ufe0f': u':woman_fairy_light_skin_tone:', u'\\U0001f1f1\\U0001f1e7': u':Lebanon:', u'\\U0001f1f1\\U0001f1e6': u':Laos:', u'\\u23f9': u':stop_button:', u'\\U0001f1f1\\U0001f1e8': u':St._Lucia:', u'\\U0001f469\\U0001f3fe\\u200d\\u2696\\ufe0f': u':woman_judge_medium-dark_skin_tone:', u'\\U0001f1f1\\U0001f1ee': u':Liechtenstein:', u'\\U0001f1fa\\U0001f1ec': u':Uganda:', u'\\U0001f9dd\\U0001f3fb\\u200d\\u2642\\ufe0f': u':man_elf_light_skin_tone:', u'\\U0001f1fa\\U0001f1e6': u':Ukraine:', u'\\U0001f98a': u':fox_face:', u'\\U0001f9d6\\u200d\\u2642\\ufe0f': u':man_in_steamy_room:', u'\\U0001f1fa\\U0001f1fe': u':Uruguay:', u'\\U0001f1fa\\U0001f1ff': u':Uzbekistan:', u'\\U0001f1fa\\U0001f1f8': u':United_States:', u'\\U0001f469\\U0001f3fe\\u200d\\U0001f52c': u':woman_scientist_medium-dark_skin_tone:', u'\\U0001f417': u':boar:', u'\\U0001f319': u':crescent_moon:', u'\\U0001f19a': u':VS_button:', u'\\u270d\\U0001f3ff': u':writing_hand_dark_skin_tone:', u'\\U0001f486\\U0001f3ff\\u200d\\u2642\\ufe0f': u':man_getting_massage_dark_skin_tone:', u'\\U0001f1fa\\U0001f1f3': u':United_Nations:', u'\\u2721': u':star_of_David:', u'\\u26a0': u':warning:', u'\\U0001f3c3\\U0001f3fe\\u200d\\u2640\\ufe0f': u':woman_running_medium-dark_skin_tone:', u'\\U0001f62b': u':tired_face:', u'\\U0001f52d': u':telescope:', u'\\U0001f4ac': u':speech_balloon:', u'\\U0001f3ae': u':video_game:', u'\\U0001f468\\U0001f3fe\\u200d\\U0001f3eb': u':man_teacher_medium-dark_skin_tone:', u'\\U0001f468\\U0001f3fe\\u200d\\U0001f3ed': u':man_factory_worker_medium-dark_skin_tone:', u'\\U0001f486\\U0001f3fc\\u200d\\u2640\\ufe0f': u':woman_getting_massage_medium-light_skin_tone:', u'\\U0001f6c0': u':person_taking_bath:', u'\\U0001f469\\U0001f3fe\\u200d\\U0001f680': u':woman_astronaut_medium-dark_skin_tone:', u'\\U0001f5c2': u':card_index_dividers:', u'\\U0001f468\\U0001f3fe\\u200d\\U0001f393': u':man_student_medium-dark_skin_tone:', u'\\U0001f469\\U0001f3fe\\u200d\\U0001f692': u':woman_firefighter_medium-dark_skin_tone:', u'\\U0001f1e8\\U0001f1e9': u':Congo_-_Kinshasa:', u'\\U0001f457': u':dress:', u'\\U0001f359': u':rice_ball:', u'\\U0001f482\\U0001f3fd\\u200d\\u2642\\ufe0f': u':man_guard_medium_skin_tone:', u'\\U0001f468\\u200d\\U0001f393': u':man_student:', u'\\U0001f469\\u200d\\u2764\\ufe0f\\u200d\\U0001f48b\\u200d\\U0001f468': u':kiss_woman_man:', u'\\U0001f477\\U0001f3fd\\u200d\\u2640\\ufe0f': u':woman_construction_worker_medium_skin_tone:', u'\\U0001f4ec': u':open_mailbox_with_raised_flag:', u'\\U0001f3ee': u':red_paper_lantern:', u'\\U0001f468\\U0001f3fe\\u200d\\U0001f3a8': u':man_artist_medium-dark_skin_tone:', u'\\U0001f468\\U0001f3fe\\u200d\\U0001f3a4': u':man_singer_medium-dark_skin_tone:', u'\\U0001f681': u':helicopter:', u'\\U0001f383': u':jack-o-lantern:', u'\\U0001f402': u':ox:', u'\\U0001f9db\\u200d\\u2642\\ufe0f': u':man_vampire:', u'\\U0001f6b5\\u200d\\u2642\\ufe0f': u':man_mountain_biking:', u'\\u3299': u':Japanese_secret_button:', u'\\U0001f318': u':waning_crescent_moon:', u'\\u26a1': u':high_voltage:', u'\\U0001f407': u':rabbit:', u'\\U0001f3c3\\U0001f3ff\\u200d\\u2642\\ufe0f': u':man_running_dark_skin_tone:', u'\\U0001f482\\u200d\\u2640\\ufe0f': u':woman_guard:', u'\\U0001f4ad': u':thought_balloon:', u'\\U0001f52c': u':microscope:', u'\\U0001f469\\u200d\\U0001f4bc': u':woman_office_worker:', u'\\U0001f934': u':prince:', u'\\U0001f468\\U0001f3fb\\u200d\\U0001f33e': u':man_farmer_light_skin_tone:', u'\\U0001f6c1': u':bathtub:', u'\\U0001f3c3': u':person_running:', u'\\U0001f442': u':ear:', u'\\U0001f468\\U0001f3fc\\u200d\\u2695\\ufe0f': u':man_health_worker_medium-light_skin_tone:', u'\\u2763': u':heavy_heart_exclamation:', u'\\U0001f44d\\U0001f3fd': u':thumbs_up_medium_skin_tone:', u'\\U0001f358': u':rice_cracker:', u'\\U0001f44d\\U0001f3ff': u':thumbs_up_dark_skin_tone:', u'\\U0001f44d\\U0001f3fe': u':thumbs_up_medium-dark_skin_tone:', u'\\U0001f44d\\U0001f3fb': u':thumbs_up_light_skin_tone:', u'\\U0001f473\\U0001f3fd\\u200d\\u2640\\ufe0f': u':woman_wearing_turban_medium_skin_tone:', u'\\U0001f3ca\\U0001f3fb\\u200d\\u2642\\ufe0f': u':man_swimming_light_skin_tone:', u'\\U0001f4ed': u':open_mailbox_with_lowered_flag:', u'\\U0001f3cb\\ufe0f\\u200d\\u2640\\ufe0f': u':woman_lifting_weights:', u'\\U0001f468\\U0001f3fb\\u200d\\U0001f373': u':man_cook_light_skin_tone:', u'\\U0001f36b': u':chocolate_bar:', u'\\U0001f601': u':beaming_face_with_smiling_eyes:', u'\\U0001f93d\\u200d\\u2640\\ufe0f': u':woman_playing_water_polo:', u'\\U0001f303': u':night_with_stars:', u'\\U0001f482': u':guard:', u'\\u270b': u':raised_hand:', u'\\U0001f517': u':link:', u'\\U0001f696': u':oncoming_taxi:', u'\\U0001f468\\U0001f3fb\\u200d\\U0001f393': u':man_student_light_skin_tone:', u'\\U0001f91f': u':love-you_gesture:', u'\\U0001f468\\U0001f3fb\\u200d\\U0001f3a8': u':man_artist_light_skin_tone:', u'\\U0001f9d3\\U0001f3fd': u':older_adult_medium_skin_tone:', u'\\U0001f469\\U0001f3ff\\u200d\\u2708\\ufe0f': u':woman_pilot_dark_skin_tone:', u'\\U0001f468\\U0001f3fb\\u200d\\U0001f3a4': u':man_singer_light_skin_tone:', u'\\U0001f485\\U0001f3fd': u':nail_polish_medium_skin_tone:', u'\\U0001f485\\U0001f3fc': u':nail_polish_medium-light_skin_tone:', u'\\U0001f485\\U0001f3ff': u':nail_polish_dark_skin_tone:', u'\\U0001f485\\U0001f3fe': u':nail_polish_medium-dark_skin_tone:', u'\\U0001f485\\U0001f3fb': u':nail_polish_light_skin_tone:', u'\\U0001f641': u':slightly_frowning_face:', u'\\U0001f343': u':leaf_fluttering_in_wind:', u'\\U0001f4c2': u':open_file_folder:', u'\\U0001f9d7\\u200d\\u2642\\ufe0f': u':man_climbing:', u'\\U0001f645\\u200d\\u2642\\ufe0f': u':man_gesturing_NO:', u'\\U0001f93d\\U0001f3fe\\u200d\\u2642\\ufe0f': u':man_playing_water_polo_medium-dark_skin_tone:', u'\\U0001f46f\\u200d\\u2642\\ufe0f': u':men_with_bunny_ears:', u'\\U0001f646\\U0001f3ff\\u200d\\u2640\\ufe0f': u':woman_gesturing_OK_dark_skin_tone:', u'\\U0001f557': u':eight_o\\u2019clock:', u'\\U0001f3d8': u':houses:', u'\\U0001f9d7\\U0001f3fc\\u200d\\u2640\\ufe0f': u':woman_climbing_medium-light_skin_tone:', u'\\U0001f95f': u':dumpling:', u'\\U0001f575\\U0001f3ff\\u200d\\u2640\\ufe0f': u':woman_detective_dark_skin_tone:', u'\\U0001f575\\U0001f3ff': u':detective_dark_skin_tone:', u'\\U0001f468\\U0001f3fb\\u200d\\U0001f3eb': u':man_teacher_light_skin_tone:', u'\\U0001f468\\U0001f3fb\\u200d\\U0001f3ed': u':man_factory_worker_light_skin_tone:', u'\\U0001f46d': u':two_women_holding_hands:', u'\\u23f8': u':pause_button:', u'\\u26f9\\U0001f3fc': u':person_bouncing_ball_medium-light_skin_tone:', u'\\U0001f981': u':lion_face:', u'\\U0001f1e7\\U0001f1f6': u':Caribbean_Netherlands:', u'\\U0001f1e7\\U0001f1f4': u':Bolivia:', u'\\U0001f3c4\\U0001f3fd\\u200d\\u2640\\ufe0f': u':woman_surfing_medium_skin_tone:', u'\\U0001f1e7\\U0001f1f2': u':Bermuda:', u'\\U0001f1e7\\U0001f1f1': u':St._Barth\\xe9lemy:', u'\\U0001f400': u':rat:', u'\\U0001f1e7\\U0001f1ff': u':Belize:', u'\\U0001f408': u':cat:', u'\\U0001f1e7\\U0001f1fc': u':Botswana:', u'\\U0001f1e7\\U0001f1fb': u':Bouvet_Island:', u'\\U0001f1e7\\U0001f1f9': u':Bhutan:', u'\\U0001f1e7\\U0001f1f8': u':Bahamas:', u'\\U0001f1e7\\U0001f1e7': u':Barbados:', u'\\U0001f1e7\\U0001f1e6': u':Bosnia_&_Herzegovina:', u'\\U0001f6b4\\U0001f3fd\\u200d\\u2642\\ufe0f': u':man_biking_medium_skin_tone:', u'\\U0001f3c3\\U0001f3fd\\u200d\\u2640\\ufe0f': u':woman_running_medium_skin_tone:', u'\\u2795': u':heavy_plus_sign:', u'\\u2614': u':umbrella_with_rain_drops:', u'\\U0001f916': u':robot_face:', u'\\U0001f1e7\\U0001f1ef': u':Benin:', u'\\U0001f1e7\\U0001f1ee': u':Burundi:', u'\\U0001f1e7\\U0001f1ed': u':Bahrain:', u'\\U0001f1e7\\U0001f1ec': u':Bulgaria:', u'\\U0001f1e7\\U0001f1eb': u':Burkina_Faso:', u'\\U0001f1e7\\U0001f1ea': u':Belgium:', u'\\U0001f1e7\\U0001f1e9': u':Bangladesh:', u'\\U0001f51e': u':no_one_under_eighteen:', u'\\U0001f1f0\\U0001f1f2': u':Comoros:', u'\\U0001f1f0\\U0001f1f3': u':St._Kitts_&_Nevis:', u'\\U0001f468\\U0001f3fd\\u200d\\U0001f527': u':man_mechanic_medium_skin_tone:', u'\\U0001f1f0\\U0001f1f5': u':North_Korea:', u'\\U0001f9d9\\U0001f3fe\\u200d\\u2640\\ufe0f': u':woman_mage_medium-dark_skin_tone:', u'\\U0001f1f0\\U0001f1fe': u':Cayman_Islands:', u'\\U0001f1f0\\U0001f1ff': u':Kazakhstan:', u'\\U0001f468\\U0001f3fd\\u200d\\U0001f52c': u':man_scientist_medium_skin_tone:', u'\\u3030': u':wavy_dash:', u'\\U0001f4b3': u':credit_card:', u'\\U0001f332': u':evergreen_tree:', u'\\U0001f555': u':six_o\\u2019clock:', u'\\U0001f468\\U0001f3fe\\u200d\\u2708\\ufe0f': u':man_pilot_medium-dark_skin_tone:', u'\\U0001f46e\\U0001f3fe': u':police_officer_medium-dark_skin_tone:', u'\\U0001f46e\\U0001f3ff': u':police_officer_dark_skin_tone:', u'\\U0001f1f0\\U0001f1ea': u':Kenya:', u'\\U0001f1f0\\U0001f1ee': u':Kiribati:', u'\\U0001f1f0\\U0001f1ec': u':Kyrgyzstan:', u'\\U0001f1f0\\U0001f1ed': u':Cambodia:', u'\\U0001f938\\U0001f3ff\\u200d\\u2640\\ufe0f': u':woman_cartwheeling_dark_skin_tone:', u'\\U0001f960': u':fortune_cookie:', u'\\U0001f6b4\\U0001f3fe\\u200d\\u2640\\ufe0f': u':woman_biking_medium-dark_skin_tone:', u'\\U0001f934\\U0001f3fd': u':prince_medium_skin_tone:', u'\\U0001f482\\U0001f3fd\\u200d\\u2640\\ufe0f': u':woman_guard_medium_skin_tone:', u'\\U0001f956': u':baguette_bread:', u'\\U0001f3dd': u':desert_island:', u'\\U0001f55e': u':three-thirty:', u'\\U0001f3c7\\U0001f3ff': u':horse_racing_dark_skin_tone:', u'\\U0001f3c7\\U0001f3fe': u':horse_racing_medium-dark_skin_tone:', u'\\U0001f3c7\\U0001f3fd': u':horse_racing_medium_skin_tone:', u'\\U0001f3c7\\U0001f3fc': u':horse_racing_medium-light_skin_tone:', u'\\U0001f3c7\\U0001f3fb': u':horse_racing_light_skin_tone:', u'\\U0001f9d6\\U0001f3fe\\u200d\\u2642\\ufe0f': u':man_in_steamy_room_medium-dark_skin_tone:', u'\\U0001f4f3': u':vibration_mode:', u'\\U0001f372': u':pot_of_food:', u'\\U0001f6a3\\U0001f3fc\\u200d\\u2642\\ufe0f': u':man_rowing_boat_medium-light_skin_tone:', u'\\U0001f3cc\\U0001f3fd\\u200d\\u2642\\ufe0f': u':man_golfing_medium_skin_tone:', u'\\U0001f473\\U0001f3ff\\u200d\\u2640\\ufe0f': u':woman_wearing_turban_dark_skin_tone:', u'\\U0001f64e\\U0001f3fd\\u200d\\u2640\\ufe0f': u':woman_pouting_medium_skin_tone:', u'\\U0001f9dc\\U0001f3fd': u':merperson_medium_skin_tone:', u'\\U0001f46e\\U0001f3ff\\u200d\\u2642\\ufe0f': u':man_police_officer_dark_skin_tone:', u'\\U0001f939\\U0001f3fd\\u200d\\u2642\\ufe0f': u':man_juggling_medium_skin_tone:', u'\\U0001f509': u':speaker_medium_volume:', u'\\U0001f488': u':barber_pole:', u'\\U0001f647\\U0001f3fd\\u200d\\u2640\\ufe0f': u':woman_bowing_medium_skin_tone:', u'\\U0001f64c\\U0001f3fe': u':raising_hands_medium-dark_skin_tone:', u'\\U0001f192': u':COOL_button:', u'\\u2694': u':crossed_swords:', u'\\U0001f9d7\\U0001f3fe\\u200d\\u2640\\ufe0f': u':woman_climbing_medium-dark_skin_tone:', u'\\U0001f996': u':T-Rex:', u'\\U0001f64b\\U0001f3fe\\u200d\\u2642\\ufe0f': u':man_raising_hand_medium-dark_skin_tone:', u'\\U0001f61f': u':worried_face:', u'\\U0001f64c\\U0001f3fd': u':raising_hands_medium_skin_tone:', u'\\U0001f64c\\U0001f3fb': u':raising_hands_light_skin_tone:', u'\\U0001f433': u':spouting_whale:', u'\\U0001f3b2': u':game_die:', u'\\U0001f471\\U0001f3fd\\u200d\\u2640\\ufe0f': u':blond-haired_woman_medium_skin_tone:', u'\\U0001f468\\U0001f3fd\\u200d\\u2696\\ufe0f': u':man_judge_medium_skin_tone:', u'\\U0001f926\\U0001f3fe\\u200d\\u2640\\ufe0f': u':woman_facepalming_medium-dark_skin_tone:', u'\\U0001f941': u':drum:', u'\\U0001f549': u':om:', u'\\U0001f473\\U0001f3fb\\u200d\\u2640\\ufe0f': u':woman_wearing_turban_light_skin_tone:', u'\\u2755': u':white_exclamation_mark:', u'\\u26d4': u':no_entry:', u'\\U0001f9d6': u':person_in_steamy_room:', u'\\U0001f35d': u':spaghetti:', u'7\\ufe0f\\u20e3': u':keycap_7:', u'\\U0001f5de': u':rolled-up_newspaper:', u'\\U0001f3c4\\U0001f3fb\\u200d\\u2640\\ufe0f': u':woman_surfing_light_skin_tone:', u'\\U0001f46e\\U0001f3fd\\u200d\\u2642\\ufe0f': u':man_police_officer_medium_skin_tone:', u'\\U0001f6b2': u':bicycle:', u'\\U0001f171': u':B_button_(blood_type):', u'\\U0001f473': u':person_wearing_turban:', u'\\U0001f6f4': u':kick_scooter:', u'\\U0001f468\\U0001f3ff\\u200d\\U0001f4bb': u':man_technologist_dark_skin_tone:', u'\\U0001f482\\U0001f3fc': u':guard_medium-light_skin_tone:', u'\\U0001f482\\U0001f3fd': u':guard_medium_skin_tone:', u'\\U0001f482\\U0001f3fe': u':guard_medium-dark_skin_tone:', u'\\U0001f482\\U0001f3ff': u':guard_dark_skin_tone:', u'\\u267f': u':wheelchair_symbol:', u'\\u25fe': u':black_medium-small_square:', u'\\U0001f9db\\U0001f3fd\\u200d\\u2642\\ufe0f': u':man_vampire_medium_skin_tone:', u'\\U0001f387': u':sparkler:', u'\\U0001f52f': u':dotted_six-pointed_star:', u'\\U0001f489': u':syringe:', u'\\U0001f508': u':speaker_low_volume:', u'\\U0001f60a': u':smiling_face_with_smiling_eyes:', u'\\U0001f64e\\U0001f3fb\\u200d\\u2642\\ufe0f': u':man_pouting_light_skin_tone:', u'\\u2695': u':medical_symbol:', u'\\u2714': u':heavy_check_mark:', u'\\U0001f31c': u':last_quarter_moon_face:', u'\\U0001f41e': u':lady_beetle:', u'\\U0001f448\\U0001f3fb': u':backhand_index_pointing_left_light_skin_tone:', u'\\U0001f9da': u':fairy:', u'\\U0001f448\\U0001f3fe': u':backhand_index_pointing_left_medium-dark_skin_tone:', u'\\U0001f448\\U0001f3ff': u':backhand_index_pointing_left_dark_skin_tone:', u'\\U0001f448\\U0001f3fc': u':backhand_index_pointing_left_medium-light_skin_tone:', u'\\U0001f448\\U0001f3fd': u':backhand_index_pointing_left_medium_skin_tone:', u'\\U0001f646\\U0001f3fb\\u200d\\u2642\\ufe0f': u':man_gesturing_OK_light_skin_tone:', u'\\u262a': u':star_and_crescent:', u'\\U0001f232': u':Japanese_prohibited_button:', u'\\U0001f6b5': u':person_mountain_biking:', u'\\U0001f926\\u200d\\u2640\\ufe0f': u':woman_facepalming:', u'\\u27bf': u':double_curly_loop:', u'\\U0001f9d3\\U0001f3fb': u':older_adult_light_skin_tone:', u'\\U0001f940': u':wilted_flower:', u'\\U0001f645\\U0001f3fe\\u200d\\u2642\\ufe0f': u':man_gesturing_NO_medium-dark_skin_tone:', u'\\U0001f9d3\\U0001f3ff': u':older_adult_dark_skin_tone:', u'\\U0001f9d3\\U0001f3fe': u':older_adult_medium-dark_skin_tone:', u'\\U0001f3c7': u':horse_racing:', u'\\U0001f9d3\\U0001f3fc': u':older_adult_medium-light_skin_tone:', u'\\U0001f4c9': u':chart_decreasing:', u'\\U0001f64a': u':speak-no-evil_monkey:', u'\\u26f9\\U0001f3fb': u':person_bouncing_ball_light_skin_tone:', u'\\u26f9\\U0001f3fd': u':person_bouncing_ball_medium_skin_tone:', u'\\u2754': u':white_question_mark:', u'\\u26f9\\U0001f3ff': u':person_bouncing_ball_dark_skin_tone:', u'\\u26f9\\U0001f3fe': u':person_bouncing_ball_medium-dark_skin_tone:', u'\\U0001f35c': u':steaming_bowl:', u'\\U0001f45e': u':man\\u2019s_shoe:', u'\\U0001f468\\U0001f3ff\\u200d\\U0001f52c': u':man_scientist_dark_skin_tone:', u'\\U0001f9dc\\U0001f3fe': u':merperson_medium-dark_skin_tone:', u'\\U0001f9dc\\U0001f3ff': u':merperson_dark_skin_tone:', u'\\U0001f486\\U0001f3fb\\u200d\\u2642\\ufe0f': u':man_getting_massage_light_skin_tone:', u'\\U0001f468\\U0001f3ff\\u200d\\U0001f527': u':man_mechanic_dark_skin_tone:', u'\\U0001f9dc\\U0001f3fb': u':merperson_light_skin_tone:', u'\\U0001f170': u':A_button_(blood_type):', u'\\U0001f5f3': u':ballot_box_with_ballot:', u'\\U0001f6f5': u':motor_scooter:', u'\\U0001f1e8\\U0001f1eb': u':Central_African_Republic:', u'\\U0001f645\\U0001f3fd\\u200d\\u2640\\ufe0f': u':woman_gesturing_NO_medium_skin_tone:', u'\\U0001f980': u':crab:', u'\\U0001f307': u':sunset:', u'\\U0001f409': u':dragon:', u'\\U0001f68a': u':tram:', u'\\u2615': u':hot_beverage:', u'\\U0001f49e': u':revolving_hearts:', u'\\U0001f92b': u':shushing_face:', u'\\u26aa': u':white_circle:', u'\\U0001f533': u':white_square_button:', u'\\U0001f635': u':dizzy_face:', u'\\U0001f3cc\\U0001f3ff\\u200d\\u2640\\ufe0f': u':woman_golfing_dark_skin_tone:', u'\\U0001f468\\U0001f3fd\\u200d\\U0001f4bb': u':man_technologist_medium_skin_tone:', u'\\U0001f468\\U0001f3fd\\u200d\\U0001f4bc': u':man_office_worker_medium_skin_tone:', u'\\U0001f9c0': u':cheese_wedge:', u'\\U0001f347': u':grapes:', u'\\U0001f449': u':backhand_index_pointing_right:', u'\\U0001f3dc': u':desert:', u'\\U0001f4de': u':telephone_receiver:', u'\\U0001f469\\U0001f3ff\\u200d\\U0001f680': u':woman_astronaut_dark_skin_tone:', u'\\u261d\\U0001f3fd': u':index_pointing_up_medium_skin_tone:', u'\\u261d\\U0001f3fc': u':index_pointing_up_medium-light_skin_tone:', u'\\u261d\\U0001f3ff': u':index_pointing_up_dark_skin_tone:', u'\\u26ea': u':church:', u'\\u261d\\U0001f3fb': u':index_pointing_up_light_skin_tone:', u'\\U0001f573': u':hole:', u'\\U0001f3c3\\U0001f3fb\\u200d\\u2642\\ufe0f': u':man_running_light_skin_tone:', u'\\U0001f926\\U0001f3ff\\u200d\\u2642\\ufe0f': u':man_facepalming_dark_skin_tone:', u'\\U0001f469\\U0001f3fb': u':woman_light_skin_tone:', u'\\U0001f6aa': u':door:', u'\\U0001f469\\U0001f3fd': u':woman_medium_skin_tone:', u'\\U0001f469\\U0001f3fc': u':woman_medium-light_skin_tone:', u'\\U0001f469\\U0001f3ff': u':woman_dark_skin_tone:', u'\\U0001f306': u':cityscape_at_dusk:', u'\\U0001f608': u':smiling_face_with_horns:', u'\\U0001f50a': u':speaker_high_volume:', u'\\u2693': u':anchor:', u'\\U0001f469\\U0001f3fb\\u200d\\u2696\\ufe0f': u':woman_judge_light_skin_tone:', u'\\U0001f646\\U0001f3fe\\u200d\\u2640\\ufe0f': u':woman_gesturing_OK_medium-dark_skin_tone:', u'\\U0001f49f': u':heart_decoration:', u'\\U0001f487\\U0001f3fd\\u200d\\u2640\\ufe0f': u':woman_getting_haircut_medium_skin_tone:', u'\\U0001f64e\\U0001f3fb\\u200d\\u2640\\ufe0f': u':woman_pouting_light_skin_tone:', u'\\U0001f938\\u200d\\u2640\\ufe0f': u':woman_cartwheeling:', u'\\U0001f487\\U0001f3ff': u':person_getting_haircut_dark_skin_tone:', u'\\U0001f487\\U0001f3fe': u':person_getting_haircut_medium-dark_skin_tone:', u'\\U0001f487\\U0001f3fd': u':person_getting_haircut_medium_skin_tone:', u'\\U0001f487\\U0001f3fc': u':person_getting_haircut_medium-light_skin_tone:', u'\\U0001f487\\U0001f3fb': u':person_getting_haircut_light_skin_tone:', u'\\U0001f9dd\\U0001f3ff\\u200d\\u2642\\ufe0f': u':man_elf_dark_skin_tone:', u'\\U0001f3b1': u':pool_8_ball:', u'\\U0001f6b3': u':no_bicycles:', u'\\U0001f434': u':horse_face:', u'\\U0001f391': u':moon_viewing_ceremony:', u'\\U0001f95e': u':pancakes:', u'\\u203c': u':double_exclamation_mark:', u'\\U0001f942': u':clinking_glasses:', u'\\U0001f346': u':eggplant:', u'\\U0001f648': u':see-no-evil_monkey:', u'\\U0001f54a': u':dove:', u'\\U0001f481\\U0001f3fb\\u200d\\u2642\\ufe0f': u':man_tipping_hand_light_skin_tone:', u'\\u26d3': u':chains:', u'\\U0001f4df': u':pager:', u'\\u2668': u':hot_springs:', u'\\U0001f477\\U0001f3fd\\u200d\\u2642\\ufe0f': u':man_construction_worker_medium_skin_tone:', u'\\U0001f6f3': u':passenger_ship:', u'\\U0001f474': u':old_man:', u'\\U0001f9db\\u200d\\u2640\\ufe0f': u':woman_vampire:', u'\\U0001f4be': u':floppy_disk:', u'\\U0001f982': u':scorpion:', u'\\U0001f386': u':fireworks:', u'\\U0001f688': u':light_rail:', u'\\U0001f58a': u':pen:', u'\\U0001f9dc\\U0001f3fc\\u200d\\u2640\\ufe0f': u':mermaid_medium-light_skin_tone:', u'\\U0001f41f': u':fish:', u'\\U0001f469\\u200d\\u2764\\ufe0f\\u200d\\U0001f468': u':couple_with_heart_woman_man:', u'\\U0001f469\\u200d\\u2764\\ufe0f\\u200d\\U0001f469': u':couple_with_heart_woman_woman:', u'\\u25aa': u':black_small_square:', u'\\U0001f92d': u':face_with_hand_over_mouth:', u'\\U0001f3c3\\U0001f3ff\\u200d\\u2640\\ufe0f': u':woman_running_dark_skin_tone:', u'\\U0001f331': u':seedling:', u'\\U0001f633': u':flushed_face:', u'\\U0001f535': u':blue_circle:', u'\\U0001f469\\U0001f3ff\\u200d\\u2696\\ufe0f': u':woman_judge_dark_skin_tone:', u'\\U0001f3c6': u':trophy:', u'\\U0001f468\\U0001f3ff\\u200d\\U0001f680': u':man_astronaut_dark_skin_tone:', u'\\u2653': u':Pisces:', u'\\U0001f468\\U0001f3ff\\u200d\\U0001f692': u':man_firefighter_dark_skin_tone:', u'\\U0001f6b4\\U0001f3fc\\u200d\\u2640\\ufe0f': u':woman_biking_medium-light_skin_tone:', u'\\U0001f473\\U0001f3fd\\u200d\\u2642\\ufe0f': u':man_wearing_turban_medium_skin_tone:', u'\\U0001f626': u':frowning_face_with_open_mouth:', u'\\U0001f553': u':four_o\\u2019clock:', u'\\U0001f575\\ufe0f\\u200d\\u2640\\ufe0f': u':woman_detective:', u'\\U0001f371': u':bento_box:', u'\\U0001f443\\U0001f3ff': u':nose_dark_skin_tone:', u'\\U0001f443\\U0001f3fe': u':nose_medium-dark_skin_tone:', u'\\U0001f443\\U0001f3fd': u':nose_medium_skin_tone:', u'\\U0001f443\\U0001f3fc': u':nose_medium-light_skin_tone:', u'\\U0001f64d\\U0001f3fc\\u200d\\u2642\\ufe0f': u':man_frowning_medium-light_skin_tone:', u'\\U0001f40a': u':crocodile:', u'\\U0001f471\\U0001f3fd': u':blond-haired_person_medium_skin_tone:', u'\\U0001f93d\\u200d\\u2642\\ufe0f': u':man_playing_water_polo:', u'\\U0001f997': u':cricket:', u'\\U0001f39b': u':control_knobs:', u'\\u270c\\U0001f3fc': u':victory_hand_medium-light_skin_tone:', u'\\U0001f61e': u':disappointed_face:', u'\\U0001f6b1': u':non-potable_water:', u'\\U0001f3cc\\U0001f3fc\\u200d\\u2640\\ufe0f': u':woman_golfing_medium-light_skin_tone:', u'\\u2728': u':sparkles:', u'\\U0001f92c': u':face_with_symbols_on_mouth:', u'\\U0001f330': u':chestnut:', u'\\U0001f432': u':dragon_face:', u'\\U0001f4b5': u':dollar_banknote:', u'\\U0001f534': u':red_circle:', u'\\U0001f9d7\\u200d\\u2640\\ufe0f': u':woman_climbing:', u'\\U0001f575\\U0001f3ff\\u200d\\u2642\\ufe0f': u':man_detective_dark_skin_tone:', u'\\U0001f938\\U0001f3fe\\u200d\\u2642\\ufe0f': u':man_cartwheeling_medium-dark_skin_tone:', u'\\U0001f469\\u200d\\U0001f3ed': u':woman_factory_worker:', u'\\U0001f44a': u':oncoming_fist:', u'\\U0001f9d7': u':person_climbing:', u'\\U0001f3db': u':classical_building:', u'\\U0001f487\\U0001f3fb\\u200d\\u2642\\ufe0f': u':man_getting_haircut_light_skin_tone:', u'\\U0001f646\\U0001f3ff\\u200d\\u2642\\ufe0f': u':man_gesturing_OK_dark_skin_tone:', u'\\U0001f469\\U0001f3fe\\u200d\\u2708\\ufe0f': u':woman_pilot_medium-dark_skin_tone:', u'\\u26e9': u':shinto_shrine:', u'\\U0001f9d7\\U0001f3ff\\u200d\\u2640\\ufe0f': u':woman_climbing_dark_skin_tone:', u'\\U0001f4f5': u':no_mobile_phones:', u'\\U0001f646\\U0001f3fc\\u200d\\u2640\\ufe0f': u':woman_gesturing_OK_medium-light_skin_tone:', u'\\U0001f468\\U0001f3ff\\u200d\\U0001f373': u':man_cook_dark_skin_tone:', u'\\U0001f96b': u':canned_food:', u'\\U0001f468\\U0001f3fd\\u200d\\U0001f680': u':man_astronaut_medium_skin_tone:', u'\\u261d\\U0001f3fe': u':index_pointing_up_medium-dark_skin_tone:', u'\\U0001f46e\\U0001f3fb\\u200d\\u2640\\ufe0f': u':woman_police_officer_light_skin_tone:', u'\\U0001f617': u':kissing_face:', u'\\U0001f64e\\U0001f3fc\\u200d\\u2642\\ufe0f': u':man_pouting_medium-light_skin_tone:', u'\\U0001f609': u':winking_face:', u'\\U0001f48a': u':pill:', u'\\U0001f6a3\\u200d\\u2640\\ufe0f': u':woman_rowing_boat:', u'\\U0001f468\\U0001f3fd\\u200d\\U0001f692': u':man_firefighter_medium_skin_tone:', u'\\u26f9\\U0001f3fb\\u200d\\u2642\\ufe0f': u':man_bouncing_ball_light_skin_tone:', u'\\U0001f917': u':hugging_face:', u'\\U0001f481\\U0001f3fc\\u200d\\u2640\\ufe0f': u':woman_tipping_hand_medium-light_skin_tone:', u'\\U0001f645\\U0001f3fb\\u200d\\u2642\\ufe0f': u':man_gesturing_NO_light_skin_tone:', u'\\U0001f31b': u':first_quarter_moon_face:', u'\\U0001f647\\U0001f3fd\\u200d\\u2642\\ufe0f': u':man_bowing_medium_skin_tone:', u'\\U0001f51f': u':keycap_10:', u'\\U0001f69e': u':mountain_railway:', u'\\U0001f39a': u':level_slider:', u'\\U0001f9dd\\U0001f3fd': u':elf_medium_skin_tone:', u'\\U0001f9dd\\U0001f3fc': u':elf_medium-light_skin_tone:', u'\\U0001f9dd\\U0001f3ff': u':elf_dark_skin_tone:', u'\\U0001f9dd\\U0001f3fe': u':elf_medium-dark_skin_tone:', u'\\U0001f9dd\\U0001f3fb': u':elf_light_skin_tone:', u'\\U0001f3b0': u':slot_machine:', u'\\U0001f435': u':monkey_face:', u'\\U0001f590\\U0001f3fb': u':hand_with_fingers_splayed_light_skin_tone:', u'\\U0001f3c4\\U0001f3ff\\u200d\\u2640\\ufe0f': u':woman_surfing_dark_skin_tone:', u'\\u26be': u':baseball:', u'\\U0001f521': u':input_latin_lowercase:', u'\\U0001f4a0': u':diamond_with_a_dot:', u'\\U0001f649': u':hear-no-evil_monkey:', u'\\U0001f4ca': u':bar_chart:', u'\\u2753': u':question_mark:', u'\\U0001f957': u':green_salad:', u'\\U0001f35b': u':curry_rice:', u'\\U0001f487\\U0001f3fd\\u200d\\u2642\\ufe0f': u':man_getting_haircut_medium_skin_tone:', u'\\U0001f55f': u':four-thirty:', u'\\U0001f6d1': u':stop_sign:', u'\\U0001f9d9\\U0001f3fc\\u200d\\u2640\\ufe0f': u':woman_mage_medium-light_skin_tone:', u'\\U0001f9dc\\U0001f3fd\\u200d\\u2642\\ufe0f': u':merman_medium_skin_tone:', u'\\U0001f9d8\\U0001f3fb\\u200d\\u2642\\ufe0f': u':man_in_lotus_position_light_skin_tone:', u'\\U0001f3f0': u':castle:', u'\\U0001f475': u':old_woman:', u'\\U0001f9da\\U0001f3fe\\u200d\\u2642\\ufe0f': u':man_fairy_medium-dark_skin_tone:', u'\\U0001f469\\U0001f3ff\\u200d\\U0001f3ed': u':woman_factory_worker_dark_skin_tone:', u'\\U0001f474\\U0001f3fe': u':old_man_medium-dark_skin_tone:', u'\\U0001f687': u':metro:', u'\\U0001f506': u':bright_button:', u'\\U0001f30a': u':water_wave:', u'\\U0001f939\\U0001f3fd\\u200d\\u2640\\ufe0f': u':woman_juggling_medium_skin_tone:', u'5\\ufe0f\\u20e3': u':keycap_5:', u'\\u2712': u':black_nib:', u'\\U0001f49b': u':yellow_heart:', u'\\U0001f61c': u':winking_face_with_tongue:', u'\\U0001f469\\u200d\\U0001f466\\u200d\\U0001f466': u':family_woman_boy_boy:', u'\\U0001f926\\U0001f3fe\\u200d\\u2642\\ufe0f': u':man_facepalming_medium-dark_skin_tone:', u'\\u21a9': u':right_arrow_curving_left:', u'\\U0001f9d7\\U0001f3fd\\u200d\\u2640\\ufe0f': u':woman_climbing_medium_skin_tone:', u'\\U0001f92e': u':face_vomiting:', u'\\U0001f5b1': u':computer_mouse:', u'\\U0001f430': u':rabbit_face:', u'\\U0001f3b5': u':musical_note:', u'\\U0001f234': u':Japanese_passing_grade_button:', u'\\U0001f468\\U0001f3fb\\u200d\\u2696\\ufe0f': u':man_judge_light_skin_tone:', u'\\U0001f34a': u':tangerine:', u'\\U0001f6b4\\u200d\\u2640\\ufe0f': u':woman_biking:', u'\\U0001f9d9': u':mage:', u'\\U0001f4db': u':name_badge:', u'\\U0001f474\\U0001f3fd': u':old_man_medium_skin_tone:', u'\\U0001f9d2\\U0001f3fb': u':child_light_skin_tone:', u'\\U0001f57a\\U0001f3fc': u':man_dancing_medium-light_skin_tone:', u'\\U0001f46e\\U0001f3fd\\u200d\\u2640\\ufe0f': u':woman_police_officer_medium_skin_tone:', u'\\U0001f468\\u200d\\U0001f467': u':family_man_girl:', u'2\\ufe0f\\u20e3': u':keycap_2:', u'\\U0001f57a\\U0001f3fe': u':man_dancing_medium-dark_skin_tone:', u'\\U0001f470': u':bride_with_veil:', u'\\U0001f3f5': u':rosette:', u'\\U0001f468\\u200d\\U0001f469\\u200d\\U0001f467\\u200d\\U0001f466': u':family_man_woman_girl_boy:', u'\\U0001f468\\u200d\\U0001f469\\u200d\\U0001f467\\u200d\\U0001f467': u':family_man_woman_girl_girl:', u'\\U0001f9d6\\U0001f3fd\\u200d\\u2642\\ufe0f': u':man_in_steamy_room_medium_skin_tone:', u'\\U0001f93d\\U0001f3ff\\u200d\\u2642\\ufe0f': u':man_playing_water_polo_dark_skin_tone:', u'\\U0001f607': u':smiling_face_with_halo:', u'\\U0001f38a': u':confetti_ball:', u'\\U0001f478\\U0001f3fb': u':princess_light_skin_tone:', u'\\U0001f478\\U0001f3fe': u':princess_medium-dark_skin_tone:', u'\\U0001f478\\U0001f3ff': u':princess_dark_skin_tone:', u'\\U0001f478\\U0001f3fc': u':princess_medium-light_skin_tone:', u'\\U0001f478\\U0001f3fd': u':princess_medium_skin_tone:', u'\\U0001f919': u':call_me_hand:', u'\\U0001f345': u':tomato:', u'\\U0001f41b': u':bug:', u'\\U0001f69c': u':tractor:', u'\\U0001f473\\U0001f3ff\\u200d\\u2642\\ufe0f': u':man_wearing_turban_dark_skin_tone:', u'\\u26f1': u':umbrella_on_ground:', u'\\U0001f469\\u200d\\U0001f469\\u200d\\U0001f467': u':family_woman_woman_girl:', u'\\U0001f469\\u200d\\U0001f469\\u200d\\U0001f466': u':family_woman_woman_boy:', u'\\U0001f468\\U0001f3ff\\u200d\\U0001f33e': u':man_farmer_dark_skin_tone:', u'\\U0001f476\\U0001f3fd': u':baby_medium_skin_tone:', u'\\U0001f531': u':trident_emblem:', u'\\U0001f4b0': u':money_bag:', u'\\U0001f335': u':cactus:', u'\\U0001f9dc\\U0001f3ff\\u200d\\u2642\\ufe0f': u':merman_dark_skin_tone:', u'\\U0001f596\\U0001f3fb': u':vulcan_salute_light_skin_tone:', u'\\U0001f596\\U0001f3fc': u':vulcan_salute_medium-light_skin_tone:', u'\\U0001f596\\U0001f3fd': u':vulcan_salute_medium_skin_tone:', u'\\U0001f596\\U0001f3fe': u':vulcan_salute_medium-dark_skin_tone:', u'\\U0001f596\\U0001f3ff': u':vulcan_salute_dark_skin_tone:', u'\\U0001f575\\U0001f3fc\\u200d\\u2642\\ufe0f': u':man_detective_medium-light_skin_tone:', u'\\U0001f647': u':person_bowing:', u'\\U0001f9dc\\U0001f3ff\\u200d\\u2640\\ufe0f': u':mermaid_dark_skin_tone:', u'\\U0001f3ca': u':person_swimming:', u'\\U0001f6cc': u':person_in_bed:', u'\\U0001f959': u':stuffed_flatbread:', u'\\U0001f9d8\\U0001f3ff\\u200d\\u2642\\ufe0f': u':man_in_lotus_position_dark_skin_tone:', u'\\U0001f45b': u':purse:', u'\\U0001f468\\u200d\\U0001f466\\u200d\\U0001f466': u':family_man_boy_boy:', u'\\U0001f9d8\\U0001f3fd\\u200d\\u2640\\ufe0f': u':woman_in_lotus_position_medium_skin_tone:', u'\\u23ea': u':fast_reverse_button:', u'\\U0001f4f0': u':newspaper:', u'\\U0001f375': u':teacup_without_handle:', u'\\U0001f469\\U0001f3ff\\u200d\\U0001f393': u':woman_student_dark_skin_tone:', u'\\U0001f983': u':turkey:', u'\\U0001f468\\U0001f3fe\\u200d\\u2696\\ufe0f': u':man_judge_medium-dark_skin_tone:', u'\\U0001f406': u':leopard:', u'\\U0001f9db\\U0001f3fe\\u200d\\u2642\\ufe0f': u':man_vampire_medium-dark_skin_tone:', u'\\U0001f918': u':sign_of_the_horns:', u'\\U0001f69d': u':monorail:', u'\\U0001f39f': u':admission_tickets:', u'\\xa9': u':copyright:', u'\\U0001f4b1': u':currency_exchange:', u'\\U0001f530': u':Japanese_symbol_for_beginner:', u'\\U0001f632': u':astonished_face:', u'\\U0001f334': u':palm_tree:', u'\\u26bd': u':soccer_ball:', u'\\U0001f471\\u200d\\u2640\\ufe0f': u':blond-haired_woman:', u'\\U0001f446': u':backhand_index_pointing_up:', u'\\U0001f69f': u':suspension_railway:', u'\\u2652': u':Aquarius:', u'\\U0001f958': u':shallow_pan_of_food:', u'\\U0001f3df': u':stadium:', u'\\u270a\\U0001f3fc': u':raised_fist_medium-light_skin_tone:', u'\\u270a\\U0001f3fd': u':raised_fist_medium_skin_tone:', u'\\u270a\\U0001f3fe': u':raised_fist_medium-dark_skin_tone:', u'\\u270a\\U0001f3ff': u':raised_fist_dark_skin_tone:', u'\\U0001f44c\\U0001f3ff': u':OK_hand_dark_skin_tone:', u'\\u270a\\U0001f3fb': u':raised_fist_light_skin_tone:', u'\\U0001f9da\\U0001f3fd\\u200d\\u2642\\ufe0f': u':man_fairy_medium_skin_tone:', u'\\U0001f570': u':mantelpiece_clock:', u'\\U0001f1ed\\U0001f1f7': u':Croatia:', u'\\U0001f610': u':neutral_face:', u'\\U0001f374': u':fork_and_knife:', u'\\U0001f1ed\\U0001f1f3': u':Honduras:', u'\\U0001f1ed\\U0001f1f2': u':Heard_&_McDonald_Islands:', u'\\U0001f3c3\\U0001f3fb\\u200d\\u2640\\ufe0f': u':woman_running_light_skin_tone:', u'\\u25fb': u':white_medium_square:', u'\\U0001f1ed\\U0001f1f9': u':Haiti:', u'\\U0001f46b': u':man_and_woman_holding_hands:', u'\\U0001f1ed\\U0001f1fa': u':Hungary:', u'\\U0001f939\\U0001f3fc\\u200d\\u2640\\ufe0f': u':woman_juggling_medium-light_skin_tone:', u'\\U0001f1f6\\U0001f1e6': u':Qatar:', u'\\U0001f486': u':person_getting_massage:', u'\\U0001f6ec': u':airplane_arrival:', u'\\u2692': u':hammer_and_pick:', u'\\U0001f93d\\U0001f3fc\\u200d\\u2642\\ufe0f': u':man_playing_water_polo_medium-light_skin_tone:', u'\\U0001f51b': u':ON!_arrow:', u'\\U0001f932\\U0001f3fb': u':palms_up_together_light_skin_tone:', u'\\U0001f61d': u':squinting_face_with_tongue:', u'\\U0001f31f': u':glowing_star:', u'\\U0001f469\\U0001f3fb\\u200d\\U0001f393': u':woman_student_light_skin_tone:', u'\\U0001f9d7\\U0001f3fb\\u200d\\u2640\\ufe0f': u':woman_climbing_light_skin_tone:', u'\\U0001f9da\\U0001f3fd': u':fairy_medium_skin_tone:', u'\\U0001f9dc\\u200d\\u2640\\ufe0f': u':mermaid:', u'\\U0001f9da\\U0001f3fe': u':fairy_medium-dark_skin_tone:', u'\\U0001f431': u':cat_face:', u'\\U0001f938\\U0001f3fc\\u200d\\u2640\\ufe0f': u':woman_cartwheeling_medium-light_skin_tone:', u'\\U0001f235': u':Japanese_no_vacancy_button:', u'\\U0001f3b4': u':flower_playing_cards:', u'\\U0001f943': u':tumbler_glass:', u'\\U0001f1ff\\U0001f1fc': u':Zimbabwe:', u'\\U0001f4c6': u':tear-off_calendar:', u'\\U0001f1eb\\U0001f1f4': u':Faroe_Islands:', u'\\U0001f1ff\\U0001f1f2': u':Zambia:', u'\\U0001f1ff\\U0001f1e6': u':South_Africa:', u'\\U0001f55b': u':twelve_o\\u2019clock:', u'\\U0001f35f': u':french_fries:', u'\\U0001f46e\\U0001f3fc\\u200d\\u2642\\ufe0f': u':man_police_officer_medium-light_skin_tone:', u'\\U0001f6a6': u':vertical_traffic_light:', u'\\U0001f471': u':blond-haired_person:', u'\\U0001f919\\U0001f3fb': u':call_me_hand_light_skin_tone:', u'\\U0001f919\\U0001f3fd': u':call_me_hand_medium_skin_tone:', u'\\U0001f919\\U0001f3fc': u':call_me_hand_medium-light_skin_tone:', u'\\U0001f919\\U0001f3ff': u':call_me_hand_dark_skin_tone:', u'\\U0001f919\\U0001f3fe': u':call_me_hand_medium-dark_skin_tone:', u'\\U0001f468\\U0001f3fb\\u200d\\u2695\\ufe0f': u':man_health_worker_light_skin_tone:', u'\\U0001f985': u':eagle:', u'\\U0001f487': u':person_getting_haircut:', u'\\U0001f389': u':party_popper:', u'\\u2602': u':umbrella:', u'\\u2195': u':up-down_arrow:', u'\\U0001f93e\\U0001f3fc\\u200d\\u2642\\ufe0f': u':man_playing_handball_medium-light_skin_tone:', u'\\U0001f69b': u':articulated_lorry:', u'\\U0001f91a': u':raised_back_of_hand:', u'\\U0001f9dc\\U0001f3fc\\u200d\\u2642\\ufe0f': u':merman_medium-light_skin_tone:', u'\\U0001f6b6\\U0001f3fc\\u200d\\u2642\\ufe0f': u':man_walking_medium-light_skin_tone:', u'6\\ufe0f\\u20e3': u':keycap_6:', u'\\U0001f64d\\u200d\\u2640\\ufe0f': u':woman_frowning:', u'\\U0001f532': u':black_square_button:', u'\\U0001f468\\U0001f3fd\\u200d\\U0001f33e': u':man_farmer_medium_skin_tone:', u'\\U0001f6a3\\U0001f3fe\\u200d\\u2642\\ufe0f': u':man_rowing_boat_medium-dark_skin_tone:', u'\\U0001f6b4\\U0001f3fc\\u200d\\u2642\\ufe0f': u':man_biking_medium-light_skin_tone:', u'\\U0001f4c7': u':card_index:', u'\\U0001f3c9': u':rugby_football:', u'\\U0001f466\\U0001f3fb': u':boy_light_skin_tone:', u'\\U0001f466\\U0001f3fc': u':boy_medium-light_skin_tone:', u'\\U0001f466\\U0001f3fd': u':boy_medium_skin_tone:', u'\\U0001f466\\U0001f3fe': u':boy_medium-dark_skin_tone:', u'\\U0001f466\\U0001f3ff': u':boy_dark_skin_tone:', u'\\u2650': u':Sagittarius:', u'\\U0001f9d9\\U0001f3ff\\u200d\\u2640\\ufe0f': u':woman_mage_dark_skin_tone:', u'\\U0001f575\\ufe0f\\u200d\\u2642\\ufe0f': u':man_detective:', u'\\U0001f95a': u':egg:', u'\\U0001f5dd': u':old_key:', u'\\U0001f45c': u':handbag:', u'\\U0001f35e': u':bread:', u'\\U0001f473\\U0001f3fb': u':person_wearing_turban_light_skin_tone:', u'\\U0001f473\\U0001f3ff': u':person_wearing_turban_dark_skin_tone:', u'\\U0001f473\\U0001f3fe': u':person_wearing_turban_medium-dark_skin_tone:', u'\\U0001f473\\U0001f3fd': u':person_wearing_turban_medium_skin_tone:', u'\\U0001f473\\U0001f3fc': u':person_wearing_turban_medium-light_skin_tone:', u'\\u23e9': u':fast-forward_button:', u'\\U0001f468\\U0001f3fd\\u200d\\U0001f373': u':man_cook_medium_skin_tone:', u'\\U0001f64d\\U0001f3fc\\u200d\\u2640\\ufe0f': u':woman_frowning_medium-light_skin_tone:', u'\\u25fd': u':white_medium-small_square:', u'\\U0001f595\\U0001f3fd': u':middle_finger_medium_skin_tone:', u'\\U0001f595\\U0001f3fc': u':middle_finger_medium-light_skin_tone:', u'\\U0001f595\\U0001f3ff': u':middle_finger_dark_skin_tone:', u'\\U0001f595\\U0001f3fe': u':middle_finger_medium-dark_skin_tone:', u'\\U0001f6b5\\U0001f3ff\\u200d\\u2642\\ufe0f': u':man_mountain_biking_dark_skin_tone:', u'\\U0001f595\\U0001f3fb': u':middle_finger_light_skin_tone:', u'\\U0001f309': u':bridge_at_night:', u'\\U0001f1e6\\U0001f1f4': u':Angola:', u'\\U0001f468\\U0001f3fd\\u200d\\U0001f393': u':man_student_medium_skin_tone:', u'\\U0001f61b': u':face_with_tongue:', u'\\U0001f51d': u':TOP_arrow:', u'\\U0001f49c': u':purple_heart:', u'\\U0001f39e': u':film_frames:', u'\\U0001f468\\U0001f3fd\\u200d\\U0001f3a4': u':man_singer_medium_skin_tone:', u'\\U0001f468\\U0001f3fd\\u200d\\U0001f3a8': u':man_artist_medium_skin_tone:', u'\\u21aa': u':left_arrow_curving_right:', u'\\U0001f9dd\\U0001f3fe\\u200d\\u2640\\ufe0f': u':woman_elf_medium-dark_skin_tone:', u'\\U0001f3cc\\U0001f3fc\\u200d\\u2642\\ufe0f': u':man_golfing_medium-light_skin_tone:', u'\\U0001f6b0': u':potable_water:', u'\\U0001f233': u':Japanese_vacancy_button:', u'\\U0001f5b2': u':trackball:', u'\\U0001f918\\U0001f3fe': u':sign_of_the_horns_medium-dark_skin_tone:', u'\\U0001f918\\U0001f3ff': u':sign_of_the_horns_dark_skin_tone:', u'\\U0001f918\\U0001f3fc': u':sign_of_the_horns_medium-light_skin_tone:', u'\\U0001f918\\U0001f3fd': u':sign_of_the_horns_medium_skin_tone:', u'\\U0001f64d\\U0001f3fe\\u200d\\u2640\\ufe0f': u':woman_frowning_medium-dark_skin_tone:', u'\\U0001f945': u':goal_net:', u'\\U0001f447': u':backhand_index_pointing_down:', u'\\U0001f349': u':watermelon:', u'\\U0001f938\\U0001f3fe\\u200d\\u2640\\ufe0f': u':woman_cartwheeling_medium-dark_skin_tone:', u'\\U0001f3ca\\U0001f3ff\\u200d\\u2640\\ufe0f': u':woman_swimming_dark_skin_tone:', u'\\U0001f9dd\\U0001f3fd\\u200d\\u2642\\ufe0f': u':man_elf_medium_skin_tone:', u'\\U0001f55d': u':two-thirty:', u'\\U0001f4dc': u':scroll:', u'\\U0001f3de': u':national_park:', u'\\U0001f9dd\\u200d\\u2640\\ufe0f': u':woman_elf:', u'\\U0001f468\\U0001f3fd\\u200d\\U0001f3eb': u':man_teacher_medium_skin_tone:', u'\\U0001f64d\\U0001f3fd\\u200d\\u2642\\ufe0f': u':man_frowning_medium_skin_tone:', u'\\U0001f468\\U0001f3fd\\u200d\\U0001f3ed': u':man_factory_worker_medium_skin_tone:', u'\\U0001f6f0': u':satellite:', u'\\U0001f64e\\U0001f3fe\\u200d\\u2640\\ufe0f': u':woman_pouting_medium-dark_skin_tone:', u'\\u267b': u':recycling_symbol:', u'\\U0001f46e\\U0001f3fb\\u200d\\u2642\\ufe0f': u':man_police_officer_light_skin_tone:', u'\\U0001f3ca\\U0001f3fc\\u200d\\u2642\\ufe0f': u':man_swimming_medium-light_skin_tone:', u'\\U0001f587': u':linked_paperclips:', u'\\U0001f606': u':grinning_squinting_face:', u'\\U0001f308': u':rainbow:', u'\\U0001f64e\\U0001f3fc\\u200d\\u2640\\ufe0f': u':woman_pouting_medium-light_skin_tone:', u'\\U0001f1ee\\U0001f1f7': u':Iran:', u'\\U0001f49d': u':heart_with_ribbon:', u'\\U0001f51c': u':SOON_arrow:', u'\\U0001f1ec\\U0001f1e6': u':Gabon:', u'\\U0001f1ec\\U0001f1e7': u':United_Kingdom:', u'\\u2626': u':orthodox_cross:', u'\\U0001f1ec\\U0001f1ee': u':Gibraltar:', u'\\u2328': u':keyboard:', u'\\U0001f1ec\\U0001f1ec': u':Guernsey:', u'\\U0001f1ec\\U0001f1ed': u':Ghana:', u'\\U0001f1ec\\U0001f1ea': u':Georgia:', u'\\U0001f1ec\\U0001f1eb': u':French_Guiana:', u'\\U0001f1ec\\U0001f1e9': u':Grenada:', u'\\U0001f1ec\\U0001f1f6': u':Equatorial_Guinea:', u'\\U0001f1ec\\U0001f1f7': u':Greece:', u'\\U0001f3b3': u':bowling:', u'\\U0001f1ec\\U0001f1f5': u':Guadeloupe:', u'\\U0001f1ec\\U0001f1f2': u':Gambia:', u'\\U0001f1ec\\U0001f1f3': u':Guinea:', u'\\U0001f1ec\\U0001f1f1': u':Greenland:', u'\\U0001f1ec\\U0001f1fe': u':Guyana:', u'\\U0001f1ec\\U0001f1fc': u':Guinea-Bissau:', u'\\U0001f1ec\\U0001f1fa': u':Guam:', u'\\U0001f1ec\\U0001f1f8': u':South_Georgia_&_South_Sandwich_Islands:', u'\\U0001f1ec\\U0001f1f9': u':Guatemala:', u'\\U0001f481\\U0001f3fe\\u200d\\u2640\\ufe0f': u':woman_tipping_hand_medium-dark_skin_tone:', u'\\U0001f944': u':spoon:', u'\\U0001f646': u':person_gesturing_OK:', u'\\U0001f348': u':melon:', u'\\U0001f483\\U0001f3fc': u':woman_dancing_medium-light_skin_tone:', u'\\U0001f590\\U0001f3fe': u':hand_with_fingers_splayed_medium-dark_skin_tone:', u'\\U0001f590\\U0001f3ff': u':hand_with_fingers_splayed_dark_skin_tone:', u'\\U0001f590\\U0001f3fc': u':hand_with_fingers_splayed_medium-light_skin_tone:', u'\\U0001f590\\U0001f3fd': u':hand_with_fingers_splayed_medium_skin_tone:', u'\\u26d1': u':rescue_worker\\u2019s_helmet:', u'\\U0001f4dd': u':memo:', u'\\U0001f55c': u':one-thirty:', u'\\U0001f91f\\U0001f3ff': u':love-you_gesture_dark_skin_tone:', u'\\U0001f91f\\U0001f3fe': u':love-you_gesture_medium-dark_skin_tone:', u'\\U0001f91f\\U0001f3fd': u':love-you_gesture_medium_skin_tone:', u'\\U0001f91f\\U0001f3fc': u':love-you_gesture_medium-light_skin_tone:', u'\\U0001f91f\\U0001f3fb': u':love-you_gesture_light_skin_tone:', u'\\u2666': u':diamond_suit:', u'\\U0001f64b\\U0001f3fb\\u200d\\u2642\\ufe0f': u':man_raising_hand_light_skin_tone:', u'\\U0001f3f3': u':white_flag:', u'\\U0001f472': u':man_with_Chinese_cap:', u'\\u25b6': u':play_button:', u'\\U0001f447\\U0001f3fe': u':backhand_index_pointing_down_medium-dark_skin_tone:', u'\\U0001f515': u':bell_with_slash:', u'\\U0001f9d8\\U0001f3fb\\u200d\\u2640\\ufe0f': u':woman_in_lotus_position_light_skin_tone:', u'\\U0001f64e\\U0001f3fd': u':person_pouting_medium_skin_tone:', u'\\U0001f3c4\\U0001f3fd\\u200d\\u2642\\ufe0f': u':man_surfing_medium_skin_tone:', u'\\U0001f468\\U0001f3fc\\u200d\\u2708\\ufe0f': u':man_pilot_medium-light_skin_tone:', u'\\U0001f984': u':unicorn_face:', u'\\U0001f507': u':muted_speaker:', u'\\U0001f686': u':train:', u'\\U0001f388': u':balloon:', u'\\u2611': u':ballot_box_with_check:', u'\\U0001f473\\U0001f3fb\\u200d\\u2642\\ufe0f': u':man_wearing_turban_light_skin_tone:', u'\\U0001f93e\\U0001f3fd\\u200d\\u2642\\ufe0f': u':man_playing_handball_medium_skin_tone:', u'\\u2194': u':left-right_arrow:', u'\\U0001f9d9\\U0001f3fe\\u200d\\u2642\\ufe0f': u':man_mage_medium-dark_skin_tone:', u'\\U0001f3c3\\U0001f3fd\\u200d\\u2642\\ufe0f': u':man_running_medium_skin_tone:', u'\\U0001f3cb\\U0001f3fe\\u200d\\u2640\\ufe0f': u':woman_lifting_weights_medium-dark_skin_tone:', u'\\U0001f41d': u':honeybee:', u'\\U0001f468\\U0001f3ff\\u200d\\U0001f3ed': u':man_factory_worker_dark_skin_tone:', u'\\U0001f468\\U0001f3ff\\u200d\\U0001f3eb': u':man_teacher_dark_skin_tone:', u'\\U0001f92f': u':exploding_head:', u'\\U0001f631': u':face_screaming_in_fear:', u'\\U0001f333': u':deciduous_tree:', u'\\U0001f4b2': u':heavy_dollar_sign:', u'\\U0001f93e\\U0001f3fb\\u200d\\u2640\\ufe0f': u':woman_playing_handball_light_skin_tone:', u'\\U0001f9de\\u200d\\u2642\\ufe0f': u':man_genie:', u'\\U0001f3cc\\ufe0f\\u200d\\u2642\\ufe0f': u':man_golfing:', u'\\U0001f3c4\\U0001f3fe\\u200d\\u2640\\ufe0f': u':woman_surfing_medium-dark_skin_tone:', u'\\U0001f9d9\\u200d\\u2640\\ufe0f': u':woman_mage:', u'\\U0001f3c8': u':american_football:', u'9\\ufe0f\\u20e3': u':keycap_9:', u'\\u2651': u':Capricorn:', u'\\U0001f468\\u200d\\u2708\\ufe0f': u':man_pilot:', u'\\U0001f45d': u':clutch_bag:', u'\\U0001f5dc': u':clamp:', u'\\U0001f468\\U0001f3ff\\u200d\\U0001f393': u':man_student_dark_skin_tone:', u'\\U0001f468\\U0001f3ff\\u200d\\U0001f3a8': u':man_artist_dark_skin_tone:', u'\\U0001f468\\U0001f3ff\\u200d\\U0001f3a4': u':man_singer_dark_skin_tone:', u'\\U0001f9d6\\U0001f3fd': u':person_in_steamy_room_medium_skin_tone:', u'\\U0001f373': u':cooking:', u'\\U0001f4f2': u':mobile_phone_with_arrow:', u'\\U0001f9d6\\U0001f3fb': u':person_in_steamy_room_light_skin_tone:', u'\\U0001f9d6\\U0001f3fc': u':person_in_steamy_room_medium-light_skin_tone:', u'\\u25fc': u':black_medium_square:', u'\\U0001f9d6\\U0001f3fe': u':person_in_steamy_room_medium-dark_skin_tone:', u'\\U0001f9d6\\U0001f3ff': u':person_in_steamy_room_dark_skin_tone:'}\n"
     ]
    }
   ],
   "source": [
    "print(emoji.UNICODE_EMOJI)"
   ]
  },
  {
   "cell_type": "code",
   "execution_count": 3,
   "metadata": {},
   "outputs": [
    {
     "name": "stdout",
     "output_type": "stream",
     "text": [
      "🚏\n"
     ]
    }
   ],
   "source": [
    "print(emoji.emojize(':bus_stop:'))"
   ]
  },
  {
   "cell_type": "code",
   "execution_count": 4,
   "metadata": {},
   "outputs": [
    {
     "name": "stderr",
     "output_type": "stream",
     "text": [
      "Using TensorFlow backend.\n"
     ]
    }
   ],
   "source": [
    "import numpy as np\n",
    "import pandas as pd\n",
    "import emoji\n",
    "\n",
    "from keras.models import Sequential\n",
    "from keras.layers import Dense, Input, Dropout, SimpleRNN,LSTM, Activation\n",
    "from keras.utils import np_utils\n",
    "\n",
    "import matplotlib.pyplot as plt"
   ]
  },
  {
   "cell_type": "code",
   "execution_count": 5,
   "metadata": {},
   "outputs": [],
   "source": [
    "train = pd.read_csv('train_emoji.csv',header=None)\n",
    "test = pd.read_csv('test_emoji.csv',header=None)"
   ]
  },
  {
   "cell_type": "code",
   "execution_count": 6,
   "metadata": {},
   "outputs": [
    {
     "data": {
      "text/html": [
       "<div>\n",
       "<style scoped>\n",
       "    .dataframe tbody tr th:only-of-type {\n",
       "        vertical-align: middle;\n",
       "    }\n",
       "\n",
       "    .dataframe tbody tr th {\n",
       "        vertical-align: top;\n",
       "    }\n",
       "\n",
       "    .dataframe thead th {\n",
       "        text-align: right;\n",
       "    }\n",
       "</style>\n",
       "<table border=\"1\" class=\"dataframe\">\n",
       "  <thead>\n",
       "    <tr style=\"text-align: right;\">\n",
       "      <th></th>\n",
       "      <th>0</th>\n",
       "      <th>1</th>\n",
       "      <th>2</th>\n",
       "      <th>3</th>\n",
       "    </tr>\n",
       "  </thead>\n",
       "  <tbody>\n",
       "    <tr>\n",
       "      <th>0</th>\n",
       "      <td>never talk to me again</td>\n",
       "      <td>3</td>\n",
       "      <td>NaN</td>\n",
       "      <td>NaN</td>\n",
       "    </tr>\n",
       "    <tr>\n",
       "      <th>1</th>\n",
       "      <td>I am proud of your achievements</td>\n",
       "      <td>2</td>\n",
       "      <td>NaN</td>\n",
       "      <td>NaN</td>\n",
       "    </tr>\n",
       "    <tr>\n",
       "      <th>2</th>\n",
       "      <td>It is the worst day in my life</td>\n",
       "      <td>3</td>\n",
       "      <td>NaN</td>\n",
       "      <td>NaN</td>\n",
       "    </tr>\n",
       "    <tr>\n",
       "      <th>3</th>\n",
       "      <td>Miss you so much</td>\n",
       "      <td>0</td>\n",
       "      <td>NaN</td>\n",
       "      <td>[0]</td>\n",
       "    </tr>\n",
       "    <tr>\n",
       "      <th>4</th>\n",
       "      <td>food is life</td>\n",
       "      <td>4</td>\n",
       "      <td>NaN</td>\n",
       "      <td>NaN</td>\n",
       "    </tr>\n",
       "  </tbody>\n",
       "</table>\n",
       "</div>"
      ],
      "text/plain": [
       "                                 0  1   2     3\n",
       "0           never talk to me again  3 NaN   NaN\n",
       "1  I am proud of your achievements  2 NaN   NaN\n",
       "2   It is the worst day in my life  3 NaN   NaN\n",
       "3                 Miss you so much  0 NaN   [0]\n",
       "4                     food is life  4 NaN   NaN"
      ]
     },
     "execution_count": 6,
     "metadata": {},
     "output_type": "execute_result"
    }
   ],
   "source": [
    "train.head()"
   ]
  },
  {
   "cell_type": "code",
   "execution_count": 7,
   "metadata": {},
   "outputs": [
    {
     "data": {
      "text/html": [
       "<div>\n",
       "<style scoped>\n",
       "    .dataframe tbody tr th:only-of-type {\n",
       "        vertical-align: middle;\n",
       "    }\n",
       "\n",
       "    .dataframe tbody tr th {\n",
       "        vertical-align: top;\n",
       "    }\n",
       "\n",
       "    .dataframe thead th {\n",
       "        text-align: right;\n",
       "    }\n",
       "</style>\n",
       "<table border=\"1\" class=\"dataframe\">\n",
       "  <thead>\n",
       "    <tr style=\"text-align: right;\">\n",
       "      <th></th>\n",
       "      <th>0</th>\n",
       "      <th>1</th>\n",
       "    </tr>\n",
       "  </thead>\n",
       "  <tbody>\n",
       "    <tr>\n",
       "      <th>0</th>\n",
       "      <td>I want to eat\\t</td>\n",
       "      <td>4</td>\n",
       "    </tr>\n",
       "    <tr>\n",
       "      <th>1</th>\n",
       "      <td>he did not answer\\t</td>\n",
       "      <td>3</td>\n",
       "    </tr>\n",
       "    <tr>\n",
       "      <th>2</th>\n",
       "      <td>he got a raise\\t</td>\n",
       "      <td>2</td>\n",
       "    </tr>\n",
       "    <tr>\n",
       "      <th>3</th>\n",
       "      <td>she got me a present\\t</td>\n",
       "      <td>0</td>\n",
       "    </tr>\n",
       "    <tr>\n",
       "      <th>4</th>\n",
       "      <td>ha ha ha it was so funny\\t</td>\n",
       "      <td>2</td>\n",
       "    </tr>\n",
       "  </tbody>\n",
       "</table>\n",
       "</div>"
      ],
      "text/plain": [
       "                            0  1\n",
       "0             I want to eat\\t  4\n",
       "1         he did not answer\\t  3\n",
       "2            he got a raise\\t  2\n",
       "3      she got me a present\\t  0\n",
       "4  ha ha ha it was so funny\\t  2"
      ]
     },
     "execution_count": 7,
     "metadata": {},
     "output_type": "execute_result"
    }
   ],
   "source": [
    "test.head()"
   ]
  },
  {
   "cell_type": "code",
   "execution_count": 8,
   "metadata": {},
   "outputs": [],
   "source": [
    "emoji_dict = { 0 : \":beating_heart:\", 1 : \":baseball:\", 2 : \":smile:\", 3 : \":disappointed:\", 4 : \":fork_and_knife:\"}"
   ]
  },
  {
   "cell_type": "code",
   "execution_count": 9,
   "metadata": {},
   "outputs": [
    {
     "name": "stdout",
     "output_type": "stream",
     "text": [
      "0\n",
      "💓\n",
      "1\n",
      "⚾\n",
      "2\n",
      "😄\n",
      "3\n",
      "😞\n",
      "4\n",
      "🍴\n"
     ]
    }
   ],
   "source": [
    "for ix in emoji_dict.keys():#by default emojize iterates over keys\n",
    "    print(ix)\n",
    "    print(emoji.emojize(emoji_dict[ix], use_aliases=True))\n",
    "    "
   ]
  },
  {
   "cell_type": "code",
   "execution_count": 10,
   "metadata": {},
   "outputs": [],
   "source": [
    "X_train=train[0]\n",
    "Y_train=train[1]\n",
    "X_test = test[0]\n",
    "Y_test = test[1]"
   ]
  },
  {
   "cell_type": "code",
   "execution_count": 11,
   "metadata": {},
   "outputs": [
    {
     "data": {
      "text/plain": [
       "((132,), (132,))"
      ]
     },
     "execution_count": 11,
     "metadata": {},
     "output_type": "execute_result"
    }
   ],
   "source": [
    "X_train.shape,Y_train.shape"
   ]
  },
  {
   "cell_type": "code",
   "execution_count": 12,
   "metadata": {},
   "outputs": [
    {
     "data": {
      "text/plain": [
       "((56,), (56,))"
      ]
     },
     "execution_count": 12,
     "metadata": {},
     "output_type": "execute_result"
    }
   ],
   "source": [
    "X_test.shape,Y_test.shape"
   ]
  },
  {
   "cell_type": "code",
   "execution_count": 13,
   "metadata": {},
   "outputs": [
    {
     "data": {
      "text/plain": [
       "'never talk to me again'"
      ]
     },
     "execution_count": 13,
     "metadata": {},
     "output_type": "execute_result"
    }
   ],
   "source": [
    "X_train[0]"
   ]
  },
  {
   "cell_type": "code",
   "execution_count": 14,
   "metadata": {},
   "outputs": [
    {
     "name": "stdout",
     "output_type": "stream",
     "text": [
      "😞\n"
     ]
    }
   ],
   "source": [
    "print(emoji.emojize(emoji_dict[3], use_aliases=True))"
   ]
  },
  {
   "cell_type": "code",
   "execution_count": 15,
   "metadata": {},
   "outputs": [
    {
     "name": "stderr",
     "output_type": "stream",
     "text": [
      "/home/loveleen/.local/lib/python2.7/site-packages/ipykernel_launcher.py:2: SettingWithCopyWarning: \n",
      "A value is trying to be set on a copy of a slice from a DataFrame\n",
      "\n",
      "See the caveats in the documentation: http://pandas.pydata.org/pandas-docs/stable/indexing.html#indexing-view-versus-copy\n",
      "  \n",
      "/home/loveleen/.local/lib/python2.7/site-packages/ipykernel_launcher.py:5: SettingWithCopyWarning: \n",
      "A value is trying to be set on a copy of a slice from a DataFrame\n",
      "\n",
      "See the caveats in the documentation: http://pandas.pydata.org/pandas-docs/stable/indexing.html#indexing-view-versus-copy\n",
      "  \"\"\"\n"
     ]
    }
   ],
   "source": [
    "for ix in range(X_train.shape[0]):\n",
    "    X_train[ix] = X_train[ix].lower().split()#convert the sentence into list of words\n",
    "    \n",
    "for ix in range(X_test.shape[0]):\n",
    "    X_test[ix] = X_test[ix].split()\n",
    "    \n",
    "    "
   ]
  },
  {
   "cell_type": "code",
   "execution_count": 16,
   "metadata": {},
   "outputs": [
    {
     "data": {
      "text/plain": [
       "['never', 'talk', 'to', 'me', 'again']"
      ]
     },
     "execution_count": 16,
     "metadata": {},
     "output_type": "execute_result"
    }
   ],
   "source": [
    "X_train[0]"
   ]
  },
  {
   "cell_type": "code",
   "execution_count": 17,
   "metadata": {},
   "outputs": [],
   "source": [
    "def read_glove_vecs(glove_file):\n",
    "    with open(glove_file, 'r') as f:\n",
    "        words = set()#stores unique words\n",
    "        word_to_vec_map = {}\n",
    "        for line in f:\n",
    "            #print(line)\n",
    "            line = line.strip().split()#strip removes whitespaces and split changes it to list\n",
    "            #print(line)\n",
    "            curr_word = line[0]\n",
    "            words.add(curr_word)\n",
    "            word_to_vec_map[curr_word] = np.array(line[1:], dtype=np.float64)\n",
    "            #print(word_to_vec_map)\n",
    "        \n",
    "        i = 1\n",
    "        words_to_index = {}\n",
    "        index_to_words = {}\n",
    "        for w in sorted(words):\n",
    "            words_to_index[w] = i\n",
    "            index_to_words[i] = w\n",
    "            i = i + 1\n",
    "        #print(words_to_index)\n",
    "        #print(index_to_words)\n",
    "    return words_to_index, index_to_words, word_to_vec_map"
   ]
  },
  {
   "cell_type": "code",
   "execution_count": 18,
   "metadata": {},
   "outputs": [],
   "source": [
    "words_to_index, index_to_words, word_to_vec_map=read_glove_vecs(\"glove.6B.50d.txt\")"
   ]
  },
  {
   "cell_type": "code",
   "execution_count": 19,
   "metadata": {},
   "outputs": [
    {
     "data": {
      "text/plain": [
       "array([ 0.092086,  0.2571  , -0.58693 , -0.37029 ,  1.0828  , -0.55466 ,\n",
       "       -0.78142 ,  0.58696 , -0.58714 ,  0.46318 , -0.11267 ,  0.2606  ,\n",
       "       -0.26928 , -0.072466,  1.247   ,  0.30571 ,  0.56731 ,  0.30509 ,\n",
       "       -0.050312, -0.64443 , -0.54513 ,  0.86429 ,  0.20914 ,  0.56334 ,\n",
       "        1.1228  , -1.0516  , -0.78105 ,  0.29656 ,  0.7261  , -0.61392 ,\n",
       "        2.4225  ,  1.0142  , -0.17753 ,  0.4147  , -0.12966 , -0.47064 ,\n",
       "        0.3807  ,  0.16309 , -0.323   , -0.77899 , -0.42473 , -0.30826 ,\n",
       "       -0.42242 ,  0.055069,  0.38267 ,  0.037415, -0.4302  , -0.39442 ,\n",
       "        0.10511 ,  0.87286 ])"
      ]
     },
     "execution_count": 19,
     "metadata": {},
     "output_type": "execute_result"
    }
   ],
   "source": [
    "word_to_vec_map[\"happy\"]"
   ]
  },
  {
   "cell_type": "code",
   "execution_count": 20,
   "metadata": {},
   "outputs": [],
   "source": [
    "def avg_vector(words):\n",
    "    \n",
    "    ans = word_to_vec_map[words[0]]\n",
    "   # print(ans)\n",
    "    for i in range(1,len(words)):\n",
    "        ans = np.add(ans,word_to_vec_map[words[i]])\n",
    "    ans = ans/float(len(words))\n",
    "    return ans    \n",
    "    "
   ]
  },
  {
   "cell_type": "code",
   "execution_count": 21,
   "metadata": {},
   "outputs": [],
   "source": [
    "ans=avg_vector(X_train[0])"
   ]
  },
  {
   "cell_type": "code",
   "execution_count": 22,
   "metadata": {},
   "outputs": [
    {
     "name": "stdout",
     "output_type": "stream",
     "text": [
      "[ 9.718460e-02  1.743740e-02  5.284300e-02 -4.368060e-01  2.756132e-01\n",
      " -1.426688e-01 -6.120520e-01  4.716140e-01 -6.059740e-01  1.566594e-01\n",
      " -8.662400e-02  4.906620e-01 -6.480320e-01 -1.612960e-01  8.897200e-01\n",
      "  4.867520e-01  4.601260e-02 -8.363342e-02 -2.288840e-01 -4.151500e-01\n",
      " -1.140000e-02  6.407600e-01  5.954280e-01  1.780868e-01  7.128668e-01\n",
      " -2.072760e+00 -3.161338e-01  1.869920e-01  6.583040e-01 -6.969300e-01\n",
      "  3.172380e+00  5.411100e-01 -5.941440e-01 -3.028740e-01 -2.285386e-01\n",
      " -2.899120e-01  2.006040e-01  1.053064e-01 -3.933000e-02 -4.483020e-01\n",
      " -1.353596e-01 -2.031200e-03 -2.454976e-01  1.305460e-01 -1.976000e-02\n",
      "  2.025340e-02 -1.199070e-01 -2.522034e-01 -2.197784e-01  3.076060e-01]\n"
     ]
    }
   ],
   "source": [
    "print(ans)"
   ]
  },
  {
   "cell_type": "code",
   "execution_count": 23,
   "metadata": {},
   "outputs": [],
   "source": [
    "X_numbers=np.zeros((132,50))"
   ]
  },
  {
   "cell_type": "code",
   "execution_count": 24,
   "metadata": {},
   "outputs": [],
   "source": [
    "for i in range(X_train.shape[0]):\n",
    "    X_numbers[i]=avg_vector(X_train[i])"
   ]
  },
  {
   "cell_type": "code",
   "execution_count": 25,
   "metadata": {},
   "outputs": [
    {
     "name": "stdout",
     "output_type": "stream",
     "text": [
      "(132, 50)\n"
     ]
    }
   ],
   "source": [
    "print(X_numbers.shape)"
   ]
  },
  {
   "cell_type": "code",
   "execution_count": 26,
   "metadata": {},
   "outputs": [],
   "source": [
    "embedding_matrix_train = np.zeros((X_train.shape[0], 10, 50))\n",
    "embedding_matrix_test = np.zeros((X_test.shape[0], 10, 50))\n",
    "i=0\n",
    "for ix in range(X_train.shape[0]):\n",
    "    for ij in range(len(X_train[ix])):\n",
    "        embedding_matrix_train[ix][ij] = word_to_vec_map[X_train[ix][ij].lower()]\n",
    "        \n",
    "for ix in range(X_test.shape[0]):\n",
    "    for ij in range(len(X_test[ix])):\n",
    "        embedding_matrix_test[ix][ij] = word_to_vec_map[X_test[ix][ij].lower()]      "
   ]
  },
  {
   "cell_type": "code",
   "execution_count": 27,
   "metadata": {},
   "outputs": [
    {
     "data": {
      "text/plain": [
       "array([[[ 9.5387e-02, -1.6865e-01, -1.1514e-01, ..., -4.2103e-01,\n",
       "         -5.3817e-01,  1.3738e-01],\n",
       "        [-3.4604e-02,  4.1087e-01, -9.7368e-02, ...,  5.6204e-01,\n",
       "         -5.9770e-01,  9.5068e-01],\n",
       "        [ 6.8047e-01, -3.9263e-02,  3.0186e-01, ..., -7.3297e-02,\n",
       "         -6.4699e-02, -2.6044e-01],\n",
       "        ...,\n",
       "        [ 0.0000e+00,  0.0000e+00,  0.0000e+00, ...,  0.0000e+00,\n",
       "          0.0000e+00,  0.0000e+00],\n",
       "        [ 0.0000e+00,  0.0000e+00,  0.0000e+00, ...,  0.0000e+00,\n",
       "          0.0000e+00,  0.0000e+00],\n",
       "        [ 0.0000e+00,  0.0000e+00,  0.0000e+00, ...,  0.0000e+00,\n",
       "          0.0000e+00,  0.0000e+00]],\n",
       "\n",
       "       [[ 1.1891e-01,  1.5255e-01, -8.2073e-02, ..., -5.7512e-01,\n",
       "         -2.6671e-01,  9.2121e-01],\n",
       "        [ 3.4664e-01,  3.9805e-01,  4.8970e-01, ...,  8.6576e-02,\n",
       "          3.4037e-01,  1.3588e+00],\n",
       "        [-5.9180e-01,  2.7671e-01, -4.6971e-01, ..., -2.0055e-01,\n",
       "         -2.6487e-01,  5.7981e-01],\n",
       "        ...,\n",
       "        [ 0.0000e+00,  0.0000e+00,  0.0000e+00, ...,  0.0000e+00,\n",
       "          0.0000e+00,  0.0000e+00],\n",
       "        [ 0.0000e+00,  0.0000e+00,  0.0000e+00, ...,  0.0000e+00,\n",
       "          0.0000e+00,  0.0000e+00],\n",
       "        [ 0.0000e+00,  0.0000e+00,  0.0000e+00, ...,  0.0000e+00,\n",
       "          0.0000e+00,  0.0000e+00]],\n",
       "\n",
       "       [[ 6.1183e-01, -2.2072e-01, -1.0898e-01, ..., -4.3688e-02,\n",
       "         -9.7922e-02,  1.6806e-01],\n",
       "        [ 6.1850e-01,  6.4254e-01, -4.6552e-01, ..., -2.7557e-01,\n",
       "          3.0899e-01,  4.8497e-01],\n",
       "        [ 4.1800e-01,  2.4968e-01, -4.1242e-01, ..., -1.8411e-01,\n",
       "         -1.1514e-01, -7.8581e-01],\n",
       "        ...,\n",
       "        [ 5.1491e-01,  8.8806e-01, -7.1906e-01, ..., -9.9837e-01,\n",
       "         -6.6328e-02,  1.3118e-01],\n",
       "        [ 0.0000e+00,  0.0000e+00,  0.0000e+00, ...,  0.0000e+00,\n",
       "          0.0000e+00,  0.0000e+00],\n",
       "        [ 0.0000e+00,  0.0000e+00,  0.0000e+00, ...,  0.0000e+00,\n",
       "          0.0000e+00,  0.0000e+00]],\n",
       "\n",
       "       ...,\n",
       "\n",
       "       [[ 4.5323e-01,  5.9811e-02, -1.0577e-01, ...,  5.3240e-01,\n",
       "         -2.5103e-01,  6.2546e-01],\n",
       "        [ 6.1850e-01,  6.4254e-01, -4.6552e-01, ..., -2.7557e-01,\n",
       "          3.0899e-01,  4.8497e-01],\n",
       "        [ 1.3423e-01, -7.0572e-01,  2.5652e-01, ...,  4.3723e-01,\n",
       "          9.0636e-01,  5.1193e-01],\n",
       "        ...,\n",
       "        [ 0.0000e+00,  0.0000e+00,  0.0000e+00, ...,  0.0000e+00,\n",
       "          0.0000e+00,  0.0000e+00],\n",
       "        [ 0.0000e+00,  0.0000e+00,  0.0000e+00, ...,  0.0000e+00,\n",
       "          0.0000e+00,  0.0000e+00],\n",
       "        [ 0.0000e+00,  0.0000e+00,  0.0000e+00, ...,  0.0000e+00,\n",
       "          0.0000e+00,  0.0000e+00]],\n",
       "\n",
       "       [[ 1.1891e-01,  1.5255e-01, -8.2073e-02, ..., -5.7512e-01,\n",
       "         -2.6671e-01,  9.2121e-01],\n",
       "        [-1.3886e-01,  1.1401e+00, -8.5212e-01, ..., -1.3711e+00,\n",
       "         -2.8606e-01,  2.8980e-01],\n",
       "        [-1.0919e-03,  3.3324e-01,  3.5743e-01, ..., -4.5697e-01,\n",
       "         -4.8969e-02,  1.1316e+00],\n",
       "        ...,\n",
       "        [ 0.0000e+00,  0.0000e+00,  0.0000e+00, ...,  0.0000e+00,\n",
       "          0.0000e+00,  0.0000e+00],\n",
       "        [ 0.0000e+00,  0.0000e+00,  0.0000e+00, ...,  0.0000e+00,\n",
       "          0.0000e+00,  0.0000e+00],\n",
       "        [ 0.0000e+00,  0.0000e+00,  0.0000e+00, ...,  0.0000e+00,\n",
       "          0.0000e+00,  0.0000e+00]],\n",
       "\n",
       "       [[-2.6567e-02,  1.3357e+00, -1.0280e+00, ..., -4.9658e-01,\n",
       "         -4.1618e-01, -2.5490e-01],\n",
       "        [-2.0343e-01, -4.5235e-02,  2.3346e-01, ...,  7.8093e-01,\n",
       "          4.6384e-03,  1.3011e+00],\n",
       "        [ 0.0000e+00,  0.0000e+00,  0.0000e+00, ...,  0.0000e+00,\n",
       "          0.0000e+00,  0.0000e+00],\n",
       "        ...,\n",
       "        [ 0.0000e+00,  0.0000e+00,  0.0000e+00, ...,  0.0000e+00,\n",
       "          0.0000e+00,  0.0000e+00],\n",
       "        [ 0.0000e+00,  0.0000e+00,  0.0000e+00, ...,  0.0000e+00,\n",
       "          0.0000e+00,  0.0000e+00],\n",
       "        [ 0.0000e+00,  0.0000e+00,  0.0000e+00, ...,  0.0000e+00,\n",
       "          0.0000e+00,  0.0000e+00]]])"
      ]
     },
     "execution_count": 27,
     "metadata": {},
     "output_type": "execute_result"
    }
   ],
   "source": [
    "embedding_matrix_train"
   ]
  },
  {
   "cell_type": "code",
   "execution_count": 28,
   "metadata": {},
   "outputs": [],
   "source": [
    "model = Sequential()\n",
    "model.add(SimpleRNN(64, input_shape=(10,50), return_sequences=True))\n",
    "model.add(Dropout(0.5))\n",
    "model.add(SimpleRNN(64, return_sequences=False))\n",
    "model.add(Dropout(0.5))\n",
    "model.add(Dense(5))\n",
    "model.add(Activation('softmax'))\n"
   ]
  },
  {
   "cell_type": "code",
   "execution_count": 29,
   "metadata": {},
   "outputs": [],
   "source": [
    "model.compile(optimizer='adam',loss='categorical_crossentropy',metrics=['accuracy'])"
   ]
  },
  {
   "cell_type": "code",
   "execution_count": 30,
   "metadata": {},
   "outputs": [
    {
     "data": {
      "text/plain": [
       "(132,)"
      ]
     },
     "execution_count": 30,
     "metadata": {},
     "output_type": "execute_result"
    }
   ],
   "source": [
    "Y_train.shape"
   ]
  },
  {
   "cell_type": "code",
   "execution_count": 31,
   "metadata": {},
   "outputs": [],
   "source": [
    "Y_onehot=np_utils.to_categorical(Y_train)"
   ]
  },
  {
   "cell_type": "code",
   "execution_count": 32,
   "metadata": {},
   "outputs": [
    {
     "name": "stdout",
     "output_type": "stream",
     "text": [
      "[[0. 0. 0. 1. 0.]\n",
      " [0. 0. 1. 0. 0.]\n",
      " [0. 0. 0. 1. 0.]\n",
      " [1. 0. 0. 0. 0.]\n",
      " [0. 0. 0. 0. 1.]\n",
      " [1. 0. 0. 0. 0.]\n",
      " [0. 0. 0. 1. 0.]\n",
      " [0. 0. 1. 0. 0.]\n",
      " [0. 0. 0. 1. 0.]\n",
      " [0. 1. 0. 0. 0.]\n",
      " [0. 0. 0. 1. 0.]\n",
      " [0. 0. 0. 1. 0.]\n",
      " [0. 1. 0. 0. 0.]\n",
      " [0. 0. 0. 1. 0.]\n",
      " [0. 0. 1. 0. 0.]\n",
      " [0. 0. 0. 1. 0.]\n",
      " [0. 0. 1. 0. 0.]\n",
      " [0. 0. 0. 1. 0.]\n",
      " [0. 1. 0. 0. 0.]\n",
      " [0. 0. 1. 0. 0.]\n",
      " [0. 0. 0. 1. 0.]\n",
      " [1. 0. 0. 0. 0.]\n",
      " [0. 0. 1. 0. 0.]\n",
      " [0. 0. 1. 0. 0.]\n",
      " [0. 0. 1. 0. 0.]\n",
      " [0. 1. 0. 0. 0.]\n",
      " [0. 0. 0. 0. 1.]\n",
      " [0. 0. 1. 0. 0.]\n",
      " [0. 0. 1. 0. 0.]\n",
      " [0. 0. 0. 0. 1.]\n",
      " [1. 0. 0. 0. 0.]\n",
      " [0. 0. 0. 1. 0.]\n",
      " [0. 0. 0. 0. 1.]\n",
      " [0. 0. 1. 0. 0.]\n",
      " [1. 0. 0. 0. 0.]\n",
      " [0. 0. 0. 1. 0.]\n",
      " [0. 0. 1. 0. 0.]\n",
      " [0. 0. 1. 0. 0.]\n",
      " [0. 0. 0. 1. 0.]\n",
      " [0. 0. 0. 0. 1.]\n",
      " [0. 0. 1. 0. 0.]\n",
      " [0. 0. 1. 0. 0.]\n",
      " [1. 0. 0. 0. 0.]\n",
      " [0. 0. 1. 0. 0.]\n",
      " [0. 0. 0. 1. 0.]\n",
      " [1. 0. 0. 0. 0.]\n",
      " [0. 0. 0. 1. 0.]\n",
      " [0. 0. 1. 0. 0.]\n",
      " [0. 0. 0. 0. 1.]\n",
      " [0. 0. 0. 1. 0.]\n",
      " [1. 0. 0. 0. 0.]\n",
      " [0. 0. 0. 1. 0.]\n",
      " [0. 0. 0. 1. 0.]\n",
      " [0. 0. 0. 1. 0.]\n",
      " [0. 0. 0. 0. 1.]\n",
      " [0. 0. 1. 0. 0.]\n",
      " [0. 1. 0. 0. 0.]\n",
      " [0. 1. 0. 0. 0.]\n",
      " [0. 1. 0. 0. 0.]\n",
      " [0. 0. 1. 0. 0.]\n",
      " [0. 0. 0. 1. 0.]\n",
      " [0. 1. 0. 0. 0.]\n",
      " [1. 0. 0. 0. 0.]\n",
      " [1. 0. 0. 0. 0.]\n",
      " [1. 0. 0. 0. 0.]\n",
      " [0. 0. 0. 1. 0.]\n",
      " [0. 0. 0. 0. 1.]\n",
      " [0. 0. 0. 0. 1.]\n",
      " [0. 0. 1. 0. 0.]\n",
      " [0. 0. 1. 0. 0.]\n",
      " [0. 1. 0. 0. 0.]\n",
      " [0. 0. 1. 0. 0.]\n",
      " [1. 0. 0. 0. 0.]\n",
      " [0. 0. 0. 1. 0.]\n",
      " [0. 0. 1. 0. 0.]\n",
      " [0. 0. 1. 0. 0.]\n",
      " [1. 0. 0. 0. 0.]\n",
      " [1. 0. 0. 0. 0.]\n",
      " [0. 0. 0. 1. 0.]\n",
      " [0. 1. 0. 0. 0.]\n",
      " [0. 0. 1. 0. 0.]\n",
      " [0. 1. 0. 0. 0.]\n",
      " [0. 0. 1. 0. 0.]\n",
      " [0. 0. 1. 0. 0.]\n",
      " [0. 0. 0. 0. 1.]\n",
      " [0. 0. 0. 1. 0.]\n",
      " [0. 0. 0. 1. 0.]\n",
      " [0. 0. 1. 0. 0.]\n",
      " [0. 0. 0. 0. 1.]\n",
      " [1. 0. 0. 0. 0.]\n",
      " [1. 0. 0. 0. 0.]\n",
      " [1. 0. 0. 0. 0.]\n",
      " [0. 0. 0. 1. 0.]\n",
      " [0. 0. 0. 1. 0.]\n",
      " [0. 0. 0. 1. 0.]\n",
      " [0. 0. 1. 0. 0.]\n",
      " [1. 0. 0. 0. 0.]\n",
      " [0. 1. 0. 0. 0.]\n",
      " [0. 0. 1. 0. 0.]\n",
      " [0. 0. 0. 1. 0.]\n",
      " [1. 0. 0. 0. 0.]\n",
      " [0. 0. 1. 0. 0.]\n",
      " [0. 0. 1. 0. 0.]\n",
      " [0. 0. 1. 0. 0.]\n",
      " [0. 0. 0. 1. 0.]\n",
      " [0. 0. 1. 0. 0.]\n",
      " [0. 0. 1. 0. 0.]\n",
      " [0. 0. 1. 0. 0.]\n",
      " [0. 0. 0. 0. 1.]\n",
      " [0. 1. 0. 0. 0.]\n",
      " [0. 1. 0. 0. 0.]\n",
      " [0. 0. 0. 1. 0.]\n",
      " [0. 0. 0. 1. 0.]\n",
      " [0. 0. 0. 0. 1.]\n",
      " [0. 1. 0. 0. 0.]\n",
      " [0. 0. 1. 0. 0.]\n",
      " [0. 1. 0. 0. 0.]\n",
      " [0. 1. 0. 0. 0.]\n",
      " [0. 0. 0. 1. 0.]\n",
      " [0. 1. 0. 0. 0.]\n",
      " [1. 0. 0. 0. 0.]\n",
      " [0. 0. 0. 0. 1.]\n",
      " [1. 0. 0. 0. 0.]\n",
      " [0. 0. 0. 1. 0.]\n",
      " [0. 0. 0. 1. 0.]\n",
      " [0. 0. 0. 0. 1.]\n",
      " [0. 0. 0. 0. 1.]\n",
      " [0. 1. 0. 0. 0.]\n",
      " [0. 0. 0. 0. 1.]\n",
      " [0. 0. 0. 1. 0.]\n",
      " [1. 0. 0. 0. 0.]\n",
      " [0. 0. 1. 0. 0.]]\n"
     ]
    }
   ],
   "source": [
    "print(Y_onehot)"
   ]
  },
  {
   "cell_type": "code",
   "execution_count": 33,
   "metadata": {},
   "outputs": [
    {
     "name": "stdout",
     "output_type": "stream",
     "text": [
      "Epoch 1/100\n",
      "132/132 [==============================] - 2s 12ms/step - loss: 2.0206 - acc: 0.1970\n",
      "Epoch 2/100\n",
      "132/132 [==============================] - 0s 362us/step - loss: 1.7541 - acc: 0.2955\n",
      "Epoch 3/100\n",
      "132/132 [==============================] - 0s 311us/step - loss: 1.7454 - acc: 0.2576\n",
      "Epoch 4/100\n",
      "132/132 [==============================] - 0s 353us/step - loss: 1.6589 - acc: 0.3485\n",
      "Epoch 5/100\n",
      "132/132 [==============================] - 0s 425us/step - loss: 1.5508 - acc: 0.3333\n",
      "Epoch 6/100\n",
      "132/132 [==============================] - 0s 350us/step - loss: 1.4228 - acc: 0.4394\n",
      "Epoch 7/100\n",
      "132/132 [==============================] - 0s 365us/step - loss: 1.3850 - acc: 0.3939\n",
      "Epoch 8/100\n",
      "132/132 [==============================] - 0s 374us/step - loss: 1.3307 - acc: 0.4545\n",
      "Epoch 9/100\n",
      "132/132 [==============================] - 0s 384us/step - loss: 1.4013 - acc: 0.4318\n",
      "Epoch 10/100\n",
      "132/132 [==============================] - 0s 336us/step - loss: 1.2370 - acc: 0.4773\n",
      "Epoch 11/100\n",
      "132/132 [==============================] - 0s 495us/step - loss: 1.2283 - acc: 0.4924\n",
      "Epoch 12/100\n",
      "132/132 [==============================] - 0s 346us/step - loss: 1.1972 - acc: 0.5530\n",
      "Epoch 13/100\n",
      "132/132 [==============================] - 0s 367us/step - loss: 1.0864 - acc: 0.5682\n",
      "Epoch 14/100\n",
      "132/132 [==============================] - 0s 362us/step - loss: 0.9629 - acc: 0.6212\n",
      "Epoch 15/100\n",
      "132/132 [==============================] - 0s 389us/step - loss: 0.9598 - acc: 0.6818\n",
      "Epoch 16/100\n",
      "132/132 [==============================] - 0s 341us/step - loss: 0.9315 - acc: 0.6364\n",
      "Epoch 17/100\n",
      "132/132 [==============================] - 0s 387us/step - loss: 0.8968 - acc: 0.6742\n",
      "Epoch 18/100\n",
      "132/132 [==============================] - 0s 389us/step - loss: 0.8126 - acc: 0.6894\n",
      "Epoch 19/100\n",
      "132/132 [==============================] - 0s 393us/step - loss: 0.8568 - acc: 0.7197\n",
      "Epoch 20/100\n",
      "132/132 [==============================] - 0s 407us/step - loss: 0.6873 - acc: 0.7727\n",
      "Epoch 21/100\n",
      "132/132 [==============================] - 0s 369us/step - loss: 0.7158 - acc: 0.7424\n",
      "Epoch 22/100\n",
      "132/132 [==============================] - 0s 354us/step - loss: 0.6358 - acc: 0.7652\n",
      "Epoch 23/100\n",
      "132/132 [==============================] - 0s 410us/step - loss: 0.5877 - acc: 0.8333\n",
      "Epoch 24/100\n",
      "132/132 [==============================] - 0s 365us/step - loss: 0.5014 - acc: 0.8561\n",
      "Epoch 25/100\n",
      "132/132 [==============================] - 0s 401us/step - loss: 0.4717 - acc: 0.8712\n",
      "Epoch 26/100\n",
      "132/132 [==============================] - 0s 340us/step - loss: 0.5192 - acc: 0.8485\n",
      "Epoch 27/100\n",
      "132/132 [==============================] - 0s 374us/step - loss: 0.4542 - acc: 0.8712\n",
      "Epoch 28/100\n",
      "132/132 [==============================] - 0s 327us/step - loss: 0.3725 - acc: 0.9015\n",
      "Epoch 29/100\n",
      "132/132 [==============================] - 0s 351us/step - loss: 0.4005 - acc: 0.8788\n",
      "Epoch 30/100\n",
      "132/132 [==============================] - 0s 377us/step - loss: 0.4737 - acc: 0.8485\n",
      "Epoch 31/100\n",
      "132/132 [==============================] - 0s 387us/step - loss: 0.4479 - acc: 0.8258\n",
      "Epoch 32/100\n",
      "132/132 [==============================] - 0s 369us/step - loss: 0.4507 - acc: 0.8561\n",
      "Epoch 33/100\n",
      "132/132 [==============================] - 0s 354us/step - loss: 0.3518 - acc: 0.8939\n",
      "Epoch 34/100\n",
      "132/132 [==============================] - 0s 339us/step - loss: 0.3093 - acc: 0.9242\n",
      "Epoch 35/100\n",
      "132/132 [==============================] - 0s 351us/step - loss: 0.2803 - acc: 0.9242\n",
      "Epoch 36/100\n",
      "132/132 [==============================] - 0s 388us/step - loss: 0.2714 - acc: 0.9242\n",
      "Epoch 37/100\n",
      "132/132 [==============================] - 0s 382us/step - loss: 0.2483 - acc: 0.9394\n",
      "Epoch 38/100\n",
      "132/132 [==============================] - 0s 361us/step - loss: 0.2583 - acc: 0.9394\n",
      "Epoch 39/100\n",
      "132/132 [==============================] - 0s 375us/step - loss: 0.2324 - acc: 0.9242\n",
      "Epoch 40/100\n",
      "132/132 [==============================] - 0s 383us/step - loss: 0.2122 - acc: 0.9394\n",
      "Epoch 41/100\n",
      "132/132 [==============================] - 0s 344us/step - loss: 0.1712 - acc: 0.9621\n",
      "Epoch 42/100\n",
      "132/132 [==============================] - 0s 324us/step - loss: 0.1681 - acc: 0.9621\n",
      "Epoch 43/100\n",
      "132/132 [==============================] - 0s 389us/step - loss: 0.1349 - acc: 0.9773\n",
      "Epoch 44/100\n",
      "132/132 [==============================] - 0s 357us/step - loss: 0.1663 - acc: 0.9545\n",
      "Epoch 45/100\n",
      "132/132 [==============================] - 0s 374us/step - loss: 0.1665 - acc: 0.9773\n",
      "Epoch 46/100\n",
      "132/132 [==============================] - 0s 399us/step - loss: 0.1902 - acc: 0.9545\n",
      "Epoch 47/100\n",
      "132/132 [==============================] - 0s 495us/step - loss: 0.1379 - acc: 0.9697\n",
      "Epoch 48/100\n",
      "132/132 [==============================] - 0s 360us/step - loss: 0.1210 - acc: 0.9924\n",
      "Epoch 49/100\n",
      "132/132 [==============================] - 0s 387us/step - loss: 0.1446 - acc: 0.9545\n",
      "Epoch 50/100\n",
      "132/132 [==============================] - 0s 336us/step - loss: 0.1672 - acc: 0.9621\n",
      "Epoch 51/100\n",
      "132/132 [==============================] - 0s 382us/step - loss: 0.1057 - acc: 0.9848\n",
      "Epoch 52/100\n",
      "132/132 [==============================] - 0s 343us/step - loss: 0.1127 - acc: 0.9773\n",
      "Epoch 53/100\n",
      "132/132 [==============================] - 0s 430us/step - loss: 0.1722 - acc: 0.9621\n",
      "Epoch 54/100\n",
      "132/132 [==============================] - 0s 395us/step - loss: 0.1202 - acc: 0.9621\n",
      "Epoch 55/100\n",
      "132/132 [==============================] - 0s 348us/step - loss: 0.1035 - acc: 0.9924\n",
      "Epoch 56/100\n",
      "132/132 [==============================] - 0s 318us/step - loss: 0.0970 - acc: 0.9924\n",
      "Epoch 57/100\n",
      "132/132 [==============================] - 0s 283us/step - loss: 0.0645 - acc: 1.0000\n",
      "Epoch 58/100\n",
      "132/132 [==============================] - 0s 314us/step - loss: 0.0988 - acc: 0.9848\n",
      "Epoch 59/100\n",
      "132/132 [==============================] - 0s 270us/step - loss: 0.0958 - acc: 0.9773\n",
      "Epoch 60/100\n",
      "132/132 [==============================] - 0s 303us/step - loss: 0.0922 - acc: 0.9697\n",
      "Epoch 61/100\n",
      "132/132 [==============================] - 0s 335us/step - loss: 0.0525 - acc: 0.9924\n",
      "Epoch 62/100\n",
      "132/132 [==============================] - 0s 303us/step - loss: 0.0644 - acc: 1.0000\n",
      "Epoch 63/100\n",
      "132/132 [==============================] - 0s 274us/step - loss: 0.0586 - acc: 0.9924\n",
      "Epoch 64/100\n",
      "132/132 [==============================] - 0s 289us/step - loss: 0.0639 - acc: 0.9924\n",
      "Epoch 65/100\n",
      "132/132 [==============================] - 0s 327us/step - loss: 0.0819 - acc: 0.9924\n",
      "Epoch 66/100\n",
      "132/132 [==============================] - 0s 302us/step - loss: 0.0534 - acc: 1.0000\n",
      "Epoch 67/100\n",
      "132/132 [==============================] - 0s 300us/step - loss: 0.0410 - acc: 1.0000\n",
      "Epoch 68/100\n",
      "132/132 [==============================] - 0s 353us/step - loss: 0.0509 - acc: 1.0000\n",
      "Epoch 69/100\n",
      "132/132 [==============================] - 0s 282us/step - loss: 0.0528 - acc: 0.9924\n",
      "Epoch 70/100\n",
      "132/132 [==============================] - 0s 325us/step - loss: 0.0678 - acc: 0.9848\n",
      "Epoch 71/100\n",
      "132/132 [==============================] - 0s 268us/step - loss: 0.0647 - acc: 0.9924\n",
      "Epoch 72/100\n",
      "132/132 [==============================] - 0s 308us/step - loss: 0.0483 - acc: 1.0000\n",
      "Epoch 73/100\n",
      "132/132 [==============================] - 0s 283us/step - loss: 0.0700 - acc: 0.9848\n",
      "Epoch 74/100\n",
      "132/132 [==============================] - 0s 316us/step - loss: 0.0344 - acc: 1.0000\n",
      "Epoch 75/100\n",
      "132/132 [==============================] - 0s 360us/step - loss: 0.0845 - acc: 0.9697\n",
      "Epoch 76/100\n",
      "132/132 [==============================] - 0s 329us/step - loss: 0.0482 - acc: 1.0000\n",
      "Epoch 77/100\n",
      "132/132 [==============================] - 0s 374us/step - loss: 0.0771 - acc: 0.9697\n",
      "Epoch 78/100\n",
      "132/132 [==============================] - 0s 319us/step - loss: 0.0409 - acc: 1.0000\n",
      "Epoch 79/100\n",
      "132/132 [==============================] - 0s 355us/step - loss: 0.0475 - acc: 0.9924\n",
      "Epoch 80/100\n",
      "132/132 [==============================] - 0s 361us/step - loss: 0.0370 - acc: 1.0000\n",
      "Epoch 81/100\n",
      "132/132 [==============================] - 0s 322us/step - loss: 0.0336 - acc: 1.0000\n",
      "Epoch 82/100\n",
      "132/132 [==============================] - 0s 279us/step - loss: 0.0380 - acc: 1.0000\n",
      "Epoch 83/100\n"
     ]
    },
    {
     "name": "stdout",
     "output_type": "stream",
     "text": [
      "132/132 [==============================] - 0s 284us/step - loss: 0.0415 - acc: 0.9924\n",
      "Epoch 84/100\n",
      "132/132 [==============================] - 0s 308us/step - loss: 0.0402 - acc: 1.0000\n",
      "Epoch 85/100\n",
      "132/132 [==============================] - 0s 289us/step - loss: 0.0271 - acc: 1.0000\n",
      "Epoch 86/100\n",
      "132/132 [==============================] - 0s 398us/step - loss: 0.0472 - acc: 0.9848\n",
      "Epoch 87/100\n",
      "132/132 [==============================] - 0s 387us/step - loss: 0.0331 - acc: 0.9924\n",
      "Epoch 88/100\n",
      "132/132 [==============================] - 0s 264us/step - loss: 0.0460 - acc: 0.9924\n",
      "Epoch 89/100\n",
      "132/132 [==============================] - 0s 296us/step - loss: 0.0483 - acc: 0.9924\n",
      "Epoch 90/100\n",
      "132/132 [==============================] - 0s 318us/step - loss: 0.0328 - acc: 1.0000\n",
      "Epoch 91/100\n",
      "132/132 [==============================] - 0s 301us/step - loss: 0.0333 - acc: 1.0000\n",
      "Epoch 92/100\n",
      "132/132 [==============================] - 0s 264us/step - loss: 0.0255 - acc: 0.9924\n",
      "Epoch 93/100\n",
      "132/132 [==============================] - 0s 305us/step - loss: 0.0452 - acc: 1.0000\n",
      "Epoch 94/100\n",
      "132/132 [==============================] - 0s 284us/step - loss: 0.0335 - acc: 0.9924\n",
      "Epoch 95/100\n",
      "132/132 [==============================] - 0s 265us/step - loss: 0.0447 - acc: 0.9848\n",
      "Epoch 96/100\n",
      "132/132 [==============================] - 0s 283us/step - loss: 0.0252 - acc: 1.0000\n",
      "Epoch 97/100\n",
      "132/132 [==============================] - 0s 378us/step - loss: 0.0276 - acc: 0.9924\n",
      "Epoch 98/100\n",
      "132/132 [==============================] - 0s 320us/step - loss: 0.0286 - acc: 1.0000\n",
      "Epoch 99/100\n",
      "132/132 [==============================] - 0s 293us/step - loss: 0.0322 - acc: 1.0000\n",
      "Epoch 100/100\n",
      "132/132 [==============================] - 0s 284us/step - loss: 0.0300 - acc: 1.0000\n"
     ]
    },
    {
     "data": {
      "text/plain": [
       "<keras.callbacks.History at 0x7efdb144fb10>"
      ]
     },
     "execution_count": 33,
     "metadata": {},
     "output_type": "execute_result"
    }
   ],
   "source": [
    "model.fit(embedding_matrix_train,Y_onehot,epochs=100)"
   ]
  },
  {
   "cell_type": "code",
   "execution_count": 34,
   "metadata": {},
   "outputs": [
    {
     "name": "stdout",
     "output_type": "stream",
     "text": [
      "['congratulations', 'on', 'your', 'acceptance']\n"
     ]
    }
   ],
   "source": [
    "i=7\n",
    "print(train[0][i])"
   ]
  },
  {
   "cell_type": "code",
   "execution_count": 35,
   "metadata": {},
   "outputs": [],
   "source": [
    "output=np.argmax(model.predict(embedding_matrix_train),axis=1)"
   ]
  },
  {
   "cell_type": "code",
   "execution_count": 36,
   "metadata": {},
   "outputs": [
    {
     "data": {
      "text/plain": [
       "0    3\n",
       "1    2\n",
       "2    3\n",
       "3    0\n",
       "4    4\n",
       "5    0\n",
       "6    3\n",
       "7    2\n",
       "8    3\n",
       "9    1\n",
       "Name: 1, dtype: int64"
      ]
     },
     "execution_count": 36,
     "metadata": {},
     "output_type": "execute_result"
    }
   ],
   "source": [
    "Y_train[:10]"
   ]
  },
  {
   "cell_type": "code",
   "execution_count": 37,
   "metadata": {},
   "outputs": [
    {
     "data": {
      "text/plain": [
       "132"
      ]
     },
     "execution_count": 37,
     "metadata": {},
     "output_type": "execute_result"
    }
   ],
   "source": [
    "np.sum(output==Y_train)"
   ]
  },
  {
   "cell_type": "code",
   "execution_count": 38,
   "metadata": {},
   "outputs": [],
   "source": [
    "text=\"I love ice cream\"\n",
    "text=text.split()\n",
    "x_ = np.zeros((1,10,50))\n",
    "for ix in range(len(text)):\n",
    "    x_[0][ix]=word_to_vec_map[text[ix].lower()]"
   ]
  },
  {
   "cell_type": "code",
   "execution_count": 39,
   "metadata": {},
   "outputs": [],
   "source": [
    "emojji_label_predict=np.argmax(model.predict(x_))"
   ]
  },
  {
   "cell_type": "code",
   "execution_count": 40,
   "metadata": {},
   "outputs": [
    {
     "name": "stdout",
     "output_type": "stream",
     "text": [
      "4\n"
     ]
    }
   ],
   "source": [
    "print(emojji_label_predict)"
   ]
  },
  {
   "cell_type": "code",
   "execution_count": 41,
   "metadata": {},
   "outputs": [
    {
     "name": "stdout",
     "output_type": "stream",
     "text": [
      "🍴\n"
     ]
    }
   ],
   "source": [
    "print(emoji.emojize(emoji_dict[emojji_label_predict],use_aliases=True))"
   ]
  },
  {
   "cell_type": "code",
   "execution_count": 42,
   "metadata": {},
   "outputs": [
    {
     "name": "stdout",
     "output_type": "stream",
     "text": [
      "_________________________________________________________________\n",
      "Layer (type)                 Output Shape              Param #   \n",
      "=================================================================\n",
      "lstm_1 (LSTM)                (None, 10, 128)           91648     \n",
      "_________________________________________________________________\n",
      "dropout_3 (Dropout)          (None, 10, 128)           0         \n",
      "_________________________________________________________________\n",
      "lstm_2 (LSTM)                (None, 128)               131584    \n",
      "_________________________________________________________________\n",
      "dropout_4 (Dropout)          (None, 128)               0         \n",
      "_________________________________________________________________\n",
      "dense_2 (Dense)              (None, 5)                 645       \n",
      "_________________________________________________________________\n",
      "activation_2 (Activation)    (None, 5)                 0         \n",
      "=================================================================\n",
      "Total params: 223,877\n",
      "Trainable params: 223,877\n",
      "Non-trainable params: 0\n",
      "_________________________________________________________________\n"
     ]
    }
   ],
   "source": [
    "model = Sequential()\n",
    "model.add(LSTM(128, input_shape=(10,50), return_sequences=True))\n",
    "model.add(Dropout(0.5))\n",
    "model.add(LSTM(128, return_sequences=False))\n",
    "model.add(Dropout(0.5))\n",
    "model.add(Dense(5))\n",
    "model.add(Activation('softmax'))\n",
    "\n",
    "model.summary()"
   ]
  },
  {
   "cell_type": "code",
   "execution_count": 43,
   "metadata": {},
   "outputs": [],
   "source": [
    "model.compile(loss='categorical_crossentropy', optimizer='adam', metrics=['accuracy'])"
   ]
  },
  {
   "cell_type": "code",
   "execution_count": 44,
   "metadata": {},
   "outputs": [
    {
     "name": "stdout",
     "output_type": "stream",
     "text": [
      "Epoch 1/100\n",
      "132/132 [==============================] - 1s 10ms/step - loss: 1.5904 - acc: 0.2500\n",
      "Epoch 2/100\n",
      "132/132 [==============================] - 0s 1ms/step - loss: 1.5156 - acc: 0.3561\n",
      "Epoch 3/100\n",
      "132/132 [==============================] - 0s 1ms/step - loss: 1.4509 - acc: 0.3712\n",
      "Epoch 4/100\n",
      "132/132 [==============================] - 0s 1ms/step - loss: 1.3993 - acc: 0.4091\n",
      "Epoch 5/100\n",
      "132/132 [==============================] - 0s 1ms/step - loss: 1.2789 - acc: 0.4924\n",
      "Epoch 6/100\n",
      "132/132 [==============================] - 0s 1ms/step - loss: 1.1678 - acc: 0.5227\n",
      "Epoch 7/100\n",
      "132/132 [==============================] - 0s 1ms/step - loss: 1.0314 - acc: 0.5909\n",
      "Epoch 8/100\n",
      "132/132 [==============================] - 0s 1ms/step - loss: 0.9204 - acc: 0.6667\n",
      "Epoch 9/100\n",
      "132/132 [==============================] - 0s 1ms/step - loss: 0.8548 - acc: 0.7045\n",
      "Epoch 10/100\n",
      "132/132 [==============================] - 0s 1ms/step - loss: 0.6694 - acc: 0.7652\n",
      "Epoch 11/100\n",
      "132/132 [==============================] - 0s 1ms/step - loss: 0.6072 - acc: 0.7879\n",
      "Epoch 12/100\n",
      "132/132 [==============================] - 0s 1ms/step - loss: 0.5034 - acc: 0.8333\n",
      "Epoch 13/100\n",
      "132/132 [==============================] - 0s 1ms/step - loss: 0.5119 - acc: 0.8561\n",
      "Epoch 14/100\n",
      "132/132 [==============================] - 0s 1ms/step - loss: 0.4028 - acc: 0.8636\n",
      "Epoch 15/100\n",
      "132/132 [==============================] - 0s 1ms/step - loss: 0.4197 - acc: 0.8333\n",
      "Epoch 16/100\n",
      "132/132 [==============================] - 0s 1ms/step - loss: 0.4282 - acc: 0.8788\n",
      "Epoch 17/100\n",
      "132/132 [==============================] - 0s 1ms/step - loss: 0.4799 - acc: 0.8409\n",
      "Epoch 18/100\n",
      "132/132 [==============================] - 0s 1ms/step - loss: 0.4441 - acc: 0.8182\n",
      "Epoch 19/100\n",
      "132/132 [==============================] - 0s 1ms/step - loss: 0.3239 - acc: 0.9167\n",
      "Epoch 20/100\n",
      "132/132 [==============================] - 0s 1ms/step - loss: 0.3903 - acc: 0.8636\n",
      "Epoch 21/100\n",
      "132/132 [==============================] - 0s 1ms/step - loss: 0.2903 - acc: 0.9167\n",
      "Epoch 22/100\n",
      "132/132 [==============================] - 0s 1ms/step - loss: 0.3566 - acc: 0.8712\n",
      "Epoch 23/100\n",
      "132/132 [==============================] - 0s 1ms/step - loss: 0.3659 - acc: 0.8712\n",
      "Epoch 24/100\n",
      "132/132 [==============================] - 0s 2ms/step - loss: 0.2745 - acc: 0.9015\n",
      "Epoch 25/100\n",
      "132/132 [==============================] - 0s 1ms/step - loss: 0.2533 - acc: 0.9167\n",
      "Epoch 26/100\n",
      "132/132 [==============================] - 0s 1ms/step - loss: 0.2353 - acc: 0.9167\n",
      "Epoch 27/100\n",
      "132/132 [==============================] - 0s 1ms/step - loss: 0.1909 - acc: 0.9394\n",
      "Epoch 28/100\n",
      "132/132 [==============================] - 0s 1ms/step - loss: 0.2005 - acc: 0.9318\n",
      "Epoch 29/100\n",
      "132/132 [==============================] - 0s 2ms/step - loss: 0.2772 - acc: 0.8788\n",
      "Epoch 30/100\n",
      "132/132 [==============================] - 0s 1ms/step - loss: 0.2882 - acc: 0.9167\n",
      "Epoch 31/100\n",
      "132/132 [==============================] - 0s 1ms/step - loss: 0.2381 - acc: 0.9318\n",
      "Epoch 32/100\n",
      "132/132 [==============================] - 0s 1ms/step - loss: 0.3807 - acc: 0.8409\n",
      "Epoch 33/100\n",
      "132/132 [==============================] - 0s 2ms/step - loss: 0.2275 - acc: 0.9167\n",
      "Epoch 34/100\n",
      "132/132 [==============================] - 0s 1ms/step - loss: 0.2926 - acc: 0.8939\n",
      "Epoch 35/100\n",
      "132/132 [==============================] - 0s 1ms/step - loss: 0.2737 - acc: 0.8864\n",
      "Epoch 36/100\n",
      "132/132 [==============================] - 0s 1ms/step - loss: 0.1601 - acc: 0.9697\n",
      "Epoch 37/100\n",
      "132/132 [==============================] - 0s 1ms/step - loss: 0.1802 - acc: 0.9394\n",
      "Epoch 38/100\n",
      "132/132 [==============================] - 0s 2ms/step - loss: 0.1717 - acc: 0.9394\n",
      "Epoch 39/100\n",
      "132/132 [==============================] - 0s 1ms/step - loss: 0.1382 - acc: 0.9545\n",
      "Epoch 40/100\n",
      "132/132 [==============================] - 0s 1ms/step - loss: 0.1846 - acc: 0.9545\n",
      "Epoch 41/100\n",
      "132/132 [==============================] - 0s 1ms/step - loss: 0.1053 - acc: 0.9697\n",
      "Epoch 42/100\n",
      "132/132 [==============================] - 0s 1ms/step - loss: 0.0949 - acc: 0.9773\n",
      "Epoch 43/100\n",
      "132/132 [==============================] - 0s 1ms/step - loss: 0.0668 - acc: 0.9924\n",
      "Epoch 44/100\n",
      "132/132 [==============================] - 0s 1ms/step - loss: 0.0614 - acc: 0.9773\n",
      "Epoch 45/100\n",
      "132/132 [==============================] - 0s 1ms/step - loss: 0.0550 - acc: 0.9924\n",
      "Epoch 46/100\n",
      "132/132 [==============================] - 0s 1ms/step - loss: 0.0380 - acc: 1.0000\n",
      "Epoch 47/100\n",
      "132/132 [==============================] - 0s 1ms/step - loss: 0.0320 - acc: 1.0000\n",
      "Epoch 48/100\n",
      "132/132 [==============================] - 0s 1ms/step - loss: 0.0309 - acc: 1.0000\n",
      "Epoch 49/100\n",
      "132/132 [==============================] - 0s 1ms/step - loss: 0.0247 - acc: 1.0000\n",
      "Epoch 50/100\n",
      "132/132 [==============================] - 0s 1ms/step - loss: 0.0190 - acc: 1.0000\n",
      "Epoch 51/100\n",
      "132/132 [==============================] - 0s 1ms/step - loss: 0.0187 - acc: 1.0000\n",
      "Epoch 52/100\n",
      "132/132 [==============================] - 0s 1ms/step - loss: 0.0170 - acc: 1.0000\n",
      "Epoch 53/100\n",
      "132/132 [==============================] - 0s 1ms/step - loss: 0.0121 - acc: 1.0000\n",
      "Epoch 54/100\n",
      "132/132 [==============================] - 0s 1ms/step - loss: 0.0118 - acc: 1.0000\n",
      "Epoch 55/100\n",
      "132/132 [==============================] - 0s 1ms/step - loss: 0.0077 - acc: 1.0000\n",
      "Epoch 56/100\n",
      "132/132 [==============================] - 0s 1ms/step - loss: 0.0146 - acc: 0.9924\n",
      "Epoch 57/100\n",
      "132/132 [==============================] - 0s 1ms/step - loss: 0.0103 - acc: 1.0000\n",
      "Epoch 58/100\n",
      "132/132 [==============================] - 0s 1ms/step - loss: 0.0068 - acc: 1.0000\n",
      "Epoch 59/100\n",
      "132/132 [==============================] - 0s 1ms/step - loss: 0.0059 - acc: 1.0000\n",
      "Epoch 60/100\n",
      "132/132 [==============================] - 0s 1ms/step - loss: 0.0062 - acc: 1.0000\n",
      "Epoch 61/100\n",
      "132/132 [==============================] - 0s 1ms/step - loss: 0.0044 - acc: 1.0000\n",
      "Epoch 62/100\n",
      "132/132 [==============================] - 0s 1ms/step - loss: 0.0056 - acc: 1.0000\n",
      "Epoch 63/100\n",
      "132/132 [==============================] - 0s 1ms/step - loss: 0.0033 - acc: 1.0000\n",
      "Epoch 64/100\n",
      "132/132 [==============================] - 0s 1ms/step - loss: 0.0056 - acc: 1.0000\n",
      "Epoch 65/100\n",
      "132/132 [==============================] - 0s 1ms/step - loss: 0.0038 - acc: 1.0000\n",
      "Epoch 66/100\n",
      "132/132 [==============================] - 0s 1ms/step - loss: 0.0032 - acc: 1.0000\n",
      "Epoch 67/100\n",
      "132/132 [==============================] - 0s 1ms/step - loss: 0.0029 - acc: 1.0000\n",
      "Epoch 68/100\n",
      "132/132 [==============================] - 0s 1ms/step - loss: 0.0045 - acc: 1.0000\n",
      "Epoch 69/100\n",
      "132/132 [==============================] - 0s 1ms/step - loss: 0.0033 - acc: 1.0000\n",
      "Epoch 70/100\n",
      "132/132 [==============================] - 0s 1ms/step - loss: 0.0043 - acc: 1.0000\n",
      "Epoch 71/100\n",
      "132/132 [==============================] - 0s 1ms/step - loss: 0.0024 - acc: 1.0000\n",
      "Epoch 72/100\n",
      "132/132 [==============================] - 0s 1ms/step - loss: 0.0016 - acc: 1.0000\n",
      "Epoch 73/100\n",
      "132/132 [==============================] - 0s 1ms/step - loss: 0.0027 - acc: 1.0000\n",
      "Epoch 74/100\n",
      "132/132 [==============================] - 0s 2ms/step - loss: 0.0021 - acc: 1.0000\n",
      "Epoch 75/100\n",
      "132/132 [==============================] - 0s 1ms/step - loss: 0.0054 - acc: 1.0000\n",
      "Epoch 76/100\n",
      "132/132 [==============================] - 0s 1ms/step - loss: 0.0217 - acc: 0.9924\n",
      "Epoch 77/100\n",
      "132/132 [==============================] - 0s 1ms/step - loss: 0.0020 - acc: 1.0000\n",
      "Epoch 78/100\n",
      "132/132 [==============================] - 0s 1ms/step - loss: 0.0484 - acc: 0.9848\n",
      "Epoch 79/100\n",
      "132/132 [==============================] - 0s 1ms/step - loss: 0.3615 - acc: 0.9318\n",
      "Epoch 80/100\n",
      "132/132 [==============================] - 0s 2ms/step - loss: 0.3294 - acc: 0.9242\n",
      "Epoch 81/100\n",
      "132/132 [==============================] - 0s 1ms/step - loss: 0.2606 - acc: 0.9242\n",
      "Epoch 82/100\n",
      "132/132 [==============================] - 0s 1ms/step - loss: 0.3931 - acc: 0.9091\n",
      "Epoch 83/100\n",
      "132/132 [==============================] - 0s 1ms/step - loss: 0.1392 - acc: 0.9621\n",
      "Epoch 84/100\n",
      "132/132 [==============================] - 0s 1ms/step - loss: 0.1096 - acc: 0.9621\n",
      "Epoch 85/100\n"
     ]
    },
    {
     "name": "stdout",
     "output_type": "stream",
     "text": [
      "132/132 [==============================] - 0s 1ms/step - loss: 0.0775 - acc: 0.9848\n",
      "Epoch 86/100\n",
      "132/132 [==============================] - 0s 1ms/step - loss: 0.0724 - acc: 0.9924\n",
      "Epoch 87/100\n",
      "132/132 [==============================] - 0s 1ms/step - loss: 0.0481 - acc: 0.9848\n",
      "Epoch 88/100\n",
      "132/132 [==============================] - 0s 1ms/step - loss: 0.0425 - acc: 0.9924\n",
      "Epoch 89/100\n",
      "132/132 [==============================] - 0s 1ms/step - loss: 0.1458 - acc: 0.9470\n",
      "Epoch 90/100\n",
      "132/132 [==============================] - 0s 1ms/step - loss: 0.0291 - acc: 1.0000\n",
      "Epoch 91/100\n",
      "132/132 [==============================] - 0s 1ms/step - loss: 0.0714 - acc: 0.9848\n",
      "Epoch 92/100\n",
      "132/132 [==============================] - 0s 1ms/step - loss: 0.0165 - acc: 1.0000\n",
      "Epoch 93/100\n",
      "132/132 [==============================] - 0s 1ms/step - loss: 0.0300 - acc: 0.9924\n",
      "Epoch 94/100\n",
      "132/132 [==============================] - 0s 1ms/step - loss: 0.0187 - acc: 1.0000\n",
      "Epoch 95/100\n",
      "132/132 [==============================] - 0s 1ms/step - loss: 0.0105 - acc: 1.0000\n",
      "Epoch 96/100\n",
      "132/132 [==============================] - 0s 1ms/step - loss: 0.0103 - acc: 1.0000\n",
      "Epoch 97/100\n",
      "132/132 [==============================] - 0s 1ms/step - loss: 0.0083 - acc: 1.0000\n",
      "Epoch 98/100\n",
      "132/132 [==============================] - 0s 1ms/step - loss: 0.0046 - acc: 1.0000\n",
      "Epoch 99/100\n",
      "132/132 [==============================] - 0s 1ms/step - loss: 0.0092 - acc: 1.0000\n",
      "Epoch 100/100\n",
      "132/132 [==============================] - 0s 1ms/step - loss: 0.0050 - acc: 1.0000\n"
     ]
    },
    {
     "data": {
      "text/plain": [
       "<keras.callbacks.History at 0x7efdb158b050>"
      ]
     },
     "execution_count": 44,
     "metadata": {},
     "output_type": "execute_result"
    }
   ],
   "source": [
    "model.fit(embedding_matrix_train,Y_onehot,epochs=100)"
   ]
  },
  {
   "cell_type": "code",
   "execution_count": 45,
   "metadata": {},
   "outputs": [],
   "source": [
    "output=np.argmax(model.predict(embedding_matrix_train),axis=1)"
   ]
  },
  {
   "cell_type": "code",
   "execution_count": 46,
   "metadata": {},
   "outputs": [
    {
     "data": {
      "text/plain": [
       "132"
      ]
     },
     "execution_count": 46,
     "metadata": {},
     "output_type": "execute_result"
    }
   ],
   "source": [
    "np.sum(output==Y_train)"
   ]
  },
  {
   "cell_type": "code",
   "execution_count": 48,
   "metadata": {},
   "outputs": [],
   "source": [
    "text=\"aashish is my best friend\"\n",
    "text=text.split()\n",
    "x_ = np.zeros((1,10,50))\n",
    "for ix in range(len(text)):\n",
    "    x_[0][ix]=word_to_vec_map[text[ix].lower()]"
   ]
  },
  {
   "cell_type": "code",
   "execution_count": 49,
   "metadata": {},
   "outputs": [],
   "source": [
    "emojji_label_predict=np.argmax(model.predict(x_))"
   ]
  },
  {
   "cell_type": "code",
   "execution_count": 50,
   "metadata": {},
   "outputs": [
    {
     "name": "stdout",
     "output_type": "stream",
     "text": [
      "0\n"
     ]
    }
   ],
   "source": [
    "print(emojji_label_predict)"
   ]
  },
  {
   "cell_type": "code",
   "execution_count": 51,
   "metadata": {},
   "outputs": [
    {
     "name": "stdout",
     "output_type": "stream",
     "text": [
      "💓\n"
     ]
    }
   ],
   "source": [
    "print(emoji.emojize(emoji_dict[emojji_label_predict],use_aliases=True))"
   ]
  },
  {
   "cell_type": "code",
   "execution_count": null,
   "metadata": {},
   "outputs": [],
   "source": []
  }
 ],
 "metadata": {
  "kernelspec": {
   "display_name": "Python 2",
   "language": "python",
   "name": "python2"
  },
  "language_info": {
   "codemirror_mode": {
    "name": "ipython",
    "version": 2
   },
   "file_extension": ".py",
   "mimetype": "text/x-python",
   "name": "python",
   "nbconvert_exporter": "python",
   "pygments_lexer": "ipython2",
   "version": "2.7.15rc1"
  }
 },
 "nbformat": 4,
 "nbformat_minor": 2
}
